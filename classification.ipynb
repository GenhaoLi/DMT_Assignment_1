{
 "cells": [
  {
   "metadata": {
    "ExecuteTime": {
     "end_time": "2025-04-18T19:56:43.760383Z",
     "start_time": "2025-04-18T19:56:43.757081Z"
    }
   },
   "cell_type": "code",
   "source": "import pandas as pd",
   "id": "d0b682e1d41f7dd9",
   "outputs": [],
   "execution_count": 207
  },
  {
   "metadata": {
    "ExecuteTime": {
     "end_time": "2025-04-18T19:56:43.790047Z",
     "start_time": "2025-04-18T19:56:43.785066Z"
    }
   },
   "cell_type": "code",
   "source": [
    "df = pd.read_csv('cleaned.csv')\n",
    "df.columns = df.columns.str.strip()"
   ],
   "id": "b50c3e2a267b677c",
   "outputs": [],
   "execution_count": 208
  },
  {
   "metadata": {},
   "cell_type": "markdown",
   "source": [
    "## Target: What programme are you in?\n",
    "\n",
    "Predict which program the student is in, based on the 4 courses and use of chatgpt\n",
    "\n",
    "because the corr in the heatmap is high (not now though), and in reality courses that student take can indeed characterize the program they are in\n"
   ],
   "id": "5f9805b89bfc1d7"
  },
  {
   "metadata": {
    "ExecuteTime": {
     "end_time": "2025-04-18T19:56:43.807723Z",
     "start_time": "2025-04-18T19:56:43.802622Z"
    }
   },
   "cell_type": "code",
   "source": [
    "target_col = 'What programme are you in?'\n",
    "feature_cols = ['Have you taken a course on machine learning?',\n",
    "                'Have you taken a course on information retrieval?',\n",
    "                'Have you taken a course on statistics?',\n",
    "                'Have you taken a course on databases?',\n",
    "                'I have used ChatGPT to help me with some of my study assignments']\n",
    "\n",
    "# take a look at the target column and the features\n",
    "def check_value_counts(df: pd.DataFrame, cols: list[str]):\n",
    "    for col in cols:\n",
    "        print(df[col].value_counts(), '\\n')\n",
    "check_value_counts(df, [*feature_cols, target_col])"
   ],
   "id": "7d5f5dec57f74453",
   "outputs": [
    {
     "name": "stdout",
     "output_type": "stream",
     "text": [
      "Have you taken a course on machine learning?\n",
      "yes        193\n",
      "no          50\n",
      "unknown      2\n",
      "Name: count, dtype: int64 \n",
      "\n",
      "Have you taken a course on information retrieval?\n",
      "0          120\n",
      "1          101\n",
      "unknown     24\n",
      "Name: count, dtype: int64 \n",
      "\n",
      "Have you taken a course on statistics?\n",
      "0          170\n",
      "1           46\n",
      "unknown     29\n",
      "Name: count, dtype: int64 \n",
      "\n",
      "Have you taken a course on databases?\n",
      "1          170\n",
      "0           67\n",
      "unknown      8\n",
      "Name: count, dtype: int64 \n",
      "\n",
      "I have used ChatGPT to help me with some of my study assignments\n",
      "1         189\n",
      "unkown     41\n",
      "0          15\n",
      "Name: count, dtype: int64 \n",
      "\n",
      "What programme are you in?\n",
      "computer science             114\n",
      "artificial intelligence      100\n",
      "computational science         17\n",
      "finance                        7\n",
      "other                          4\n",
      "human language technology      2\n",
      "unknown                        1\n",
      "Name: count, dtype: int64 \n",
      "\n"
     ]
    }
   ],
   "execution_count": 209
  },
  {
   "metadata": {},
   "cell_type": "markdown",
   "source": "Encoding the features and the target variable",
   "id": "374ceef51f62a41f"
  },
  {
   "metadata": {
    "ExecuteTime": {
     "end_time": "2025-04-18T19:56:43.833317Z",
     "start_time": "2025-04-18T19:56:43.828519Z"
    }
   },
   "cell_type": "code",
   "source": [
    "for col in feature_cols:\n",
    "    df[col] = df[col].map({'yes': 1, '1': 1,\n",
    "                           'no': 0, '0': 0,\n",
    "                           'unknown': 0.5, 'unkown': 0.5})\n",
    "check_value_counts(df, feature_cols)"
   ],
   "id": "445c5da3daa26e7f",
   "outputs": [
    {
     "name": "stdout",
     "output_type": "stream",
     "text": [
      "Have you taken a course on machine learning?\n",
      "1.0    193\n",
      "0.0     50\n",
      "0.5      2\n",
      "Name: count, dtype: int64 \n",
      "\n",
      "Have you taken a course on information retrieval?\n",
      "0.0    120\n",
      "1.0    101\n",
      "0.5     24\n",
      "Name: count, dtype: int64 \n",
      "\n",
      "Have you taken a course on statistics?\n",
      "0.0    170\n",
      "1.0     46\n",
      "0.5     29\n",
      "Name: count, dtype: int64 \n",
      "\n",
      "Have you taken a course on databases?\n",
      "1.0    170\n",
      "0.0     67\n",
      "0.5      8\n",
      "Name: count, dtype: int64 \n",
      "\n",
      "I have used ChatGPT to help me with some of my study assignments\n",
      "1.0    189\n",
      "0.5     41\n",
      "0.0     15\n",
      "Name: count, dtype: int64 \n",
      "\n"
     ]
    }
   ],
   "execution_count": 210
  },
  {
   "metadata": {
    "ExecuteTime": {
     "end_time": "2025-04-18T19:56:43.848794Z",
     "start_time": "2025-04-18T19:56:43.845382Z"
    }
   },
   "cell_type": "code",
   "source": [
    "major_classes = ['computer science', 'artificial intelligence']\n",
    "df[target_col] = df[target_col].apply(lambda x: x if x in major_classes else 'other')\n",
    "df[target_col].value_counts()\n"
   ],
   "id": "3337d2d99318bbe",
   "outputs": [
    {
     "data": {
      "text/plain": [
       "What programme are you in?\n",
       "computer science           114\n",
       "artificial intelligence    100\n",
       "other                       31\n",
       "Name: count, dtype: int64"
      ]
     },
     "execution_count": 211,
     "metadata": {},
     "output_type": "execute_result"
    }
   ],
   "execution_count": 211
  },
  {
   "metadata": {
    "ExecuteTime": {
     "end_time": "2025-04-18T19:56:43.880605Z",
     "start_time": "2025-04-18T19:56:43.877181Z"
    }
   },
   "cell_type": "code",
   "source": [
    "\n",
    "from sklearn.preprocessing import LabelEncoder\n",
    "le_program = LabelEncoder()\n",
    "encoded_target_col = 'encoded_program'\n",
    "df[encoded_target_col] = le_program.fit_transform(df[target_col])\n",
    "check_value_counts(df, [encoded_target_col])"
   ],
   "id": "3fc71eb8711610ae",
   "outputs": [
    {
     "name": "stdout",
     "output_type": "stream",
     "text": [
      "encoded_program\n",
      "1    114\n",
      "0    100\n",
      "2     31\n",
      "Name: count, dtype: int64 \n",
      "\n"
     ]
    }
   ],
   "execution_count": 212
  },
  {
   "metadata": {},
   "cell_type": "markdown",
   "source": "## Train-test split",
   "id": "b57f7142a2e6c19b"
  },
  {
   "metadata": {
    "ExecuteTime": {
     "end_time": "2025-04-18T19:56:43.917998Z",
     "start_time": "2025-04-18T19:56:43.914393Z"
    }
   },
   "cell_type": "code",
   "source": [
    "from sklearn.model_selection import train_test_split\n",
    "X_train, X_test, y_train, y_test = train_test_split(df[feature_cols], df[encoded_target_col], test_size=0.2, random_state=123)\n",
    "X_train.shape, X_test.shape, y_train.shape, y_test.shape"
   ],
   "id": "d72b09cd6fb47bd9",
   "outputs": [
    {
     "data": {
      "text/plain": [
       "((196, 5), (49, 5), (196,), (49,))"
      ]
     },
     "execution_count": 213,
     "metadata": {},
     "output_type": "execute_result"
    }
   ],
   "execution_count": 213
  },
  {
   "metadata": {
    "ExecuteTime": {
     "end_time": "2025-04-18T19:56:43.938578Z",
     "start_time": "2025-04-18T19:56:43.936291Z"
    }
   },
   "cell_type": "code",
   "source": "set(y_train), set(y_test)",
   "id": "e069aeca553afa9e",
   "outputs": [
    {
     "data": {
      "text/plain": [
       "({0, 1, 2}, {0, 1, 2})"
      ]
     },
     "execution_count": 214,
     "metadata": {},
     "output_type": "execute_result"
    }
   ],
   "execution_count": 214
  },
  {
   "metadata": {},
   "cell_type": "markdown",
   "source": [
    "## Apply two classification algorithms\n",
    "### Random Forest"
   ],
   "id": "806d69b6a09c3d86"
  },
  {
   "metadata": {
    "ExecuteTime": {
     "end_time": "2025-04-18T19:56:44.022848Z",
     "start_time": "2025-04-18T19:56:43.964503Z"
    }
   },
   "cell_type": "code",
   "source": [
    "from sklearn.ensemble import RandomForestClassifier\n",
    "from sklearn.metrics import classification_report, accuracy_score, f1_score\n",
    "\n",
    "rf = RandomForestClassifier(\n",
    "    n_estimators=100,\n",
    "    class_weight='balanced',\n",
    "    random_state=1,\n",
    ")\n",
    "rf.fit(X_train, y_train)\n",
    "\n",
    "y_pred_rf = rf.predict(X_test)\n",
    "y_pred_rf_labels = le_program.inverse_transform(y_pred_rf)\n",
    "pd.Series(y_pred_rf_labels).value_counts()"
   ],
   "id": "d8a63d71d53717bc",
   "outputs": [
    {
     "data": {
      "text/plain": [
       "artificial intelligence    23\n",
       "computer science           21\n",
       "other                       5\n",
       "Name: count, dtype: int64"
      ]
     },
     "execution_count": 215,
     "metadata": {},
     "output_type": "execute_result"
    }
   ],
   "execution_count": 215
  },
  {
   "metadata": {},
   "cell_type": "markdown",
   "source": "We adjusted the hyperparameters a bit to avoid the case where no `other` class is predicted, which could also cause insufficient data for `classification_report`\n",
   "id": "be7a3d3c5924cfc4"
  },
  {
   "metadata": {
    "ExecuteTime": {
     "end_time": "2025-04-18T19:56:44.057394Z",
     "start_time": "2025-04-18T19:56:44.050054Z"
    }
   },
   "cell_type": "code",
   "source": [
    "print(\"Accuracy:\", accuracy_score(y_test, y_pred_rf))\n",
    "print(\"F1 Score (macro):\", f1_score(y_test, y_pred_rf, average='weighted'))\n",
    "print(\"\\nClassification Report:\\n\", classification_report(y_test, y_pred_rf))"
   ],
   "id": "5ba57d98f4f935c3",
   "outputs": [
    {
     "name": "stdout",
     "output_type": "stream",
     "text": [
      "Accuracy: 0.5102040816326531\n",
      "F1 Score (macro): 0.5034761157210137\n",
      "\n",
      "Classification Report:\n",
      "               precision    recall  f1-score   support\n",
      "\n",
      "           0       0.39      0.56      0.46        16\n",
      "           1       0.71      0.62      0.67        24\n",
      "           2       0.20      0.11      0.14         9\n",
      "\n",
      "    accuracy                           0.51        49\n",
      "   macro avg       0.44      0.43      0.42        49\n",
      "weighted avg       0.51      0.51      0.50        49\n",
      "\n"
     ]
    }
   ],
   "execution_count": 216
  },
  {
   "metadata": {},
   "cell_type": "markdown",
   "source": "### K-Nearest Neighbors",
   "id": "83051169e007aaf6"
  },
  {
   "metadata": {
    "ExecuteTime": {
     "end_time": "2025-04-18T19:56:44.086057Z",
     "start_time": "2025-04-18T19:56:44.078029Z"
    }
   },
   "cell_type": "code",
   "source": [
    "from sklearn.neighbors import KNeighborsClassifier\n",
    "from sklearn.metrics import classification_report, accuracy_score, f1_score\n",
    "\n",
    "knn = KNeighborsClassifier(n_neighbors=3)\n",
    "knn.fit(X_train, y_train)\n",
    "\n",
    "y_pred_knn = knn.predict(X_test)\n",
    "# transform back to the original labels\n",
    "y_pred_knn_labels = le_program.inverse_transform(y_pred_knn)\n",
    "pd.Series(y_pred_knn_labels).value_counts()"
   ],
   "id": "80bb0f7051e9d940",
   "outputs": [
    {
     "data": {
      "text/plain": [
       "artificial intelligence    32\n",
       "computer science           13\n",
       "other                       4\n",
       "Name: count, dtype: int64"
      ]
     },
     "execution_count": 217,
     "metadata": {},
     "output_type": "execute_result"
    }
   ],
   "execution_count": 217
  },
  {
   "metadata": {},
   "cell_type": "markdown",
   "source": [
    "## Performance\n",
    "Metrics:\n",
    "- Accuracy: overall correctness\n",
    "- F1 Score (weighted): accounts for class imbalance, since class `other` is much less than the other two classes\n",
    "- `classification_report` shows precision, recall, F1 and support for each class"
   ],
   "id": "6c76c8abf0fda75e"
  },
  {
   "metadata": {
    "ExecuteTime": {
     "end_time": "2025-04-18T19:56:44.123290Z",
     "start_time": "2025-04-18T19:56:44.120537Z"
    }
   },
   "cell_type": "code",
   "source": [
    "def print_metrics(y_test, y_pred):\n",
    "    print(\"Accuracy:\", accuracy_score(y_test, y_pred))\n",
    "    print(\"F1 Score (macro):\", f1_score(y_test, y_pred, average='weighted'))\n",
    "    print(\"\\nClassification Report:\\n\", classification_report(y_test, y_pred))"
   ],
   "id": "6175ab0ebfbe8cad",
   "outputs": [],
   "execution_count": 218
  },
  {
   "metadata": {},
   "cell_type": "markdown",
   "source": "### Random Forest Performance",
   "id": "190c8ffe39818340"
  },
  {
   "metadata": {
    "ExecuteTime": {
     "end_time": "2025-04-18T19:56:44.157659Z",
     "start_time": "2025-04-18T19:56:44.151540Z"
    }
   },
   "cell_type": "code",
   "source": "print_metrics(y_test, y_pred_rf)",
   "id": "75a1e80ea74150d5",
   "outputs": [
    {
     "name": "stdout",
     "output_type": "stream",
     "text": [
      "Accuracy: 0.5102040816326531\n",
      "F1 Score (macro): 0.5034761157210137\n",
      "\n",
      "Classification Report:\n",
      "               precision    recall  f1-score   support\n",
      "\n",
      "           0       0.39      0.56      0.46        16\n",
      "           1       0.71      0.62      0.67        24\n",
      "           2       0.20      0.11      0.14         9\n",
      "\n",
      "    accuracy                           0.51        49\n",
      "   macro avg       0.44      0.43      0.42        49\n",
      "weighted avg       0.51      0.51      0.50        49\n",
      "\n"
     ]
    }
   ],
   "execution_count": 219
  },
  {
   "metadata": {},
   "cell_type": "markdown",
   "source": "### K-Nearest Neighbors Performance",
   "id": "9c058aa019884de0"
  },
  {
   "metadata": {
    "ExecuteTime": {
     "end_time": "2025-04-18T19:56:44.242774Z",
     "start_time": "2025-04-18T19:56:44.236309Z"
    }
   },
   "cell_type": "code",
   "source": "print_metrics(y_test, y_pred_knn)",
   "id": "78fe384947a9ff36",
   "outputs": [
    {
     "name": "stdout",
     "output_type": "stream",
     "text": [
      "Accuracy: 0.4897959183673469\n",
      "F1 Score (macro): 0.4863167720310578\n",
      "\n",
      "Classification Report:\n",
      "               precision    recall  f1-score   support\n",
      "\n",
      "           0       0.38      0.75      0.50        16\n",
      "           1       0.69      0.38      0.49        24\n",
      "           2       0.75      0.33      0.46         9\n",
      "\n",
      "    accuracy                           0.49        49\n",
      "   macro avg       0.61      0.49      0.48        49\n",
      "weighted avg       0.60      0.49      0.49        49\n",
      "\n"
     ]
    }
   ],
   "execution_count": 220
  },
  {
   "metadata": {},
   "cell_type": "markdown",
   "source": "TODO: optimization of the hyperparameters, using `GridSearchCV` or manually?",
   "id": "2b5eaa9086edd5ef"
  }
 ],
 "metadata": {
  "kernelspec": {
   "name": "python3",
   "language": "python",
   "display_name": "Python 3 (ipykernel)"
  }
 },
 "nbformat": 5,
 "nbformat_minor": 9
}
