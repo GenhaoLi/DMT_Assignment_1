{
 "cells": [
  {
   "metadata": {
    "ExecuteTime": {
     "end_time": "2025-04-20T22:08:07.220585Z",
     "start_time": "2025-04-20T22:08:07.215195Z"
    }
   },
   "cell_type": "code",
   "source": "import pandas as pd",
   "id": "d0b682e1d41f7dd9",
   "outputs": [],
   "execution_count": 181
  },
  {
   "metadata": {
    "ExecuteTime": {
     "end_time": "2025-04-20T22:08:07.236268Z",
     "start_time": "2025-04-20T22:08:07.223681Z"
    }
   },
   "cell_type": "code",
   "source": [
    "df = pd.read_csv('cleaned.csv')\n",
    "df.columns = df.columns.str.strip()"
   ],
   "id": "b50c3e2a267b677c",
   "outputs": [],
   "execution_count": 182
  },
  {
   "metadata": {},
   "cell_type": "markdown",
   "source": [
    "## Target: What programme are you in?\n",
    "\n",
    "Predict which program the student is in, based on the 4 courses and use of chatgpt\n",
    "\n",
    "because the corr in the heatmap is high (not now though), and in reality courses that student take can indeed characterize the program they are in\n"
   ],
   "id": "5f9805b89bfc1d7"
  },
  {
   "metadata": {
    "ExecuteTime": {
     "end_time": "2025-04-20T22:08:07.257993Z",
     "start_time": "2025-04-20T22:08:07.252455Z"
    }
   },
   "cell_type": "code",
   "source": [
    "target_col = 'What programme are you in?'\n",
    "feature_cols = ['Have you taken a course on machine learning?',\n",
    "                'Have you taken a course on information retrieval?',\n",
    "                'Have you taken a course on statistics?',\n",
    "                'Have you taken a course on databases?',\n",
    "                'I have used ChatGPT to help me with some of my study assignments']\n",
    "\n",
    "# take a look at the target column and the features\n",
    "def check_value_counts(df: pd.DataFrame, cols: list[str]):\n",
    "    for col in cols:\n",
    "        print(df[col].value_counts(), '\\n')\n",
    "check_value_counts(df, [*feature_cols, target_col])"
   ],
   "id": "7d5f5dec57f74453",
   "outputs": [
    {
     "name": "stdout",
     "output_type": "stream",
     "text": [
      "Have you taken a course on machine learning?\n",
      "yes        193\n",
      "no          50\n",
      "unknown      2\n",
      "Name: count, dtype: int64 \n",
      "\n",
      "Have you taken a course on information retrieval?\n",
      "0          120\n",
      "1          101\n",
      "unknown     24\n",
      "Name: count, dtype: int64 \n",
      "\n",
      "Have you taken a course on statistics?\n",
      "0          170\n",
      "1           46\n",
      "unknown     29\n",
      "Name: count, dtype: int64 \n",
      "\n",
      "Have you taken a course on databases?\n",
      "1          170\n",
      "0           67\n",
      "unknown      8\n",
      "Name: count, dtype: int64 \n",
      "\n",
      "I have used ChatGPT to help me with some of my study assignments\n",
      "1         189\n",
      "unkown     41\n",
      "0          15\n",
      "Name: count, dtype: int64 \n",
      "\n",
      "What programme are you in?\n",
      "computer science             114\n",
      "artificial intelligence      100\n",
      "computational science         17\n",
      "finance                        7\n",
      "other                          4\n",
      "human language technology      2\n",
      "unknown                        1\n",
      "Name: count, dtype: int64 \n",
      "\n"
     ]
    }
   ],
   "execution_count": 183
  },
  {
   "metadata": {},
   "cell_type": "markdown",
   "source": "Encoding the features and the target variable",
   "id": "374ceef51f62a41f"
  },
  {
   "metadata": {
    "ExecuteTime": {
     "end_time": "2025-04-20T22:08:07.305844Z",
     "start_time": "2025-04-20T22:08:07.301060Z"
    }
   },
   "cell_type": "code",
   "source": [
    "for col in feature_cols:\n",
    "    df[col] = df[col].map({'yes': 1, '1': 1,\n",
    "                           'no': 0, '0': 0,\n",
    "                           'unknown': 0.5, 'unkown': 0.5})\n",
    "check_value_counts(df, feature_cols)"
   ],
   "id": "445c5da3daa26e7f",
   "outputs": [
    {
     "name": "stdout",
     "output_type": "stream",
     "text": [
      "Have you taken a course on machine learning?\n",
      "1.0    193\n",
      "0.0     50\n",
      "0.5      2\n",
      "Name: count, dtype: int64 \n",
      "\n",
      "Have you taken a course on information retrieval?\n",
      "0.0    120\n",
      "1.0    101\n",
      "0.5     24\n",
      "Name: count, dtype: int64 \n",
      "\n",
      "Have you taken a course on statistics?\n",
      "0.0    170\n",
      "1.0     46\n",
      "0.5     29\n",
      "Name: count, dtype: int64 \n",
      "\n",
      "Have you taken a course on databases?\n",
      "1.0    170\n",
      "0.0     67\n",
      "0.5      8\n",
      "Name: count, dtype: int64 \n",
      "\n",
      "I have used ChatGPT to help me with some of my study assignments\n",
      "1.0    189\n",
      "0.5     41\n",
      "0.0     15\n",
      "Name: count, dtype: int64 \n",
      "\n"
     ]
    }
   ],
   "execution_count": 184
  },
  {
   "metadata": {
    "ExecuteTime": {
     "end_time": "2025-04-20T22:08:07.353553Z",
     "start_time": "2025-04-20T22:08:07.349300Z"
    }
   },
   "cell_type": "code",
   "source": [
    "major_classes = ['computer science', 'artificial intelligence']\n",
    "df[target_col] = df[target_col].apply(lambda x: x if x in major_classes else 'other')\n",
    "df[target_col].value_counts()\n"
   ],
   "id": "3337d2d99318bbe",
   "outputs": [
    {
     "data": {
      "text/plain": [
       "What programme are you in?\n",
       "computer science           114\n",
       "artificial intelligence    100\n",
       "other                       31\n",
       "Name: count, dtype: int64"
      ]
     },
     "execution_count": 185,
     "metadata": {},
     "output_type": "execute_result"
    }
   ],
   "execution_count": 185
  },
  {
   "metadata": {
    "ExecuteTime": {
     "end_time": "2025-04-20T22:08:07.422852Z",
     "start_time": "2025-04-20T22:08:07.420162Z"
    }
   },
   "cell_type": "code",
   "source": [
    "\n",
    "from sklearn.preprocessing import LabelEncoder\n",
    "le_program = LabelEncoder()\n",
    "encoded_target_col = 'encoded_program'\n",
    "df[encoded_target_col] = le_program.fit_transform(df[target_col])\n",
    "check_value_counts(df, [encoded_target_col])"
   ],
   "id": "3fc71eb8711610ae",
   "outputs": [
    {
     "name": "stdout",
     "output_type": "stream",
     "text": [
      "encoded_program\n",
      "1    114\n",
      "0    100\n",
      "2     31\n",
      "Name: count, dtype: int64 \n",
      "\n"
     ]
    }
   ],
   "execution_count": 186
  },
  {
   "metadata": {},
   "cell_type": "markdown",
   "source": "## Train-test split",
   "id": "b57f7142a2e6c19b"
  },
  {
   "metadata": {
    "ExecuteTime": {
     "end_time": "2025-04-20T22:08:07.492332Z",
     "start_time": "2025-04-20T22:08:07.484050Z"
    }
   },
   "cell_type": "code",
   "source": [
    "from sklearn.model_selection import train_test_split\n",
    "X_train, X_test, y_train, y_test = train_test_split(df[feature_cols], df[encoded_target_col], test_size=0.2, random_state=123)\n",
    "X_train.shape, X_test.shape, y_train.shape, y_test.shape"
   ],
   "id": "d72b09cd6fb47bd9",
   "outputs": [
    {
     "data": {
      "text/plain": [
       "((196, 5), (49, 5), (196,), (49,))"
      ]
     },
     "execution_count": 187,
     "metadata": {},
     "output_type": "execute_result"
    }
   ],
   "execution_count": 187
  },
  {
   "metadata": {
    "ExecuteTime": {
     "end_time": "2025-04-20T22:08:07.511565Z",
     "start_time": "2025-04-20T22:08:07.509364Z"
    }
   },
   "cell_type": "code",
   "source": "set(y_train), set(y_test)",
   "id": "e069aeca553afa9e",
   "outputs": [
    {
     "data": {
      "text/plain": [
       "({0, 1, 2}, {0, 1, 2})"
      ]
     },
     "execution_count": 188,
     "metadata": {},
     "output_type": "execute_result"
    }
   ],
   "execution_count": 188
  },
  {
   "metadata": {},
   "cell_type": "markdown",
   "source": [
    "## Apply two classification algorithms\n",
    "### Random Forest"
   ],
   "id": "806d69b6a09c3d86"
  },
  {
   "metadata": {
    "ExecuteTime": {
     "end_time": "2025-04-20T22:08:07.568239Z",
     "start_time": "2025-04-20T22:08:07.540956Z"
    }
   },
   "cell_type": "code",
   "source": [
    "from sklearn.ensemble import RandomForestClassifier\n",
    "from sklearn.metrics import classification_report, accuracy_score, f1_score\n",
    "\n",
    "rf = RandomForestClassifier(\n",
    "    n_estimators=100,\n",
    "    class_weight='balanced',\n",
    "    random_state=1,\n",
    ")\n",
    "rf = RandomForestClassifier(\n",
    "    class_weight='balanced',\n",
    "    max_depth=5,\n",
    "    max_features='sqrt',\n",
    "    min_samples_leaf=1,\n",
    "    min_samples_split=5,\n",
    "    n_estimators=30,\n",
    "    random_state=1\n",
    ")\n",
    "rf.fit(X_train, y_train)\n",
    "\n",
    "y_pred_rf = rf.predict(X_test)\n",
    "y_pred_rf_labels = le_program.inverse_transform(y_pred_rf)\n",
    "pd.Series(y_pred_rf_labels).value_counts()"
   ],
   "id": "d8a63d71d53717bc",
   "outputs": [
    {
     "data": {
      "text/plain": [
       "computer science           23\n",
       "artificial intelligence    19\n",
       "other                       7\n",
       "Name: count, dtype: int64"
      ]
     },
     "execution_count": 189,
     "metadata": {},
     "output_type": "execute_result"
    }
   ],
   "execution_count": 189
  },
  {
   "metadata": {
    "ExecuteTime": {
     "end_time": "2025-04-20T22:08:07.590232Z",
     "start_time": "2025-04-20T22:08:07.588383Z"
    }
   },
   "cell_type": "code",
   "source": [
    "def print_metrics(y_test, y_pred):\n",
    "    print(\"Accuracy:\", accuracy_score(y_test, y_pred))\n",
    "    print(\"F1 Score (weighted):\", f1_score(y_test, y_pred, average='weighted', zero_division=0))  # set `zero_division` to 0 to handle case when there are no true positives\n",
    "    print(\"\\nClassification Report:\\n\", classification_report(y_test, y_pred, zero_division=0))"
   ],
   "id": "6175ab0ebfbe8cad",
   "outputs": [],
   "execution_count": 190
  },
  {
   "metadata": {
    "ExecuteTime": {
     "end_time": "2025-04-20T22:08:07.658082Z",
     "start_time": "2025-04-20T22:08:07.649254Z"
    }
   },
   "cell_type": "code",
   "source": "print_metrics(y_test, y_pred_rf)",
   "id": "5ba57d98f4f935c3",
   "outputs": [
    {
     "name": "stdout",
     "output_type": "stream",
     "text": [
      "Accuracy: 0.6122448979591837\n",
      "F1 Score (weighted): 0.6140872154332858\n",
      "\n",
      "Classification Report:\n",
      "               precision    recall  f1-score   support\n",
      "\n",
      "           0       0.47      0.56      0.51        16\n",
      "           1       0.74      0.71      0.72        24\n",
      "           2       0.57      0.44      0.50         9\n",
      "\n",
      "    accuracy                           0.61        49\n",
      "   macro avg       0.59      0.57      0.58        49\n",
      "weighted avg       0.62      0.61      0.61        49\n",
      "\n"
     ]
    }
   ],
   "execution_count": 191
  },
  {
   "metadata": {},
   "cell_type": "markdown",
   "source": "Optimize the hyperparameters, using `GridSearchCV`, could take 2 minutes",
   "id": "a77000763a1fce9c"
  },
  {
   "metadata": {
    "ExecuteTime": {
     "end_time": "2025-04-20T22:08:07.810202Z",
     "start_time": "2025-04-20T22:08:07.688283Z"
    }
   },
   "cell_type": "code",
   "source": [
    "from sklearn.model_selection import GridSearchCV\n",
    "\n",
    "rf_param_grid = {\n",
    "    'n_estimators': list(range(10, 300, 20)),\n",
    "    'max_depth': [None] + list(range(5, 30, 5)),\n",
    "    'min_samples_split': list(range(1, 10, 2)),\n",
    "    'min_samples_leaf': list(range(1, 5)),\n",
    "    'max_features': ['sqrt', 'log2'],\n",
    "    'criterion': ['gini', 'entropy'],\n",
    "}\n",
    "\n",
    "# These were the best params in one of our searches, but it is somehow not found after we expand the param grid\n",
    "# ANSWER: OVERFITTING\n",
    "rf_param_best = {'class_weight': 'balanced', 'max_depth': 5, 'max_features': 'sqrt', 'min_samples_leaf': 1, 'min_samples_split': 5, 'n_estimators': 30} # Acc: 0.6122448979591837, F1: 0.6140872154332858\n",
    "rf_param_grid = {key: [value] for key, value in rf_param_best.items()}\n",
    "for k, v in rf_param_best.items():\n",
    "    if v not in rf_param_grid[k]:\n",
    "        print(f\"param {k} not in grid search\")\n",
    "\n",
    "rf_grid = GridSearchCV(\n",
    "    RandomForestClassifier(random_state=1, class_weight='balanced'),\n",
    "    rf_param_grid,\n",
    "    scoring='f1_weighted',\n",
    "    cv=10,\n",
    "    n_jobs=-1,\n",
    "    verbose=1\n",
    ")\n",
    "rf_grid.fit(X_train, y_train)\n",
    "\n",
    "print(\"best rf params:\", rf_grid.best_params_)\n",
    "y_pred_rf_optimized = rf_grid.predict(X_test)\n",
    "print_metrics(y_test, y_pred_rf_optimized)"
   ],
   "id": "834a1014329e7979",
   "outputs": [
    {
     "name": "stdout",
     "output_type": "stream",
     "text": [
      "Fitting 10 folds for each of 1 candidates, totalling 10 fits\n",
      "best rf params: {'class_weight': 'balanced', 'max_depth': 5, 'max_features': 'sqrt', 'min_samples_leaf': 1, 'min_samples_split': 5, 'n_estimators': 30}\n",
      "Accuracy: 0.6122448979591837\n",
      "F1 Score (weighted): 0.6140872154332858\n",
      "\n",
      "Classification Report:\n",
      "               precision    recall  f1-score   support\n",
      "\n",
      "           0       0.47      0.56      0.51        16\n",
      "           1       0.74      0.71      0.72        24\n",
      "           2       0.57      0.44      0.50         9\n",
      "\n",
      "    accuracy                           0.61        49\n",
      "   macro avg       0.59      0.57      0.58        49\n",
      "weighted avg       0.62      0.61      0.61        49\n",
      "\n"
     ]
    }
   ],
   "execution_count": 192
  },
  {
   "metadata": {},
   "cell_type": "markdown",
   "source": "### K-Nearest Neighbors",
   "id": "83051169e007aaf6"
  },
  {
   "metadata": {
    "ExecuteTime": {
     "end_time": "2025-04-20T22:08:07.846400Z",
     "start_time": "2025-04-20T22:08:07.836581Z"
    }
   },
   "cell_type": "code",
   "source": [
    "from sklearn.neighbors import KNeighborsClassifier\n",
    "from sklearn.metrics import classification_report, accuracy_score, f1_score\n",
    "\n",
    "knn = KNeighborsClassifier(n_neighbors=3)\n",
    "knn.fit(X_train, y_train)\n",
    "\n",
    "y_pred_knn = knn.predict(X_test)\n",
    "# transform back to the original labels\n",
    "y_pred_knn_labels = le_program.inverse_transform(y_pred_knn)\n",
    "pd.Series(y_pred_knn_labels).value_counts()"
   ],
   "id": "80bb0f7051e9d940",
   "outputs": [
    {
     "data": {
      "text/plain": [
       "artificial intelligence    32\n",
       "computer science           13\n",
       "other                       4\n",
       "Name: count, dtype: int64"
      ]
     },
     "execution_count": 193,
     "metadata": {},
     "output_type": "execute_result"
    }
   ],
   "execution_count": 193
  },
  {
   "metadata": {
    "ExecuteTime": {
     "end_time": "2025-04-20T22:08:07.893139Z",
     "start_time": "2025-04-20T22:08:07.885707Z"
    }
   },
   "cell_type": "code",
   "source": "print_metrics(y_test, y_pred_knn)",
   "id": "32a9c890fcf441d7",
   "outputs": [
    {
     "name": "stdout",
     "output_type": "stream",
     "text": [
      "Accuracy: 0.4897959183673469\n",
      "F1 Score (weighted): 0.4863167720310578\n",
      "\n",
      "Classification Report:\n",
      "               precision    recall  f1-score   support\n",
      "\n",
      "           0       0.38      0.75      0.50        16\n",
      "           1       0.69      0.38      0.49        24\n",
      "           2       0.75      0.33      0.46         9\n",
      "\n",
      "    accuracy                           0.49        49\n",
      "   macro avg       0.61      0.49      0.48        49\n",
      "weighted avg       0.60      0.49      0.49        49\n",
      "\n"
     ]
    }
   ],
   "execution_count": 194
  },
  {
   "metadata": {},
   "cell_type": "markdown",
   "source": "Optimize the hyperparameters, using `GridSearchCV`, could take 1 minutes",
   "id": "9187623018ddced1"
  },
  {
   "metadata": {
    "ExecuteTime": {
     "end_time": "2025-04-20T22:08:08.002382Z",
     "start_time": "2025-04-20T22:08:07.953150Z"
    }
   },
   "cell_type": "code",
   "source": [
    "knn_param_grid = {\n",
    "    'n_neighbors': [3],\n",
    "    # 'n_neighbors': list(range(1, 20, 2)),\n",
    "    # 'weights': ['uniform', 'distance'],\n",
    "    # 'p': [1, 2],\n",
    "    'leaf_size': [30],\n",
    "    # 'leaf_size': list(range(10, 50, 2)),\n",
    "    # 'algorithm': ['auto', 'ball_tree', 'kd_tree', 'brute'],\n",
    "    # 'metric': ['euclidean', 'manhattan', 'chebyshev', 'minkowski'],\n",
    "}\n",
    "\n",
    "knn_grid = GridSearchCV(\n",
    "    KNeighborsClassifier(),\n",
    "    knn_param_grid,\n",
    "    scoring='f1_weighted',\n",
    "    cv=10,\n",
    "    n_jobs=-1,\n",
    "    verbose=1\n",
    ")\n",
    "knn_grid.fit(X_train, y_train)\n",
    "\n",
    "print(\"best knn params:\", knn_grid.best_params_)\n",
    "print(\"best knn score:\", knn_grid.best_score_)\n",
    "y_pred_knn_optimized = knn_grid.predict(X_test)\n",
    "print_metrics(y_test, y_pred_knn_optimized)"
   ],
   "id": "3cf4b0412ac1f066",
   "outputs": [
    {
     "name": "stdout",
     "output_type": "stream",
     "text": [
      "Fitting 10 folds for each of 1 candidates, totalling 10 fits\n",
      "best knn params: {'leaf_size': 30, 'n_neighbors': 3}\n",
      "best knn score: 0.3953934652808492\n",
      "Accuracy: 0.4897959183673469\n",
      "F1 Score (weighted): 0.4863167720310578\n",
      "\n",
      "Classification Report:\n",
      "               precision    recall  f1-score   support\n",
      "\n",
      "           0       0.38      0.75      0.50        16\n",
      "           1       0.69      0.38      0.49        24\n",
      "           2       0.75      0.33      0.46         9\n",
      "\n",
      "    accuracy                           0.49        49\n",
      "   macro avg       0.61      0.49      0.48        49\n",
      "weighted avg       0.60      0.49      0.49        49\n",
      "\n"
     ]
    }
   ],
   "execution_count": 195
  },
  {
   "metadata": {},
   "cell_type": "markdown",
   "source": [
    "## Performance\n",
    "Metrics:\n",
    "- Accuracy: overall correctness\n",
    "- F1 Score (weighted): accounts for class imbalance, since class `other` is much less than the other two classes\n",
    "- `classification_report` shows precision, recall, F1 and support for each class"
   ],
   "id": "6c76c8abf0fda75e"
  },
  {
   "metadata": {},
   "cell_type": "markdown",
   "source": "### Random Forest Performance",
   "id": "190c8ffe39818340"
  },
  {
   "metadata": {
    "ExecuteTime": {
     "end_time": "2025-04-20T22:08:08.027654Z",
     "start_time": "2025-04-20T22:08:08.021591Z"
    }
   },
   "cell_type": "code",
   "source": "print_metrics(y_test, y_pred_rf_optimized)",
   "id": "75a1e80ea74150d5",
   "outputs": [
    {
     "name": "stdout",
     "output_type": "stream",
     "text": [
      "Accuracy: 0.6122448979591837\n",
      "F1 Score (weighted): 0.6140872154332858\n",
      "\n",
      "Classification Report:\n",
      "               precision    recall  f1-score   support\n",
      "\n",
      "           0       0.47      0.56      0.51        16\n",
      "           1       0.74      0.71      0.72        24\n",
      "           2       0.57      0.44      0.50         9\n",
      "\n",
      "    accuracy                           0.61        49\n",
      "   macro avg       0.59      0.57      0.58        49\n",
      "weighted avg       0.62      0.61      0.61        49\n",
      "\n"
     ]
    }
   ],
   "execution_count": 196
  },
  {
   "metadata": {},
   "cell_type": "markdown",
   "source": "### K-Nearest Neighbors Performance",
   "id": "9c058aa019884de0"
  },
  {
   "metadata": {
    "ExecuteTime": {
     "end_time": "2025-04-20T22:08:08.053325Z",
     "start_time": "2025-04-20T22:08:08.045413Z"
    }
   },
   "cell_type": "code",
   "source": "print_metrics(y_test, y_pred_knn_optimized)",
   "id": "78fe384947a9ff36",
   "outputs": [
    {
     "name": "stdout",
     "output_type": "stream",
     "text": [
      "Accuracy: 0.4897959183673469\n",
      "F1 Score (weighted): 0.4863167720310578\n",
      "\n",
      "Classification Report:\n",
      "               precision    recall  f1-score   support\n",
      "\n",
      "           0       0.38      0.75      0.50        16\n",
      "           1       0.69      0.38      0.49        24\n",
      "           2       0.75      0.33      0.46         9\n",
      "\n",
      "    accuracy                           0.49        49\n",
      "   macro avg       0.61      0.49      0.48        49\n",
      "weighted avg       0.60      0.49      0.49        49\n",
      "\n"
     ]
    }
   ],
   "execution_count": 197
  },
  {
   "metadata": {},
   "cell_type": "markdown",
   "source": "### Performance Comparison",
   "id": "81fa6cbd8f53227a"
  },
  {
   "metadata": {
    "ExecuteTime": {
     "end_time": "2025-04-20T22:08:08.127840Z",
     "start_time": "2025-04-20T22:08:08.117548Z"
    }
   },
   "cell_type": "code",
   "source": [
    "results = {\n",
    "    \"Model\": [\"Random Forest\", \"KNN\"],\n",
    "    \"Best Params\": [rf_grid.best_params_, knn_grid.best_params_],\n",
    "    \"Accuracy\": [accuracy_score(y_test, y_pred_rf_optimized), accuracy_score(y_test, y_pred_knn_optimized)],\n",
    "    \"F1 (weighted)\": [f1_score(y_test, y_pred_rf_optimized, average='weighted'), f1_score(y_test, y_pred_knn_optimized, average='weighted')],\n",
    "}\n",
    "\n",
    "pd.DataFrame(results)\n"
   ],
   "id": "8b3c0bf836c5e7d3",
   "outputs": [
    {
     "data": {
      "text/plain": [
       "           Model                                        Best Params  Accuracy  \\\n",
       "0  Random Forest  {'class_weight': 'balanced', 'max_depth': 5, '...  0.612245   \n",
       "1            KNN                {'leaf_size': 30, 'n_neighbors': 3}  0.489796   \n",
       "\n",
       "   F1 (weighted)  \n",
       "0       0.614087  \n",
       "1       0.486317  "
      ],
      "text/html": [
       "<div>\n",
       "<style scoped>\n",
       "    .dataframe tbody tr th:only-of-type {\n",
       "        vertical-align: middle;\n",
       "    }\n",
       "\n",
       "    .dataframe tbody tr th {\n",
       "        vertical-align: top;\n",
       "    }\n",
       "\n",
       "    .dataframe thead th {\n",
       "        text-align: right;\n",
       "    }\n",
       "</style>\n",
       "<table border=\"1\" class=\"dataframe\">\n",
       "  <thead>\n",
       "    <tr style=\"text-align: right;\">\n",
       "      <th></th>\n",
       "      <th>Model</th>\n",
       "      <th>Best Params</th>\n",
       "      <th>Accuracy</th>\n",
       "      <th>F1 (weighted)</th>\n",
       "    </tr>\n",
       "  </thead>\n",
       "  <tbody>\n",
       "    <tr>\n",
       "      <th>0</th>\n",
       "      <td>Random Forest</td>\n",
       "      <td>{'class_weight': 'balanced', 'max_depth': 5, '...</td>\n",
       "      <td>0.612245</td>\n",
       "      <td>0.614087</td>\n",
       "    </tr>\n",
       "    <tr>\n",
       "      <th>1</th>\n",
       "      <td>KNN</td>\n",
       "      <td>{'leaf_size': 30, 'n_neighbors': 3}</td>\n",
       "      <td>0.489796</td>\n",
       "      <td>0.486317</td>\n",
       "    </tr>\n",
       "  </tbody>\n",
       "</table>\n",
       "</div>"
      ]
     },
     "execution_count": 198,
     "metadata": {},
     "output_type": "execute_result"
    }
   ],
   "execution_count": 198
  }
 ],
 "metadata": {
  "kernelspec": {
   "name": "python3",
   "language": "python",
   "display_name": "Python 3 (ipykernel)"
  }
 },
 "nbformat": 5,
 "nbformat_minor": 9
}
