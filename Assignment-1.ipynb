{
 "cells": [
  {
   "metadata": {
    "ExecuteTime": {
     "end_time": "2025-04-18T16:11:53.668557Z",
     "start_time": "2025-04-18T16:11:53.666774Z"
    }
   },
   "cell_type": "code",
   "source": [
    "import pandas as pd\n",
    "import numpy as np\n",
    "import matplotlib.pyplot as plt\n",
    "import re\n",
    "import seaborn as sns"
   ],
   "outputs": [],
   "execution_count": 1
  },
  {
   "metadata": {
    "ExecuteTime": {
     "end_time": "2025-04-18T16:11:53.734991Z",
     "start_time": "2025-04-18T16:11:53.713462Z"
    }
   },
   "cell_type": "code",
   "source": [
    "df = pd.read_csv(\"ODI-2025.csv\", sep=';') #I added sep = ';' because by defalut pandas\n",
    "#is trying to read the file assuming comma as the delimiter, and we have ;\n",
    "df.head() #printing the first 5 rows of the table "
   ],
   "outputs": [
    {
     "data": {
      "text/plain": [
       "           Timestamp          What programme are you in?  \\\n",
       "0  4-1-2025 12:17:07         MSc Artificial Intelligence   \n",
       "1  4-1-2025 12:17:14            Artificial Intelligence    \n",
       "2  4-1-2025 12:17:17                        Econometrics   \n",
       "3  4-1-2025 12:17:21         Econometrics - Data Science   \n",
       "4  4-1-2025 12:17:24  Bioinformatics’s & Systems Biology   \n",
       "\n",
       "  Have you taken a course on machine learning?  \\\n",
       "0                                          yes   \n",
       "1                                          yes   \n",
       "2                                          yes   \n",
       "3                                          yes   \n",
       "4                                          yes   \n",
       "\n",
       "  Have you taken a course on information retrieval?  \\\n",
       "0                                           unknown   \n",
       "1                                                 1   \n",
       "2                                                 1   \n",
       "3                                                 0   \n",
       "4                                                 1   \n",
       "\n",
       "  Have you taken a course on statistics?  \\\n",
       "0                                     mu   \n",
       "1                                  sigma   \n",
       "2                                     mu   \n",
       "3                                     mu   \n",
       "4                                     mu   \n",
       "\n",
       "  Have you taken a course on databases? What is your gender?  \\\n",
       "0                                    ja                 male   \n",
       "1                                    ja               female   \n",
       "2                                    ja                 male   \n",
       "3                                   nee                 male   \n",
       "4                                    ja                 male   \n",
       "\n",
       "  I have used ChatGPT to help me with some of my study assignments   \\\n",
       "0                                                yes                  \n",
       "1                                                yes                  \n",
       "2                                 not willing to say                  \n",
       "3                                                yes                  \n",
       "4                                                yes                  \n",
       "\n",
       "  When is your birthday (date)?  \\\n",
       "0                    01-01-1888   \n",
       "1                    31/01/2002   \n",
       "2                    September    \n",
       "3                    17/10/2003   \n",
       "4                    19/04/2000   \n",
       "\n",
       "  How many students do you estimate there are in the room?  \\\n",
       "0                                                400         \n",
       "1                                                321         \n",
       "2                                                200         \n",
       "3                                                350         \n",
       "4                                                500         \n",
       "\n",
       "  What is your stress level (0-100)?  \\\n",
       "0                                 78   \n",
       "1                               1000   \n",
       "2                                101   \n",
       "3                                 60   \n",
       "4                                 50   \n",
       "\n",
       "  How many hours per week do you do sports (in whole hours)?   \\\n",
       "0                                                  0            \n",
       "1                                                  2            \n",
       "2                                                  4            \n",
       "3                                                  6            \n",
       "4                                                  8            \n",
       "\n",
       "  Give a random number Time you went to bed Yesterday  \\\n",
       "0               928393                          00:00   \n",
       "1               31.416                          12:30   \n",
       "2                    5                           0:30   \n",
       "3                   37                          23:00   \n",
       "4                    1                             12   \n",
       "\n",
       "  What makes a good day for you (1)? What makes a good day for you (2)?  \n",
       "0                               Food                             Travel  \n",
       "1                                sun                             coffee  \n",
       "2                           Zonnetje                             Aperol  \n",
       "3                                Sun                                Sun  \n",
       "4                                  -                                  -  "
      ],
      "text/html": [
       "<div>\n",
       "<style scoped>\n",
       "    .dataframe tbody tr th:only-of-type {\n",
       "        vertical-align: middle;\n",
       "    }\n",
       "\n",
       "    .dataframe tbody tr th {\n",
       "        vertical-align: top;\n",
       "    }\n",
       "\n",
       "    .dataframe thead th {\n",
       "        text-align: right;\n",
       "    }\n",
       "</style>\n",
       "<table border=\"1\" class=\"dataframe\">\n",
       "  <thead>\n",
       "    <tr style=\"text-align: right;\">\n",
       "      <th></th>\n",
       "      <th>Timestamp</th>\n",
       "      <th>What programme are you in?</th>\n",
       "      <th>Have you taken a course on machine learning?</th>\n",
       "      <th>Have you taken a course on information retrieval?</th>\n",
       "      <th>Have you taken a course on statistics?</th>\n",
       "      <th>Have you taken a course on databases?</th>\n",
       "      <th>What is your gender?</th>\n",
       "      <th>I have used ChatGPT to help me with some of my study assignments</th>\n",
       "      <th>When is your birthday (date)?</th>\n",
       "      <th>How many students do you estimate there are in the room?</th>\n",
       "      <th>What is your stress level (0-100)?</th>\n",
       "      <th>How many hours per week do you do sports (in whole hours)?</th>\n",
       "      <th>Give a random number</th>\n",
       "      <th>Time you went to bed Yesterday</th>\n",
       "      <th>What makes a good day for you (1)?</th>\n",
       "      <th>What makes a good day for you (2)?</th>\n",
       "    </tr>\n",
       "  </thead>\n",
       "  <tbody>\n",
       "    <tr>\n",
       "      <th>0</th>\n",
       "      <td>4-1-2025 12:17:07</td>\n",
       "      <td>MSc Artificial Intelligence</td>\n",
       "      <td>yes</td>\n",
       "      <td>unknown</td>\n",
       "      <td>mu</td>\n",
       "      <td>ja</td>\n",
       "      <td>male</td>\n",
       "      <td>yes</td>\n",
       "      <td>01-01-1888</td>\n",
       "      <td>400</td>\n",
       "      <td>78</td>\n",
       "      <td>0</td>\n",
       "      <td>928393</td>\n",
       "      <td>00:00</td>\n",
       "      <td>Food</td>\n",
       "      <td>Travel</td>\n",
       "    </tr>\n",
       "    <tr>\n",
       "      <th>1</th>\n",
       "      <td>4-1-2025 12:17:14</td>\n",
       "      <td>Artificial Intelligence</td>\n",
       "      <td>yes</td>\n",
       "      <td>1</td>\n",
       "      <td>sigma</td>\n",
       "      <td>ja</td>\n",
       "      <td>female</td>\n",
       "      <td>yes</td>\n",
       "      <td>31/01/2002</td>\n",
       "      <td>321</td>\n",
       "      <td>1000</td>\n",
       "      <td>2</td>\n",
       "      <td>31.416</td>\n",
       "      <td>12:30</td>\n",
       "      <td>sun</td>\n",
       "      <td>coffee</td>\n",
       "    </tr>\n",
       "    <tr>\n",
       "      <th>2</th>\n",
       "      <td>4-1-2025 12:17:17</td>\n",
       "      <td>Econometrics</td>\n",
       "      <td>yes</td>\n",
       "      <td>1</td>\n",
       "      <td>mu</td>\n",
       "      <td>ja</td>\n",
       "      <td>male</td>\n",
       "      <td>not willing to say</td>\n",
       "      <td>September</td>\n",
       "      <td>200</td>\n",
       "      <td>101</td>\n",
       "      <td>4</td>\n",
       "      <td>5</td>\n",
       "      <td>0:30</td>\n",
       "      <td>Zonnetje</td>\n",
       "      <td>Aperol</td>\n",
       "    </tr>\n",
       "    <tr>\n",
       "      <th>3</th>\n",
       "      <td>4-1-2025 12:17:21</td>\n",
       "      <td>Econometrics - Data Science</td>\n",
       "      <td>yes</td>\n",
       "      <td>0</td>\n",
       "      <td>mu</td>\n",
       "      <td>nee</td>\n",
       "      <td>male</td>\n",
       "      <td>yes</td>\n",
       "      <td>17/10/2003</td>\n",
       "      <td>350</td>\n",
       "      <td>60</td>\n",
       "      <td>6</td>\n",
       "      <td>37</td>\n",
       "      <td>23:00</td>\n",
       "      <td>Sun</td>\n",
       "      <td>Sun</td>\n",
       "    </tr>\n",
       "    <tr>\n",
       "      <th>4</th>\n",
       "      <td>4-1-2025 12:17:24</td>\n",
       "      <td>Bioinformatics’s &amp; Systems Biology</td>\n",
       "      <td>yes</td>\n",
       "      <td>1</td>\n",
       "      <td>mu</td>\n",
       "      <td>ja</td>\n",
       "      <td>male</td>\n",
       "      <td>yes</td>\n",
       "      <td>19/04/2000</td>\n",
       "      <td>500</td>\n",
       "      <td>50</td>\n",
       "      <td>8</td>\n",
       "      <td>1</td>\n",
       "      <td>12</td>\n",
       "      <td>-</td>\n",
       "      <td>-</td>\n",
       "    </tr>\n",
       "  </tbody>\n",
       "</table>\n",
       "</div>"
      ]
     },
     "execution_count": 2,
     "metadata": {},
     "output_type": "execute_result"
    }
   ],
   "execution_count": 2
  },
  {
   "metadata": {
    "ExecuteTime": {
     "end_time": "2025-04-18T16:11:53.866677Z",
     "start_time": "2025-04-18T16:11:53.863424Z"
    }
   },
   "cell_type": "code",
   "source": "df['Time you went to bed Yesterday'].values",
   "outputs": [
    {
     "data": {
      "text/plain": [
       "array(['00:00', '12:30', '0:30', '23:00', '12', '5am', '12:00', '12am',\n",
       "       '10:37', '0200', '11 pm', '00:00', '23h45', '9 am', '9', '2 am',\n",
       "       '01.00', '23.30', '23:16', '2', '1:00', '23.00', '1 am',\n",
       "       '12:30 PM', '23:30', '00:30', '0.30', '2', '1:00 am', '12',\n",
       "       '12:00', '23:57', '05:00', '12', '23:30', '4:00', '22:30', '00:45',\n",
       "       '00:30', '01:30', '00:30', '23:30', '12', '23:40', '3', '2am',\n",
       "       '1am', '2:00', '23:59', '12', '00:00', '01:00', '04:00', '2am',\n",
       "       '23-00', '00:00', '4am', '01.00', '00.30', '2.30', '1am', '1 AM',\n",
       "       '12:00 pm', '23:30', '22.00', '5', '11', '12:30am', '23:00', '2',\n",
       "       '00:30', '23:00', '23:00', '2300', '2 pm', '23', '23:00', '23:55',\n",
       "       '23:45', '2am', '1:30am', '0:30', '00:00', '1am', '12', '12:34',\n",
       "       '1', '23:30', '5am', '1', '2 am', '00:40', '1:30', '12:45',\n",
       "       '11:35', '1:00', '01:30', '23:25', '21:45', '23:00', '23:00',\n",
       "       '0:30', '23:00', '23:30', '7pm', '11:33 PM', '12', '2', '23:00',\n",
       "       '22:40', '23:00', '00:30', '4am', '1:00', 'Midnight', '3AM',\n",
       "       '23:00', '23:30', '03:00', '3am', '01:23', '2300', '8', '01:30',\n",
       "       '23', '23:30', '00:31', '2am', '00:40', '00:30', '2', '3:54',\n",
       "       '3 AM x)', '1', '23:00', '02:00', '4am', '11:30pm', '12', '5am',\n",
       "       '23:30', '1:30', '22:00', '00:30', '5:00am', '22:00', '12:30',\n",
       "       '12.30', '23:30', '23:30', 'around midnight', '22:30', '23u30',\n",
       "       '00:30', '1.22am', '01:00', '1am', '23.30', '0:00', '00:00',\n",
       "       '2 am', '23:00', '02:00', '23:00', '22:30', '22:30', '1 am', '12',\n",
       "       '3:00 ', '01:30', '00:30', '3am', '5', '1', '23:30', '3:00',\n",
       "       '23:00', '4', '01:00', '1', '22:30', '12:30', '23:00', '2 am',\n",
       "       '2am', '02:00', '1:03 ', '23:30', '00:10', '1:37', '22:00',\n",
       "       '00:00', '11:00', '12.00', '00:30 AM', '23:00', '00.15', '00:30',\n",
       "       '23:30', '1:30', '11:34', '5 AM', '3:00', '01:00', '23:30',\n",
       "       '00:33', '22:30', '11:30pm', '00:15', '1:30am', '01:00', '1',\n",
       "       '4:30', '05:00', '02:00', '23:45', '22:45', '4:00', '1am', '1 AM',\n",
       "       '9:30', '23:15', '2:00', '12:30am', '02:15', '01:00', '1', '00:00',\n",
       "       '00:10', '00:30', '21.30', '12.30am', '23:00', '21:30', '23:30',\n",
       "       '10', '1am', '00:54', '4:00', '1743502757', '1:30', '2am', '23.30',\n",
       "       '02:00', '0 AD '], dtype=object)"
      ]
     },
     "execution_count": 3,
     "metadata": {},
     "output_type": "execute_result"
    }
   ],
   "execution_count": 3
  },
  {
   "metadata": {
    "ExecuteTime": {
     "end_time": "2025-04-18T16:11:54.027862Z",
     "start_time": "2025-04-18T16:11:54.019104Z"
    }
   },
   "cell_type": "code",
   "source": "df['Time you went to bed Yesterday'].values",
   "outputs": [
    {
     "data": {
      "text/plain": [
       "array(['00:00', '12:30', '0:30', '23:00', '12', '5am', '12:00', '12am',\n",
       "       '10:37', '0200', '11 pm', '00:00', '23h45', '9 am', '9', '2 am',\n",
       "       '01.00', '23.30', '23:16', '2', '1:00', '23.00', '1 am',\n",
       "       '12:30 PM', '23:30', '00:30', '0.30', '2', '1:00 am', '12',\n",
       "       '12:00', '23:57', '05:00', '12', '23:30', '4:00', '22:30', '00:45',\n",
       "       '00:30', '01:30', '00:30', '23:30', '12', '23:40', '3', '2am',\n",
       "       '1am', '2:00', '23:59', '12', '00:00', '01:00', '04:00', '2am',\n",
       "       '23-00', '00:00', '4am', '01.00', '00.30', '2.30', '1am', '1 AM',\n",
       "       '12:00 pm', '23:30', '22.00', '5', '11', '12:30am', '23:00', '2',\n",
       "       '00:30', '23:00', '23:00', '2300', '2 pm', '23', '23:00', '23:55',\n",
       "       '23:45', '2am', '1:30am', '0:30', '00:00', '1am', '12', '12:34',\n",
       "       '1', '23:30', '5am', '1', '2 am', '00:40', '1:30', '12:45',\n",
       "       '11:35', '1:00', '01:30', '23:25', '21:45', '23:00', '23:00',\n",
       "       '0:30', '23:00', '23:30', '7pm', '11:33 PM', '12', '2', '23:00',\n",
       "       '22:40', '23:00', '00:30', '4am', '1:00', 'Midnight', '3AM',\n",
       "       '23:00', '23:30', '03:00', '3am', '01:23', '2300', '8', '01:30',\n",
       "       '23', '23:30', '00:31', '2am', '00:40', '00:30', '2', '3:54',\n",
       "       '3 AM x)', '1', '23:00', '02:00', '4am', '11:30pm', '12', '5am',\n",
       "       '23:30', '1:30', '22:00', '00:30', '5:00am', '22:00', '12:30',\n",
       "       '12.30', '23:30', '23:30', 'around midnight', '22:30', '23u30',\n",
       "       '00:30', '1.22am', '01:00', '1am', '23.30', '0:00', '00:00',\n",
       "       '2 am', '23:00', '02:00', '23:00', '22:30', '22:30', '1 am', '12',\n",
       "       '3:00 ', '01:30', '00:30', '3am', '5', '1', '23:30', '3:00',\n",
       "       '23:00', '4', '01:00', '1', '22:30', '12:30', '23:00', '2 am',\n",
       "       '2am', '02:00', '1:03 ', '23:30', '00:10', '1:37', '22:00',\n",
       "       '00:00', '11:00', '12.00', '00:30 AM', '23:00', '00.15', '00:30',\n",
       "       '23:30', '1:30', '11:34', '5 AM', '3:00', '01:00', '23:30',\n",
       "       '00:33', '22:30', '11:30pm', '00:15', '1:30am', '01:00', '1',\n",
       "       '4:30', '05:00', '02:00', '23:45', '22:45', '4:00', '1am', '1 AM',\n",
       "       '9:30', '23:15', '2:00', '12:30am', '02:15', '01:00', '1', '00:00',\n",
       "       '00:10', '00:30', '21.30', '12.30am', '23:00', '21:30', '23:30',\n",
       "       '10', '1am', '00:54', '4:00', '1743502757', '1:30', '2am', '23.30',\n",
       "       '02:00', '0 AD '], dtype=object)"
      ]
     },
     "execution_count": 4,
     "metadata": {},
     "output_type": "execute_result"
    }
   ],
   "execution_count": 4
  },
  {
   "metadata": {},
   "cell_type": "markdown",
   "source": "As we can notice, the survey took place on first of april. Students were asked various questions, such as the program they are enrolled in, whether or not they took any machine learning, information retrieval or databases courses. Some personal information was asked as well, such as gender, date of birth, stress level, hours per week they spend on sports, time they went to bed and what makes them happy. Let us dive into exploring each column separately, to understand the data better. "
  },
  {
   "metadata": {
    "ExecuteTime": {
     "end_time": "2025-04-18T16:11:54.058776Z",
     "start_time": "2025-04-18T16:11:54.054779Z"
    }
   },
   "cell_type": "code",
   "source": "df.columns # Here we print all the possible column names, provided in the data set, in order to prevent typos. ",
   "outputs": [
    {
     "data": {
      "text/plain": [
       "Index(['Timestamp', 'What programme are you in?',\n",
       "       'Have you taken a course on machine learning?',\n",
       "       'Have you taken a course on information retrieval?',\n",
       "       'Have you taken a course on statistics?',\n",
       "       'Have you taken a course on databases?', 'What is your gender?',\n",
       "       'I have used ChatGPT to help me with some of my study assignments ',\n",
       "       'When is your birthday (date)?',\n",
       "       'How many students do you estimate there are in the room?',\n",
       "       'What is your stress level (0-100)?',\n",
       "       'How many hours per week do you do sports (in whole hours)? ',\n",
       "       'Give a random number', 'Time you went to bed Yesterday',\n",
       "       'What makes a good day for you (1)?',\n",
       "       'What makes a good day for you (2)?'],\n",
       "      dtype='object')"
      ]
     },
     "execution_count": 5,
     "metadata": {},
     "output_type": "execute_result"
    }
   ],
   "execution_count": 5
  },
  {
   "metadata": {},
   "cell_type": "markdown",
   "source": "# Part A"
  },
  {
   "metadata": {},
   "cell_type": "markdown",
   "source": "We will start exploring our dataset by looking at its shape, dimensions."
  },
  {
   "metadata": {
    "ExecuteTime": {
     "end_time": "2025-04-18T16:11:54.093475Z",
     "start_time": "2025-04-18T16:11:54.089854Z"
    }
   },
   "cell_type": "code",
   "source": "df.shape",
   "outputs": [
    {
     "data": {
      "text/plain": [
       "(245, 16)"
      ]
     },
     "execution_count": 6,
     "metadata": {},
     "output_type": "execute_result"
    }
   ],
   "execution_count": 6
  },
  {
   "metadata": {},
   "cell_type": "markdown",
   "source": "As we can see, we had 245 students present on the lecture, that were taking part in this poll. They have asked various questions that we can call the attributes of each student. Among the atributes it was thier program, gender, stress level etc. "
  },
  {
   "metadata": {
    "ExecuteTime": {
     "end_time": "2025-04-18T16:11:54.129694Z",
     "start_time": "2025-04-18T16:11:54.118697Z"
    }
   },
   "cell_type": "code",
   "source": "df.info()",
   "outputs": [
    {
     "name": "stdout",
     "output_type": "stream",
     "text": [
      "<class 'pandas.core.frame.DataFrame'>\n",
      "RangeIndex: 245 entries, 0 to 244\n",
      "Data columns (total 16 columns):\n",
      " #   Column                                                             Non-Null Count  Dtype \n",
      "---  ------                                                             --------------  ----- \n",
      " 0   Timestamp                                                          245 non-null    object\n",
      " 1   What programme are you in?                                         245 non-null    object\n",
      " 2   Have you taken a course on machine learning?                       245 non-null    object\n",
      " 3   Have you taken a course on information retrieval?                  245 non-null    object\n",
      " 4   Have you taken a course on statistics?                             245 non-null    object\n",
      " 5   Have you taken a course on databases?                              245 non-null    object\n",
      " 6   What is your gender?                                               245 non-null    object\n",
      " 7   I have used ChatGPT to help me with some of my study assignments   245 non-null    object\n",
      " 8   When is your birthday (date)?                                      244 non-null    object\n",
      " 9   How many students do you estimate there are in the room?           245 non-null    object\n",
      " 10  What is your stress level (0-100)?                                 244 non-null    object\n",
      " 11  How many hours per week do you do sports (in whole hours)?         245 non-null    object\n",
      " 12  Give a random number                                               245 non-null    object\n",
      " 13  Time you went to bed Yesterday                                     245 non-null    object\n",
      " 14  What makes a good day for you (1)?                                 245 non-null    object\n",
      " 15  What makes a good day for you (2)?                                 245 non-null    object\n",
      "dtypes: object(16)\n",
      "memory usage: 30.8+ KB\n"
     ]
    }
   ],
   "execution_count": 7
  },
  {
   "metadata": {},
   "cell_type": "markdown",
   "source": "As we can see, most of the questions were answered by the students (e.g.'What programme are you in?',  'Have you taken a course on databases?', etc). But there are a few questions, that contain blancks. 4 students did not provide their date of birth, 7 students did not tell their stress level and 93 students skipped the question about the time that they went to bed yesterday."
  },
  {
   "metadata": {},
   "cell_type": "markdown",
   "source": "Now let us briefly discuss the main statistics of each of the field before cleaning the data, this way we will be able to comapare how much our data cleaning changed the results. "
  },
  {
   "metadata": {
    "ExecuteTime": {
     "end_time": "2025-04-18T16:11:54.139714Z",
     "start_time": "2025-04-18T16:11:54.134316Z"
    }
   },
   "cell_type": "code",
   "source": "df['What programme are you in?'].describe()",
   "outputs": [
    {
     "data": {
      "text/plain": [
       "count     245\n",
       "unique    118\n",
       "top        AI\n",
       "freq       33\n",
       "Name: What programme are you in?, dtype: object"
      ]
     },
     "execution_count": 8,
     "metadata": {},
     "output_type": "execute_result"
    }
   ],
   "execution_count": 8
  },
  {
   "metadata": {},
   "cell_type": "markdown",
   "source": [
    "As we can see, there are 27 distinct programs that students could be enrolled to, which does not sound very realistic, to my point of view. I believe, ther emight be some implicit duplicates among these answers. \n",
    "The most popular program among students is artificial intelligence. Let us quickly look at how the number of students are distributed among these programs."
   ]
  },
  {
   "metadata": {},
   "cell_type": "markdown",
   "source": "We have tried to plot all the data, but it was not readable, so we have decided to take top 10 programs, that students are enrolled to. "
  },
  {
   "metadata": {
    "ExecuteTime": {
     "end_time": "2025-04-18T16:11:54.153787Z",
     "start_time": "2025-04-18T16:11:54.148376Z"
    }
   },
   "cell_type": "code",
   "source": [
    "top_n = 10\n",
    "program_counts = df['What programme are you in?'].value_counts().nlargest(top_n)\n",
    "print(program_counts)"
   ],
   "outputs": [
    {
     "name": "stdout",
     "output_type": "stream",
     "text": [
      "What programme are you in?\n",
      "AI                          33\n",
      "Artificial Intelligence     10\n",
      "Computer Science             9\n",
      "Master AI                    9\n",
      "Computational Science        8\n",
      "Econometrics                 8\n",
      "Artificial Intelligence      7\n",
      "CS                           6\n",
      "Business Analytics           6\n",
      "Bioinformatics               5\n",
      "Name: count, dtype: int64\n"
     ]
    }
   ],
   "execution_count": 9
  },
  {
   "metadata": {},
   "cell_type": "markdown",
   "source": "### I couldn't plot it because it has some &^%$# in one of the naming. Should I remove it now and plot it or what?"
  },
  {
   "metadata": {
    "ExecuteTime": {
     "end_time": "2025-04-18T16:11:54.176489Z",
     "start_time": "2025-04-18T16:11:54.172803Z"
    }
   },
   "cell_type": "code",
   "source": [
    "def clean_text(word):\n",
    "    unwanted = set(\"!@#$%^&*()$$|?:\\\"><,./;\\'[]\\\\\\n\")\n",
    "    result = ''\n",
    "    for letter in word:\n",
    "        if letter not in unwanted:\n",
    "            result += letter\n",
    "    return result\n",
    "\n",
    "program_counts_clean = program_counts.copy()\n",
    "program_counts_clean.index = program_counts_clean.index.to_series().apply(clean_text)\n"
   ],
   "outputs": [],
   "execution_count": 10
  },
  {
   "metadata": {
    "ExecuteTime": {
     "end_time": "2025-04-18T16:11:54.340385Z",
     "start_time": "2025-04-18T16:11:54.205299Z"
    }
   },
   "cell_type": "code",
   "source": [
    "# Plot top 10 frequent programs\n",
    "plt.figure(figsize=(10, 6))\n",
    "plt.bar(program_counts_clean.index, program_counts_clean.values, color='salmon')\n",
    "plt.xticks(rotation=45, ha='right')\n",
    "plt.xlabel('Program')\n",
    "plt.ylabel('Number of People')\n",
    "plt.title(f'Top {top_n} Most Frequent Programs')\n",
    "plt.tight_layout()\n",
    "plt.show()\n"
   ],
   "outputs": [
    {
     "data": {
      "text/plain": [
       "<Figure size 1000x600 with 1 Axes>"
      ],
      "image/png": "[encoded data removed]"
     },
     "metadata": {},
     "output_type": "display_data"
    }
   ],
   "execution_count": 11
  },
  {
   "metadata": {},
   "cell_type": "markdown",
   "source": "As we can already notice from the plot, there are some implicit duplicates in the data. For example, in the top of these courses are AI, Artificial Intelligence and Artificial Intelligence which is clearly duplicated. "
  },
  {
   "metadata": {
    "ExecuteTime": {
     "end_time": "2025-04-18T16:11:54.354638Z",
     "start_time": "2025-04-18T16:11:54.349575Z"
    }
   },
   "cell_type": "code",
   "source": "df['What is your gender?'].describe()",
   "outputs": [
    {
     "data": {
      "text/plain": [
       "count      245\n",
       "unique       7\n",
       "top       male\n",
       "freq       137\n",
       "Name: What is your gender?, dtype: object"
      ]
     },
     "execution_count": 12,
     "metadata": {},
     "output_type": "execute_result"
    }
   ],
   "execution_count": 12
  },
  {
   "metadata": {},
   "cell_type": "markdown",
   "source": "As we can notice, there dominant number of students is male students 137/245. But there are 7 genders in total. "
  },
  {
   "metadata": {
    "ExecuteTime": {
     "end_time": "2025-04-18T16:11:54.453567Z",
     "start_time": "2025-04-18T16:11:54.393245Z"
    }
   },
   "cell_type": "code",
   "source": [
    "# Count how many per gender\n",
    "gender_counts = df['What is your gender?'].value_counts()\n",
    "\n",
    "# Plot\n",
    "plt.bar(gender_counts.index, gender_counts.values, color = 'pink')\n",
    "plt.title('Number of People per Gender')\n",
    "plt.xlabel('Gender')\n",
    "plt.ylabel('Count')\n",
    "plt.xticks(rotation=45)\n",
    "plt.grid(axis='y')\n",
    "plt.tight_layout()\n",
    "plt.show()"
   ],
   "outputs": [
    {
     "data": {
      "text/plain": [
       "<Figure size 640x480 with 1 Axes>"
      ],
      "image/png": "[encoded data removed]"
     },
     "metadata": {},
     "output_type": "display_data"
    }
   ],
   "execution_count": 13
  },
  {
   "metadata": {},
   "cell_type": "markdown",
   "source": "Now lets see how many students took ML course"
  },
  {
   "metadata": {},
   "cell_type": "markdown",
   "source": "Let us now do a visualisation on birth month"
  },
  {
   "metadata": {
    "ExecuteTime": {
     "end_time": "2025-04-18T16:11:54.478273Z",
     "start_time": "2025-04-18T16:11:54.470480Z"
    }
   },
   "cell_type": "code",
   "source": [
    "df['birthday_timestamp']= pd.to_datetime(df['When is your birthday (date)?'], errors = 'coerce')\n",
    "df['birth_month'] = df['birthday_timestamp'].dt.month"
   ],
   "outputs": [],
   "execution_count": 14
  },
  {
   "metadata": {
    "ExecuteTime": {
     "end_time": "2025-04-18T16:11:54.548430Z",
     "start_time": "2025-04-18T16:11:54.494004Z"
    }
   },
   "cell_type": "code",
   "source": [
    "# Plot the distribution of people born in each month\n",
    "month_counts = df['birth_month'].value_counts()\n",
    "plt.bar(month_counts.index, month_counts.values, color = 'salmon')\n",
    "plt.title('Distribution of number of students by birth month')\n",
    "plt.xlabel('Month number')\n",
    "plt.ylabel('Count')\n",
    "plt.grid(axis='y')\n",
    "plt.tight_layout()\n",
    "plt.show()"
   ],
   "outputs": [
    {
     "data": {
      "text/plain": [
       "<Figure size 640x480 with 1 Axes>"
      ],
      "image/png": "[encoded data removed]"
     },
     "metadata": {},
     "output_type": "display_data"
    }
   ],
   "execution_count": 15
  },
  {
   "metadata": {},
   "cell_type": "markdown",
   "source": "First of all, note that almost 75% of the data was not processed. This comes from the wrong format, that data was uploaded into, so it wasnt able to transfer to timestamp. But let us analyze what we have for now. The most popular birth month is January, when 10 students were born. The second popular birth month is October, when 8 students were born. The third place in our top takes frbruary with 7 students. It is interesting that according to uncleaned data, none of the students were born in June."
  },
  {
   "metadata": {},
   "cell_type": "markdown",
   "source": "Now lets analyze which courses did student follow in past."
  },
  {
   "metadata": {
    "ExecuteTime": {
     "end_time": "2025-04-18T16:11:54.697225Z",
     "start_time": "2025-04-18T16:11:54.552148Z"
    }
   },
   "cell_type": "code",
   "source": [
    "fig, axes = plt.subplots(1, 4, figsize=(15, 5))\n",
    "# Information Retrieval\n",
    "info_counts = df['Have you taken a course on information retrieval?'].value_counts()\n",
    "axes[0].bar(info_counts.index.astype(str), info_counts.values, color='lightblue')\n",
    "axes[0].set_title('Information Retrieval')\n",
    "axes[0].set_xlabel('Answer')\n",
    "axes[0].set_ylabel('Number of Students')\n",
    "\n",
    "# Statistics \n",
    "stats_counts = df['Have you taken a course on statistics?'].value_counts()\n",
    "axes[1].bar(stats_counts.index.astype(str), stats_counts.values, color='lightgreen')\n",
    "axes[1].set_title('Statistics')\n",
    "axes[1].set_xlabel('Answer')\n",
    "axes[1].set_ylabel('Number of Students')\n",
    "\n",
    "# Databases \n",
    "db_counts = df['Have you taken a course on databases?'].value_counts()\n",
    "axes[2].bar(db_counts.index.astype(str), db_counts.values, color='salmon')\n",
    "axes[2].set_title('Databases')\n",
    "axes[2].set_xlabel('Answer')\n",
    "axes[2].set_ylabel('Number of Students')\n",
    "\n",
    "# Machine Learning \n",
    "ml_counts = df['Have you taken a course on machine learning?'].value_counts()\n",
    "axes[3].bar(ml_counts.index.astype(str), ml_counts.values, color='pink')\n",
    "axes[3].set_title('Machine Learning')\n",
    "axes[3].set_xlabel('Answer')\n",
    "axes[3].set_ylabel('Number of Students')\n",
    "\n",
    "# Layout\n",
    "plt.tight_layout()\n",
    "plt.show()"
   ],
   "outputs": [
    {
     "data": {
      "text/plain": [
       "<Figure size 1500x500 with 4 Axes>"
      ],
      "image/png": "[encoded data removed]"
     },
     "metadata": {},
     "output_type": "display_data"
    }
   ],
   "execution_count": 16
  },
  {
   "metadata": {},
   "cell_type": "markdown",
   "source": [
    "In this part we have plotted the graphs, that show whether or not students took the course on Information retrival, Statistics, Databases or Machine Learning. As we can notice, in each of the questions, it was supposed to be a boolean answer (0-no, 1-yes), but students have answered pretty differently (in terms of style) to this question. For IR course they have answered binary, for statistics course in terms of mu and sigma, for databases in ducth and for machine learning in english. Later in this report we will standardize these answers and will make them consistent, this way the user will have a more clear information and understanding on what is going on.\n",
    "\n",
    "Regarding the plot results, we can see that for information retrieval course the answers of respondents were almost splitted in halfs (around 120 students took this course and around 100 students did not). For Statistics course the majority of the students did not follow the course and around 20% of respondents have followed this course. Database course was followed by almost the same number of students that followed the statistics course (around 160 people) but also we know that around 70 students did not take it. Machine Learning course though is the most popular course among all that were asked about. Almost 200 students out of 245 respondednts have followed it. "
   ]
  },
  {
   "metadata": {},
   "cell_type": "markdown",
   "source": "# Part B"
  },
  {
   "metadata": {
    "ExecuteTime": {
     "end_time": "2025-04-18T16:11:54.710906Z",
     "start_time": "2025-04-18T16:11:54.708706Z"
    }
   },
   "cell_type": "code",
   "source": [
    "programs = df['What programme are you in?'].unique()\n",
    "print(programs)\n",
    "print(len(programs))"
   ],
   "outputs": [
    {
     "name": "stdout",
     "output_type": "stream",
     "text": [
      "['MSc Artificial Intelligence' 'Artificial Intelligence ' 'Econometrics'\n",
      " 'Econometrics - Data Science' 'Bioinformatics’s & Systems Biology'\n",
      " 'computer science' 'Masters in AI' 'Ms cs' 'AI'\n",
      " 'Computer Science (joint degree)' 'NPN'\n",
      " 'Masters Artificial Intelligence ' 'Computer science' 'Computer Science'\n",
      " 'Artificial Intelligence' 'Master AI'\n",
      " 'Bioinformatics and systems biology ' 'Master’s Business Analytics'\n",
      " 'Artificial intelligence ' 'Masters in Artificial Intelligence'\n",
      " 'Computational Science ' 'Master econometrics' 'AI master'\n",
      " 'Artificial Intelligences' 'Msc AI' 'Master Artificial Intelligence'\n",
      " 'Computational Science' 'MSc in Finance and Technology'\n",
      " 'Master Computer Science' 'Human Language Technology' 'Master’s in AI'\n",
      " 'Quantitative Finance' 'Business analytics '\n",
      " 'Econometrics and operations research ' 'Master Artifical Intelligence'\n",
      " 'Security ' 'MSc Computer Science SEG' 'Business Analytics'\n",
      " 'Bioinformatics' 'CS' 'AI masters' 'Computational science'\n",
      " 'Econometrics ' 'Masters Computer Science' 'Computer Science ' 'Ai'\n",
      " 'Master AI (UvA)' 'Econometrics & Data Science' 'Comp sci'\n",
      " 'Msc International Public Health' 'Computer Science MSc.'\n",
      " 'MSc Computer Science' 'Ai master' 'Master Artificial Inteligence'\n",
      " 'Bioinformatics and system biology' 'Business analytics'\n",
      " 'computational science ' 'Bioinformatics and Systems Biology'\n",
      " 'bioinformatics' 'AI Master' 'Computer science '\n",
      " 'MSc Bioinformatics and Systems Biology' 'Mathematics'\n",
      " 'Duisenberg Honours Programme in Finance and Technology '\n",
      " 'Human Language Technology (RM)' 'Master Business Analytics'\n",
      " 'Finance and Technology'\n",
      " 'masters in computer science track: software engineering and green IT'\n",
      " 'Masters in AI (Health Track)' 'MSc. in Computer Science ' 'cs joint'\n",
      " 'M Artificial intelligence ' 'Artificial Intelligence master degree'\n",
      " 'Bioinformatics And Systems Biology' 'Master computational science'\n",
      " 'Master CS' 'Biomedical science' 'Big-Data Engineering'\n",
      " 'Bioinformatics and Systems Biology '\n",
      " 'Master. Computer science (bed) (joint degree)' 'computer science msc'\n",
      " 'EOR' 'computational science' 'Computer Science (SEG)'\n",
      " 'Humanities Research Master' 'Econometrics and Data Science' 'MSc in AI'\n",
      " 'MSc Finance: Finance and Technology Honoursprogramme' 'FinTech' 'Master'\n",
      " 'MSc Computer Science ' 'Masters in Artificial intelligence ' 'MSc AI'\n",
      " 'Master AI UvA' 'BioSB master' 'Bigidagoe Econometrics '\n",
      " 'Business Analytics master' 'MS Finance (Finance & Technology)'\n",
      " 'MSc Econometrics' 'Econometrics & operations research'\n",
      " 'Computer Science FCC' 'Msc Artificial intelligence '\n",
      " 'Master Econometrics and Operations Research' 'Green IT' 'BA'\n",
      " 'AI and Mathematics' 'Computer Science Msc' 'Master Econometrics'\n",
      " 'Master bioinformatics and Systems Biology'\n",
      " 'Masters Bioinfomatics and Systems biology' 'Masters AI'\n",
      " 'Artificial Intelligence M.Sc.' 'Master of AI'\n",
      " 'Masters in computer science' 'Big Data Engineering '\n",
      " 'Software Engineering and Green IT' 'Main track AI'\n",
      " 'B-123456789():;,.?-€/&@„_<|>#,{%^*+=•£$$< \\\\n\\\\+2332‘mm']\n",
      "118\n"
     ]
    }
   ],
   "execution_count": 17
  },
  {
   "metadata": {},
   "cell_type": "markdown",
   "source": [
    "As we can notice, there are some implicit duplicates in data, for example, it is clear that 'computer science' and 'Computer science' and 'Computer Science MSc' correspond to the same degree. \n",
    "We can start cleaning this data by putting all the letters to lower case, and checking how many duplicates were eliminated. First lets print the number of unique elements before cleaning."
   ]
  },
  {
   "metadata": {
    "ExecuteTime": {
     "end_time": "2025-04-18T16:11:54.718252Z",
     "start_time": "2025-04-18T16:11:54.716291Z"
    }
   },
   "cell_type": "code",
   "source": "num_b4_cleaning = print(len(programs)) ",
   "outputs": [
    {
     "name": "stdout",
     "output_type": "stream",
     "text": [
      "118\n"
     ]
    }
   ],
   "execution_count": 18
  },
  {
   "metadata": {},
   "cell_type": "markdown",
   "source": "So, we see that there are for now 118 distinct programs that students are enrolled to. Lets try to get rid of implicit duplicates. Firstly, we will put all the data to lower case and delete the extra space between words. "
  },
  {
   "metadata": {},
   "cell_type": "markdown",
   "source": "As we can notice, there are more implicit duplicates. Such as 'ai', 'ai master', artificial intellegence etc. We can of course merge it in one. "
  },
  {
   "metadata": {
    "ExecuteTime": {
     "end_time": "2025-04-18T16:11:54.737231Z",
     "start_time": "2025-04-18T16:11:54.731863Z"
    }
   },
   "cell_type": "code",
   "source": [
    "def group_program(name):\n",
    "    name = name.strip().lower().replace('&', 'and').replace('-', ' ') # Here we make the study name lower case and replace & with \"and\"\n",
    "\n",
    "    if 'artificial' in name or 'ai' in name or 'intelligence' in name:\n",
    "        return 'artificial intelligence'\n",
    "    elif 'computer science' in name or 'comp sci' in name or  'green' in name or 'big data engineering' in name or name.strip() in ['cs', 'comp sci', 'c.s.', 'cs joint', 'ms cs', 'master cs', 'security']:\n",
    "        return 'computer science'\n",
    "    elif 'bio' in name:\n",
    "        return 'bioinformatics and systems biology'\n",
    "    elif 'business analytics' in name or 'ba' in name:\n",
    "        return 'business analytics'\n",
    "    elif  'fintech' in name or 'finance' in name and 'technology' in name or name.strip() in ['finance']:\n",
    "        return 'finance and technology'\n",
    "    elif 'econometrics' in name or 'eor' in name:\n",
    "        return  'econometrics'\n",
    "    elif 'computational science' in name:\n",
    "        return 'computational science'\n",
    "    elif 'human language technology' in name:\n",
    "        return 'human language technology'\n",
    "    elif 'finance' in name:\n",
    "        return 'finance'\n",
    "    else:\n",
    "        return name \n",
    "    \n",
    "df['What programme are you in?']= df['What programme are you in?'].apply(group_program)\n",
    "\n",
    "print(df['What programme are you in?'].value_counts())\n"
   ],
   "outputs": [
    {
     "name": "stdout",
     "output_type": "stream",
     "text": [
      "What programme are you in?\n",
      "artificial intelligence                                    100\n",
      "computer science                                            51\n",
      "econometrics                                                24\n",
      "bioinformatics and systems biology                          21\n",
      "business analytics                                          17\n",
      "computational science                                       17\n",
      "finance and technology                                       6\n",
      "human language technology                                    2\n",
      "npn                                                          1\n",
      "finance                                                      1\n",
      "msc international public health                              1\n",
      "mathematics                                                  1\n",
      "humanities research master                                   1\n",
      "master                                                       1\n",
      "b 123456789():;,.? €/and@„_<|>#,{%^*+=•£$$< \\n\\+2332‘mm      1\n",
      "Name: count, dtype: int64\n"
     ]
    }
   ],
   "execution_count": 19
  },
  {
   "metadata": {
    "ExecuteTime": {
     "end_time": "2025-04-18T16:11:54.743164Z",
     "start_time": "2025-04-18T16:11:54.740655Z"
    }
   },
   "cell_type": "code",
   "source": "print(len(df['What programme are you in?'].unique()))",
   "outputs": [
    {
     "name": "stdout",
     "output_type": "stream",
     "text": [
      "15\n"
     ]
    }
   ],
   "execution_count": 20
  },
  {
   "metadata": {},
   "cell_type": "markdown",
   "source": "Now let us examine the answers to the whole boolean questions. "
  },
  {
   "metadata": {
    "ExecuteTime": {
     "end_time": "2025-04-18T16:11:54.754700Z",
     "start_time": "2025-04-18T16:11:54.751651Z"
    }
   },
   "cell_type": "code",
   "source": [
    "machine_learning = df['Have you taken a course on machine learning?'].unique()\n",
    "print(machine_learning)"
   ],
   "outputs": [
    {
     "name": "stdout",
     "output_type": "stream",
     "text": [
      "['yes' 'no' 'unknown']\n"
     ]
    }
   ],
   "execution_count": 21
  },
  {
   "metadata": {
    "ExecuteTime": {
     "end_time": "2025-04-18T16:11:54.766669Z",
     "start_time": "2025-04-18T16:11:54.764153Z"
    }
   },
   "cell_type": "code",
   "source": [
    "information_retrieval = df['Have you taken a course on information retrieval?'].unique()\n",
    "print(information_retrieval)"
   ],
   "outputs": [
    {
     "name": "stdout",
     "output_type": "stream",
     "text": [
      "['unknown' '1' '0']\n"
     ]
    }
   ],
   "execution_count": 22
  },
  {
   "metadata": {
    "ExecuteTime": {
     "end_time": "2025-04-18T16:11:54.784526Z",
     "start_time": "2025-04-18T16:11:54.781956Z"
    }
   },
   "cell_type": "code",
   "source": [
    "statistics = df['Have you taken a course on statistics?'].unique()\n",
    "print(statistics)"
   ],
   "outputs": [
    {
     "name": "stdout",
     "output_type": "stream",
     "text": [
      "['mu' 'sigma' 'unknown']\n"
     ]
    }
   ],
   "execution_count": 23
  },
  {
   "metadata": {
    "ExecuteTime": {
     "end_time": "2025-04-18T16:11:54.789494Z",
     "start_time": "2025-04-18T16:11:54.787518Z"
    }
   },
   "cell_type": "code",
   "source": [
    "database = df['Have you taken a course on databases?'].unique()\n",
    "print(database)"
   ],
   "outputs": [
    {
     "name": "stdout",
     "output_type": "stream",
     "text": [
      "['ja' 'nee' 'unknown']\n"
     ]
    }
   ],
   "execution_count": 24
  },
  {
   "metadata": {
    "ExecuteTime": {
     "end_time": "2025-04-18T16:11:54.798939Z",
     "start_time": "2025-04-18T16:11:54.796274Z"
    }
   },
   "cell_type": "code",
   "source": [
    "chatgpt = df['I have used ChatGPT to help me with some of my study assignments '].unique()\n",
    "print(chatgpt)"
   ],
   "outputs": [
    {
     "name": "stdout",
     "output_type": "stream",
     "text": [
      "['yes' 'not willing to say' 'no']\n"
     ]
    }
   ],
   "execution_count": 25
  },
  {
   "metadata": {},
   "cell_type": "markdown",
   "source": "Suggestion is to replace all positive values with yes and negative with no, not willing to say, we will replace with unknown. "
  },
  {
   "metadata": {
    "ExecuteTime": {
     "end_time": "2025-04-18T16:11:54.809411Z",
     "start_time": "2025-04-18T16:11:54.806034Z"
    }
   },
   "cell_type": "code",
   "source": [
    "df['Have you taken a course on information retrieval?'] = df['Have you taken a course on information retrieval?'].replace({\n",
    "    '1': '1',\n",
    "    '0': '0',\n",
    "    'not willing to say': 'unknown'\n",
    "})\n",
    "\n",
    "df['Have you taken a course on statistics?'] = df['Have you taken a course on statistics?'].replace({\n",
    "    'mu': '0',\n",
    "    'sigma': '1'  \n",
    "})\n",
    "df['Have you taken a course on databases?'] = df['Have you taken a course on databases?'].replace({\n",
    "    'ja': '1',\n",
    "    'nee': '0',\n",
    "})\n",
    "df['I have used ChatGPT to help me with some of my study assignments '] = df['I have used ChatGPT to help me with some of my study assignments '].replace({\n",
    "    'not willing to say' : 'unkown',\n",
    "    'yes' :'1', \n",
    "    'no': '0'\n",
    "})"
   ],
   "outputs": [],
   "execution_count": 26
  },
  {
   "metadata": {},
   "cell_type": "markdown",
   "source": "Now lets fix the column with the birthday date. Firstly, we notice that sometimes people use DD-MM-YYYY for the date format, but sometimes they can also use DD.MM.YYYY or DD/MM/YYYY. Let us start by fixing this small issue.  Also later on, we decided to change here some texted months to their numbers, e.g January or June."
  },
  {
   "metadata": {
    "ExecuteTime": {
     "end_time": "2025-04-18T16:11:54.820221Z",
     "start_time": "2025-04-18T16:11:54.816109Z"
    }
   },
   "cell_type": "code",
   "source": [
    "df['When is your birthday (date)?'] = df[ 'When is your birthday (date)?'].astype(str).str.strip()\n",
    "replacements = {\n",
    "    '.': '-', \n",
    "    '/' : '-',\n",
    "    ' ': '-', \n",
    "    'January' : '01', \n",
    "    'augustus' : '08',\n",
    "    'Dec' : '12', \n",
    "    'October' : '10', \n",
    "    'juni' : '06', \n",
    "    'June' : '06', \n",
    "    'July' : '07',\n",
    "    'September' : '09',\n",
    "    '070' : '07' #We have noticed that one of the dates has a typo, eventho the whole date seems normal,\n",
    "     # but the month is clearly mistyped and should be july, so 07\n",
    "    \n",
    "\n",
    "}\n",
    "for old, new in replacements.items():\n",
    "    df['When is your birthday (date)?'] = df['When is your birthday (date)?'].str.replace(old, new, regex=False)\n",
    "print(df['When is your birthday (date)?'].to_list())"
   ],
   "outputs": [
    {
     "name": "stdout",
     "output_type": "stream",
     "text": [
      "['01-01-1888', '31-01-2002', '09', '17-10-2003', '19-04-2000', 'Tomorrow', '25-10-1999', '1-april', '29-01-2001', '01082000', '19-10-1999', '1-1-1999', '01012000', '06-15-2001', '01', '27-02-2001', '10-05-1982', '16-12-1998', '23-06-2002', '10-08-2000', '30-12-2003', '11-August', 'Idk', '04-19-2000', '19-07-2003', '19-February', '19-05-2000', '09-14', '1999', '11-12-2001', '24-01-1999', '29-07-2000', '24-de-Diciembre', '01-06-2000', '11-11-00', '05-11-1997', '27-11-2002', '20-07-2001', '2000', '23-12-2002', '16-03-2002', '09-05-2002', '18-05-2003', '11-11-2002', '2000', '26', '29th-09-2001', '21-11-2002', '12ember-14th', '2001-09-16', '1997', '16-08-1996', '69-69-2069', '26-11-1998', '23-maart', '14-09-2000', '-', '20-05-2001', '28-12-1999', '01-16th', '23-05', '19-07-1997', '10-12-1994', '20-06', '30-09-2002', '01-01-1900', '23', '15-02', '13-03-2002', '08-10-2001', '21-10-2001', '10-12-1999', '21-06-2001', '28-02-2001', '28-06-2002', '10112000', '08031998', '01-9th', '28-05', '26-10-2001', '21-07-2002', 'not-today', '25-01-2003', '13-02', '15-02-2002', '02-04-2005', 'X', '21-03-2002', '04-February', '98-12-04', '-', 'Lol', '26-10-2001', '10-10', '22-01-2002', '20010831', '14-07-2003', '02-01-2001', '21052025', '05-01', '30-09-2002', 'Muhahahah', '07-08-1934', '22-08-1998', '09-11-2001', '26-07-2001', '20-09', '05082000', '04-04-2004', '20-08-2004', '03-04-2000', '25-10-2002', '11-04-1999', '1991-01-27', '1-1-2000', '09', 'November-1999', '25-12', '0000', '1997-21-01', '10-01-2000', '26', '07-232001', 'Mid-February', '14-02-1999', '26-04-2001', 'Aug-2000', '06-10', '02-09-2003', '24-02-2002', '23-07-2001', 'undisclosed', '31-01-1999', '12-12-1921', '05-12', '23-02', 'nonono', '20-09-2002', '03-10-2001', '09-10-2000', '11-01-2001', '11-6', '24th-november', '16-11-2001', '16-02-1999', '13-january', '28-06-2002', '20-01', '29-04-2002', '02-01-2003', 'de-vijftiende-dag-van-de-vierde-maand', '00-00-0000', '23-01-2001', '13-05-2000', '9-4', '12ember', '10-07', '03-01-2001', 'april-3rd', '07-02-1997', 'december', '20-07-2002', '01-09', '03-01-2000', '05-03-2001', '11-09-2002', '12ember-27', '18-11-2000', 'nan', '17-08-2001', '13-12-2003', '15-08-2000', '6-9-69', '04-10-2003', '18-01-2002', '18-02-2001', '25-06-2003', '25-08-2000', '23-12-2000', '30-01-2000', '20-01-2002', '23', '01-01-1998', '12-08,-2001', '09-5', '2003-07', '11-08-2002', '29-09', '05-05-2002', '04-10-2001', '28', '04-10-2001', '13-07-2001', '13', '19-january', '03-01-2003', '09-10-2002', '28-08-2000', '14-11-2003', '10', '06', '13-07', '01-01-2000', 'When-I-was-born', '18-05-2002', '10-01-2001', '07-12-2000', '19-08-2003', '02-10-2003', 'April-9th', '2-3-2003', '16-06', '9th-of-07', '22-10-2000', '10-1st-2002', '22-07-2000', '26-11', '1-1-1', '19-04-2000', '12-11-2001', '21-01-1999', '16-06-2001', '22-02', '01-01-2000', '08-10-1999', '22-09-2003', '2003-02-12-', '19-11-2002', '24-01-', '07-10-2002', '10-10-2002', '17-02-1992', '20-01-2000', '08-09', '05-06-2003', '20-02-2000', '-', '05-09-2001', '2003', '19000000', '083002', '09-01-2003', '27-08-2002', '2-5-2001', '-U+200B--1--0--0-0f--0,0d-Long-int-12-0-:0;']\n"
     ]
    }
   ],
   "execution_count": 27
  },
  {
   "metadata": {},
   "cell_type": "markdown",
   "source": "Now, we have noticed that some of the students put their date of birth in the format DDMMYYYY or YYYYMMDD. Let us try to fix it. "
  },
  {
   "metadata": {
    "ExecuteTime": {
     "end_time": "2025-04-18T16:11:54.840470Z",
     "start_time": "2025-04-18T16:11:54.826935Z"
    }
   },
   "cell_type": "code",
   "source": [
    "# Ensure strings and clean whitespace\n",
    "col = 'When is your birthday (date)?'\n",
    "df[col] = df[col].astype(str).str.strip()\n",
    "\n",
    "# Mask: match 8-digit strings only\n",
    "is_eight_digits = df[col].str.match(r'^\\d{8}$')\n",
    "\n",
    "# Convert only those entries\n",
    "converted = pd.to_datetime(df.loc[is_eight_digits, col], format='%d%m%Y', errors='coerce')\n",
    "\n",
    "# Format to DD-MM-YYYY strings (skip NaT)\n",
    "df.loc[is_eight_digits & converted.notna(), col] = converted.dt.strftime('%d-%m-%Y')\n",
    "\n",
    "# Second type of 8-digit strings (starts with year)\n",
    "is_yyyymmdd = df[col].str.match(r'^\\d{8}$') & df[col].str.startswith(('19', '20'))\n",
    "\n",
    "converted2 = pd.to_datetime(df.loc[is_yyyymmdd, col], format='%Y%m%d', errors='coerce')\n",
    "df.loc[is_yyyymmdd & converted2.notna(), col] = converted2.dt.strftime('%d-%m-%Y')\n",
    "df.head(10)"
   ],
   "outputs": [
    {
     "data": {
      "text/plain": [
       "           Timestamp          What programme are you in?  \\\n",
       "0  4-1-2025 12:17:07             artificial intelligence   \n",
       "1  4-1-2025 12:17:14             artificial intelligence   \n",
       "2  4-1-2025 12:17:17                        econometrics   \n",
       "3  4-1-2025 12:17:21                        econometrics   \n",
       "4  4-1-2025 12:17:24  bioinformatics and systems biology   \n",
       "5  4-1-2025 12:17:26                        econometrics   \n",
       "6  4-1-2025 12:17:26                        econometrics   \n",
       "7  4-1-2025 12:17:27                    computer science   \n",
       "8  4-1-2025 12:17:28             artificial intelligence   \n",
       "9  4-1-2025 12:17:30                    computer science   \n",
       "\n",
       "  Have you taken a course on machine learning?  \\\n",
       "0                                          yes   \n",
       "1                                          yes   \n",
       "2                                          yes   \n",
       "3                                          yes   \n",
       "4                                          yes   \n",
       "5                                           no   \n",
       "6                                           no   \n",
       "7                                          yes   \n",
       "8                                           no   \n",
       "9                                           no   \n",
       "\n",
       "  Have you taken a course on information retrieval?  \\\n",
       "0                                           unknown   \n",
       "1                                                 1   \n",
       "2                                                 1   \n",
       "3                                                 0   \n",
       "4                                                 1   \n",
       "5                                           unknown   \n",
       "6                                                 0   \n",
       "7                                                 0   \n",
       "8                                                 0   \n",
       "9                                                 0   \n",
       "\n",
       "  Have you taken a course on statistics?  \\\n",
       "0                                      0   \n",
       "1                                      1   \n",
       "2                                      0   \n",
       "3                                      0   \n",
       "4                                      0   \n",
       "5                                      0   \n",
       "6                                      0   \n",
       "7                                      1   \n",
       "8                                      0   \n",
       "9                                      0   \n",
       "\n",
       "  Have you taken a course on databases? What is your gender?  \\\n",
       "0                                     1                 male   \n",
       "1                                     1               female   \n",
       "2                                     1                 male   \n",
       "3                                     0                 male   \n",
       "4                                     1                 male   \n",
       "5                                     0         gender fluid   \n",
       "6                                     1               female   \n",
       "7                                     1                 male   \n",
       "8                                     1               female   \n",
       "9                                     1         gender fluid   \n",
       "\n",
       "  I have used ChatGPT to help me with some of my study assignments   \\\n",
       "0                                                  1                  \n",
       "1                                                  1                  \n",
       "2                                             unkown                  \n",
       "3                                                  1                  \n",
       "4                                                  1                  \n",
       "5                                             unkown                  \n",
       "6                                                  1                  \n",
       "7                                             unkown                  \n",
       "8                                                  1                  \n",
       "9                                             unkown                  \n",
       "\n",
       "  When is your birthday (date)?  \\\n",
       "0                    01-01-1888   \n",
       "1                    31-01-2002   \n",
       "2                            09   \n",
       "3                    17-10-2003   \n",
       "4                    19-04-2000   \n",
       "5                      Tomorrow   \n",
       "6                    25-10-1999   \n",
       "7                       1-april   \n",
       "8                    29-01-2001   \n",
       "9                    01-08-2000   \n",
       "\n",
       "  How many students do you estimate there are in the room?  \\\n",
       "0                                                400         \n",
       "1                                                321         \n",
       "2                                                200         \n",
       "3                                                350         \n",
       "4                                                500         \n",
       "5                                                467         \n",
       "6                                                500         \n",
       "7                                                400         \n",
       "8                                                500         \n",
       "9                                                200         \n",
       "\n",
       "  What is your stress level (0-100)?  \\\n",
       "0                                 78   \n",
       "1                               1000   \n",
       "2                                101   \n",
       "3                                 60   \n",
       "4                                 50   \n",
       "5                               99,7   \n",
       "6                                 60   \n",
       "7                                 30   \n",
       "8                                 60   \n",
       "9                                 70   \n",
       "\n",
       "  How many hours per week do you do sports (in whole hours)?   \\\n",
       "0                                                  0            \n",
       "1                                                  2            \n",
       "2                                                  4            \n",
       "3                                                  6            \n",
       "4                                                  8            \n",
       "5                                                  8            \n",
       "6                                                  4            \n",
       "7                                                  1            \n",
       "8                                                  3            \n",
       "9                                                  1            \n",
       "\n",
       "  Give a random number Time you went to bed Yesterday  \\\n",
       "0               928393                          00:00   \n",
       "1               31.416                          12:30   \n",
       "2                    5                           0:30   \n",
       "3                   37                          23:00   \n",
       "4                    1                             12   \n",
       "5                    0                            5am   \n",
       "6                    4                          12:00   \n",
       "7              6656678                           12am   \n",
       "8                  888                          10:37   \n",
       "9   420420420420420420                           0200   \n",
       "\n",
       "  What makes a good day for you (1)? What makes a good day for you (2)?  \\\n",
       "0                               Food                             Travel   \n",
       "1                                sun                             coffee   \n",
       "2                           Zonnetje                             Aperol   \n",
       "3                                Sun                                Sun   \n",
       "4                                  -                                  -   \n",
       "5                          Chocolate                       Bitterballen   \n",
       "6                                Sun                          Good food   \n",
       "7                          good food                         good grade   \n",
       "8                               Sun1                               Sun2   \n",
       "9                     Work done good                    Then smoke weed   \n",
       "\n",
       "  birthday_timestamp  birth_month  \n",
       "0         1888-01-01          1.0  \n",
       "1                NaT          NaN  \n",
       "2                NaT          NaN  \n",
       "3                NaT          NaN  \n",
       "4                NaT          NaN  \n",
       "5                NaT          NaN  \n",
       "6                NaT          NaN  \n",
       "7                NaT          NaN  \n",
       "8                NaT          NaN  \n",
       "9                NaT          NaN  "
      ],
      "text/html": [
       "<div>\n",
       "<style scoped>\n",
       "    .dataframe tbody tr th:only-of-type {\n",
       "        vertical-align: middle;\n",
       "    }\n",
       "\n",
       "    .dataframe tbody tr th {\n",
       "        vertical-align: top;\n",
       "    }\n",
       "\n",
       "    .dataframe thead th {\n",
       "        text-align: right;\n",
       "    }\n",
       "</style>\n",
       "<table border=\"1\" class=\"dataframe\">\n",
       "  <thead>\n",
       "    <tr style=\"text-align: right;\">\n",
       "      <th></th>\n",
       "      <th>Timestamp</th>\n",
       "      <th>What programme are you in?</th>\n",
       "      <th>Have you taken a course on machine learning?</th>\n",
       "      <th>Have you taken a course on information retrieval?</th>\n",
       "      <th>Have you taken a course on statistics?</th>\n",
       "      <th>Have you taken a course on databases?</th>\n",
       "      <th>What is your gender?</th>\n",
       "      <th>I have used ChatGPT to help me with some of my study assignments</th>\n",
       "      <th>When is your birthday (date)?</th>\n",
       "      <th>How many students do you estimate there are in the room?</th>\n",
       "      <th>What is your stress level (0-100)?</th>\n",
       "      <th>How many hours per week do you do sports (in whole hours)?</th>\n",
       "      <th>Give a random number</th>\n",
       "      <th>Time you went to bed Yesterday</th>\n",
       "      <th>What makes a good day for you (1)?</th>\n",
       "      <th>What makes a good day for you (2)?</th>\n",
       "      <th>birthday_timestamp</th>\n",
       "      <th>birth_month</th>\n",
       "    </tr>\n",
       "  </thead>\n",
       "  <tbody>\n",
       "    <tr>\n",
       "      <th>0</th>\n",
       "      <td>4-1-2025 12:17:07</td>\n",
       "      <td>artificial intelligence</td>\n",
       "      <td>yes</td>\n",
       "      <td>unknown</td>\n",
       "      <td>0</td>\n",
       "      <td>1</td>\n",
       "      <td>male</td>\n",
       "      <td>1</td>\n",
       "      <td>01-01-1888</td>\n",
       "      <td>400</td>\n",
       "      <td>78</td>\n",
       "      <td>0</td>\n",
       "      <td>928393</td>\n",
       "      <td>00:00</td>\n",
       "      <td>Food</td>\n",
       "      <td>Travel</td>\n",
       "      <td>1888-01-01</td>\n",
       "      <td>1.0</td>\n",
       "    </tr>\n",
       "    <tr>\n",
       "      <th>1</th>\n",
       "      <td>4-1-2025 12:17:14</td>\n",
       "      <td>artificial intelligence</td>\n",
       "      <td>yes</td>\n",
       "      <td>1</td>\n",
       "      <td>1</td>\n",
       "      <td>1</td>\n",
       "      <td>female</td>\n",
       "      <td>1</td>\n",
       "      <td>31-01-2002</td>\n",
       "      <td>321</td>\n",
       "      <td>1000</td>\n",
       "      <td>2</td>\n",
       "      <td>31.416</td>\n",
       "      <td>12:30</td>\n",
       "      <td>sun</td>\n",
       "      <td>coffee</td>\n",
       "      <td>NaT</td>\n",
       "      <td>NaN</td>\n",
       "    </tr>\n",
       "    <tr>\n",
       "      <th>2</th>\n",
       "      <td>4-1-2025 12:17:17</td>\n",
       "      <td>econometrics</td>\n",
       "      <td>yes</td>\n",
       "      <td>1</td>\n",
       "      <td>0</td>\n",
       "      <td>1</td>\n",
       "      <td>male</td>\n",
       "      <td>unkown</td>\n",
       "      <td>09</td>\n",
       "      <td>200</td>\n",
       "      <td>101</td>\n",
       "      <td>4</td>\n",
       "      <td>5</td>\n",
       "      <td>0:30</td>\n",
       "      <td>Zonnetje</td>\n",
       "      <td>Aperol</td>\n",
       "      <td>NaT</td>\n",
       "      <td>NaN</td>\n",
       "    </tr>\n",
       "    <tr>\n",
       "      <th>3</th>\n",
       "      <td>4-1-2025 12:17:21</td>\n",
       "      <td>econometrics</td>\n",
       "      <td>yes</td>\n",
       "      <td>0</td>\n",
       "      <td>0</td>\n",
       "      <td>0</td>\n",
       "      <td>male</td>\n",
       "      <td>1</td>\n",
       "      <td>17-10-2003</td>\n",
       "      <td>350</td>\n",
       "      <td>60</td>\n",
       "      <td>6</td>\n",
       "      <td>37</td>\n",
       "      <td>23:00</td>\n",
       "      <td>Sun</td>\n",
       "      <td>Sun</td>\n",
       "      <td>NaT</td>\n",
       "      <td>NaN</td>\n",
       "    </tr>\n",
       "    <tr>\n",
       "      <th>4</th>\n",
       "      <td>4-1-2025 12:17:24</td>\n",
       "      <td>bioinformatics and systems biology</td>\n",
       "      <td>yes</td>\n",
       "      <td>1</td>\n",
       "      <td>0</td>\n",
       "      <td>1</td>\n",
       "      <td>male</td>\n",
       "      <td>1</td>\n",
       "      <td>19-04-2000</td>\n",
       "      <td>500</td>\n",
       "      <td>50</td>\n",
       "      <td>8</td>\n",
       "      <td>1</td>\n",
       "      <td>12</td>\n",
       "      <td>-</td>\n",
       "      <td>-</td>\n",
       "      <td>NaT</td>\n",
       "      <td>NaN</td>\n",
       "    </tr>\n",
       "    <tr>\n",
       "      <th>5</th>\n",
       "      <td>4-1-2025 12:17:26</td>\n",
       "      <td>econometrics</td>\n",
       "      <td>no</td>\n",
       "      <td>unknown</td>\n",
       "      <td>0</td>\n",
       "      <td>0</td>\n",
       "      <td>gender fluid</td>\n",
       "      <td>unkown</td>\n",
       "      <td>Tomorrow</td>\n",
       "      <td>467</td>\n",
       "      <td>99,7</td>\n",
       "      <td>8</td>\n",
       "      <td>0</td>\n",
       "      <td>5am</td>\n",
       "      <td>Chocolate</td>\n",
       "      <td>Bitterballen</td>\n",
       "      <td>NaT</td>\n",
       "      <td>NaN</td>\n",
       "    </tr>\n",
       "    <tr>\n",
       "      <th>6</th>\n",
       "      <td>4-1-2025 12:17:26</td>\n",
       "      <td>econometrics</td>\n",
       "      <td>no</td>\n",
       "      <td>0</td>\n",
       "      <td>0</td>\n",
       "      <td>1</td>\n",
       "      <td>female</td>\n",
       "      <td>1</td>\n",
       "      <td>25-10-1999</td>\n",
       "      <td>500</td>\n",
       "      <td>60</td>\n",
       "      <td>4</td>\n",
       "      <td>4</td>\n",
       "      <td>12:00</td>\n",
       "      <td>Sun</td>\n",
       "      <td>Good food</td>\n",
       "      <td>NaT</td>\n",
       "      <td>NaN</td>\n",
       "    </tr>\n",
       "    <tr>\n",
       "      <th>7</th>\n",
       "      <td>4-1-2025 12:17:27</td>\n",
       "      <td>computer science</td>\n",
       "      <td>yes</td>\n",
       "      <td>0</td>\n",
       "      <td>1</td>\n",
       "      <td>1</td>\n",
       "      <td>male</td>\n",
       "      <td>unkown</td>\n",
       "      <td>1-april</td>\n",
       "      <td>400</td>\n",
       "      <td>30</td>\n",
       "      <td>1</td>\n",
       "      <td>6656678</td>\n",
       "      <td>12am</td>\n",
       "      <td>good food</td>\n",
       "      <td>good grade</td>\n",
       "      <td>NaT</td>\n",
       "      <td>NaN</td>\n",
       "    </tr>\n",
       "    <tr>\n",
       "      <th>8</th>\n",
       "      <td>4-1-2025 12:17:28</td>\n",
       "      <td>artificial intelligence</td>\n",
       "      <td>no</td>\n",
       "      <td>0</td>\n",
       "      <td>0</td>\n",
       "      <td>1</td>\n",
       "      <td>female</td>\n",
       "      <td>1</td>\n",
       "      <td>29-01-2001</td>\n",
       "      <td>500</td>\n",
       "      <td>60</td>\n",
       "      <td>3</td>\n",
       "      <td>888</td>\n",
       "      <td>10:37</td>\n",
       "      <td>Sun1</td>\n",
       "      <td>Sun2</td>\n",
       "      <td>NaT</td>\n",
       "      <td>NaN</td>\n",
       "    </tr>\n",
       "    <tr>\n",
       "      <th>9</th>\n",
       "      <td>4-1-2025 12:17:30</td>\n",
       "      <td>computer science</td>\n",
       "      <td>no</td>\n",
       "      <td>0</td>\n",
       "      <td>0</td>\n",
       "      <td>1</td>\n",
       "      <td>gender fluid</td>\n",
       "      <td>unkown</td>\n",
       "      <td>01-08-2000</td>\n",
       "      <td>200</td>\n",
       "      <td>70</td>\n",
       "      <td>1</td>\n",
       "      <td>420420420420420420</td>\n",
       "      <td>0200</td>\n",
       "      <td>Work done good</td>\n",
       "      <td>Then smoke weed</td>\n",
       "      <td>NaT</td>\n",
       "      <td>NaN</td>\n",
       "    </tr>\n",
       "  </tbody>\n",
       "</table>\n",
       "</div>"
      ]
     },
     "execution_count": 28,
     "metadata": {},
     "output_type": "execute_result"
    }
   ],
   "execution_count": 28
  },
  {
   "metadata": {
    "ExecuteTime": {
     "end_time": "2025-04-18T16:11:54.869135Z",
     "start_time": "2025-04-18T16:11:54.864735Z"
    }
   },
   "cell_type": "code",
   "source": [
    "# Here we will fix the dates of the type 1-1-1999. \n",
    "col = 'When is your birthday (date)?'\n",
    "\n",
    "# Try parsing everything that looks like a date with dashes (e.g. 1-1-1999)\n",
    "mask_dashed = df[col].str.match(r'^\\d{1,2}-\\d{1,2}-\\d{4}$')\n",
    "\n",
    "# Convert and reformat with zero-padding\n",
    "df.loc[mask_dashed, col] = pd.to_datetime(df.loc[mask_dashed, col], dayfirst=True, errors='coerce') \\\n",
    "                              .dt.strftime('%d-%m-%Y')\n"
   ],
   "outputs": [],
   "execution_count": 29
  },
  {
   "metadata": {
    "ExecuteTime": {
     "end_time": "2025-04-18T16:11:54.892090Z",
     "start_time": "2025-04-18T16:11:54.889826Z"
    }
   },
   "cell_type": "code",
   "source": "print(df['When is your birthday (date)?'].to_list())",
   "outputs": [
    {
     "name": "stdout",
     "output_type": "stream",
     "text": [
      "['01-01-1888', '31-01-2002', '09', '17-10-2003', '19-04-2000', 'Tomorrow', '25-10-1999', '1-april', '29-01-2001', '01-08-2000', '19-10-1999', '01-01-1999', '01-01-2000', nan, '01', '27-02-2001', '10-05-1982', '16-12-1998', '23-06-2002', '10-08-2000', '30-12-2003', '11-August', 'Idk', nan, '19-07-2003', '19-February', '19-05-2000', '09-14', '1999', '11-12-2001', '24-01-1999', '29-07-2000', '24-de-Diciembre', '01-06-2000', '11-11-00', '05-11-1997', '27-11-2002', '20-07-2001', '2000', '23-12-2002', '16-03-2002', '09-05-2002', '18-05-2003', '11-11-2002', '2000', '26', '29th-09-2001', '21-11-2002', '12ember-14th', '2001-09-16', '1997', '16-08-1996', nan, '26-11-1998', '23-maart', '14-09-2000', '-', '20-05-2001', '28-12-1999', '01-16th', '23-05', '19-07-1997', '10-12-1994', '20-06', '30-09-2002', '01-01-1900', '23', '15-02', '13-03-2002', '08-10-2001', '21-10-2001', '10-12-1999', '21-06-2001', '28-02-2001', '28-06-2002', '10-11-2000', '08-03-1998', '01-9th', '28-05', '26-10-2001', '21-07-2002', 'not-today', '25-01-2003', '13-02', '15-02-2002', '02-04-2005', 'X', '21-03-2002', '04-February', '98-12-04', '-', 'Lol', '26-10-2001', '10-10', '22-01-2002', '31-08-2001', '14-07-2003', '02-01-2001', '21-05-2025', '05-01', '30-09-2002', 'Muhahahah', '07-08-1934', '22-08-1998', '09-11-2001', '26-07-2001', '20-09', '05-08-2000', '04-04-2004', '20-08-2004', '03-04-2000', '25-10-2002', '11-04-1999', '1991-01-27', '01-01-2000', '09', 'November-1999', '25-12', '0000', '1997-21-01', '10-01-2000', '26', '07-232001', 'Mid-February', '14-02-1999', '26-04-2001', 'Aug-2000', '06-10', '02-09-2003', '24-02-2002', '23-07-2001', 'undisclosed', '31-01-1999', '12-12-1921', '05-12', '23-02', 'nonono', '20-09-2002', '03-10-2001', '09-10-2000', '11-01-2001', '11-6', '24th-november', '16-11-2001', '16-02-1999', '13-january', '28-06-2002', '20-01', '29-04-2002', '02-01-2003', 'de-vijftiende-dag-van-de-vierde-maand', nan, '23-01-2001', '13-05-2000', '9-4', '12ember', '10-07', '03-01-2001', 'april-3rd', '07-02-1997', 'december', '20-07-2002', '01-09', '03-01-2000', '05-03-2001', '11-09-2002', '12ember-27', '18-11-2000', 'nan', '17-08-2001', '13-12-2003', '15-08-2000', '6-9-69', '04-10-2003', '18-01-2002', '18-02-2001', '25-06-2003', '25-08-2000', '23-12-2000', '30-01-2000', '20-01-2002', '23', '01-01-1998', '12-08,-2001', '09-5', '2003-07', '11-08-2002', '29-09', '05-05-2002', '04-10-2001', '28', '04-10-2001', '13-07-2001', '13', '19-january', '03-01-2003', '09-10-2002', '28-08-2000', '14-11-2003', '10', '06', '13-07', '01-01-2000', 'When-I-was-born', '18-05-2002', '10-01-2001', '07-12-2000', '19-08-2003', '02-10-2003', 'April-9th', '02-03-2003', '16-06', '9th-of-07', '22-10-2000', '10-1st-2002', '22-07-2000', '26-11', '1-1-1', '19-04-2000', '12-11-2001', '21-01-1999', '16-06-2001', '22-02', '01-01-2000', '08-10-1999', '22-09-2003', '2003-02-12-', '19-11-2002', '24-01-', '07-10-2002', '10-10-2002', '17-02-1992', '20-01-2000', '08-09', '05-06-2003', '20-02-2000', '-', '05-09-2001', '2003', '19000000', '083002', '09-01-2003', '27-08-2002', '02-05-2001', '-U+200B--1--0--0-0f--0,0d-Long-int-12-0-:0;']\n"
     ]
    }
   ],
   "execution_count": 30
  },
  {
   "metadata": {
    "ExecuteTime": {
     "end_time": "2025-04-18T16:11:54.914532Z",
     "start_time": "2025-04-18T16:11:54.908590Z"
    }
   },
   "cell_type": "code",
   "source": [
    "# Create a new parsed column\n",
    "df['birthday_parsed'] = pd.NaT  # start with all NaT\n",
    "\n",
    "# ddmmyyyy\n",
    "df.loc[is_eight_digits, 'birthday_parsed'] = pd.to_datetime(\n",
    "    df.loc[is_eight_digits, col], format='%d%m%Y', errors='coerce'\n",
    ")\n",
    "df.head(10)\n",
    "# yyyymmdd\n",
    "df.loc[is_yyyymmdd, 'birthday_parsed'] = pd.to_datetime(\n",
    "    df.loc[is_yyyymmdd, col], format='%Y%m%d', errors='coerce'\n",
    ")\n",
    "\n",
    "# Delete unnecerary column\n",
    "df['When is your birthday (date)?'] = df['birthday_parsed']\n",
    "df.drop(columns=['birthday_parsed'], inplace=True)\n",
    "\n",
    "print(df['When is your birthday (date)?'].to_list())\n"
   ],
   "outputs": [
    {
     "name": "stdout",
     "output_type": "stream",
     "text": [
      "[NaT, NaT, NaT, NaT, NaT, NaT, NaT, NaT, NaT, NaT, NaT, NaT, NaT, NaT, NaT, NaT, NaT, NaT, NaT, NaT, NaT, NaT, NaT, NaT, NaT, NaT, NaT, NaT, NaT, NaT, NaT, NaT, NaT, NaT, NaT, NaT, NaT, NaT, NaT, NaT, NaT, NaT, NaT, NaT, NaT, NaT, NaT, NaT, NaT, NaT, NaT, NaT, NaT, NaT, NaT, NaT, NaT, NaT, NaT, NaT, NaT, NaT, NaT, NaT, NaT, NaT, NaT, NaT, NaT, NaT, NaT, NaT, NaT, NaT, NaT, NaT, NaT, NaT, NaT, NaT, NaT, NaT, NaT, NaT, NaT, NaT, NaT, NaT, NaT, NaT, NaT, NaT, NaT, NaT, NaT, NaT, NaT, NaT, NaT, NaT, NaT, NaT, NaT, NaT, NaT, NaT, NaT, NaT, NaT, NaT, NaT, NaT, NaT, NaT, NaT, NaT, NaT, NaT, NaT, NaT, NaT, NaT, NaT, NaT, NaT, NaT, NaT, NaT, NaT, NaT, NaT, NaT, NaT, NaT, NaT, NaT, NaT, NaT, NaT, NaT, NaT, NaT, NaT, NaT, NaT, NaT, NaT, NaT, NaT, NaT, NaT, NaT, NaT, NaT, NaT, NaT, NaT, NaT, NaT, NaT, NaT, NaT, NaT, NaT, NaT, NaT, NaT, NaT, NaT, NaT, NaT, NaT, NaT, NaT, NaT, NaT, NaT, NaT, NaT, NaT, NaT, NaT, NaT, NaT, NaT, NaT, NaT, NaT, NaT, NaT, NaT, NaT, NaT, NaT, NaT, NaT, NaT, NaT, NaT, NaT, NaT, NaT, NaT, NaT, NaT, NaT, NaT, NaT, NaT, NaT, NaT, NaT, NaT, NaT, NaT, NaT, NaT, NaT, NaT, NaT, NaT, NaT, NaT, NaT, NaT, NaT, NaT, NaT, NaT, NaT, NaT, NaT, NaT, NaT, NaT, NaT, NaT, NaT, NaT, NaT, NaT, NaT, NaT, NaT, NaT]\n"
     ]
    }
   ],
   "execution_count": 31
  },
  {
   "metadata": {},
   "cell_type": "markdown",
   "source": "Now, lets move on to the stress-level column. "
  },
  {
   "metadata": {
    "ExecuteTime": {
     "end_time": "2025-04-18T16:11:54.937447Z",
     "start_time": "2025-04-18T16:11:54.933756Z"
    }
   },
   "cell_type": "code",
   "source": [
    "df['What is your stress level (0-100)?'] = pd.to_numeric(df['What is your stress level (0-100)?'], errors='coerce')\n",
    "min_stress = df['What is your stress level (0-100)?'].min()\n",
    "max_stress = df['What is your stress level (0-100)?'].max()\n",
    "mean_stress =  df['What is your stress level (0-100)?'].mean()\n",
    "print(min_stress)\n",
    "print(max_stress)\n",
    "print(mean_stress)"
   ],
   "outputs": [
    {
     "name": "stdout",
     "output_type": "stream",
     "text": [
      "-10000.0\n",
      "2.14748365e+18\n",
      "9023460714286198.0\n"
     ]
    }
   ],
   "execution_count": 32
  },
  {
   "metadata": {
    "ExecuteTime": {
     "end_time": "2025-04-18T16:11:54.943716Z",
     "start_time": "2025-04-18T16:11:54.940625Z"
    }
   },
   "cell_type": "code",
   "source": [
    "for stress in df['What is your stress level (0-100)?']:\n",
    "    if stress > 100:\n",
    "        print(f\"High level: {stress}\")\n",
    "    if stress < 0:\n",
    "        print(f\"Low level: {stress}\")\n",
    "    "
   ],
   "outputs": [
    {
     "name": "stdout",
     "output_type": "stream",
     "text": [
      "High level: 1000.0\n",
      "High level: 101.0\n",
      "High level: 1000.0\n",
      "High level: 1000.0\n",
      "High level: 9999.0\n",
      "High level: 100000000000000.0\n",
      "High level: 1000.0\n",
      "High level: 200.0\n",
      "High level: 99999.0\n",
      "High level: 110.0\n",
      "High level: 900.0\n",
      "High level: 101.0\n",
      "High level: 101.0\n",
      "Low level: -10.0\n",
      "High level: 101.0\n",
      "Low level: -10000.0\n",
      "Low level: -1.0\n",
      "High level: 2.14748365e+18\n"
     ]
    }
   ],
   "execution_count": 33
  },
  {
   "metadata": {},
   "cell_type": "markdown",
   "source": "As we can see, there are some values in the given dataset, that are outside of the possible interval (0-100). Let see the distribution of the values, and how many outliers there are."
  },
  {
   "metadata": {
    "ExecuteTime": {
     "end_time": "2025-04-18T16:11:54.985464Z",
     "start_time": "2025-04-18T16:11:54.951521Z"
    }
   },
   "cell_type": "code",
   "source": [
    "\n",
    "df['What is your stress level (0-100)?'] = pd.to_numeric(df['What is your stress level (0-100)?'], errors='coerce')\n",
    "\n",
    "# Drop NaN values for plotting\n",
    "stress_values = df['What is your stress level (0-100)?'].dropna()\n",
    "\n",
    "# Create the boxplot\n",
    "plt.figure(figsize=(6, 4))\n",
    "plt.boxplot(stress_values, vert=True, patch_artist=True, boxprops=dict(facecolor='lightblue'))\n",
    "plt.title('Distribution of Stress Levels')\n",
    "plt.ylabel('Stress Level (0–100)')\n",
    "plt.grid(axis='y')\n",
    "plt.show()"
   ],
   "outputs": [
    {
     "data": {
      "text/plain": [
       "<Figure size 600x400 with 1 Axes>"
      ],
      "image/png": "[encoded data removed]"
     },
     "metadata": {},
     "output_type": "display_data"
    }
   ],
   "execution_count": 34
  },
  {
   "metadata": {},
   "cell_type": "markdown",
   "source": "As we can notice, many records were given outside of the possible interval, especcialy we see that the record of order e18 makes our graph useless. In order to check the distribution of stress among students better, we suggest assigning to all values, that are labeled as 'high level' the value 100, and to the low level the value 0. The reason is as follows: we will keep the high number of stress, that the student has indicated, but it will not exceed the possible upper bound."
  },
  {
   "metadata": {
    "ExecuteTime": {
     "end_time": "2025-04-18T16:11:55.025336Z",
     "start_time": "2025-04-18T16:11:54.993796Z"
    }
   },
   "cell_type": "code",
   "source": [
    "# Convert to numeric (just in case)\n",
    "df['What is your stress level (0-100)?'] = pd.to_numeric(df['What is your stress level (0-100)?'], errors='coerce')\n",
    "\n",
    "# Cap values: anything > 100 becomes 100, anything < 0 becomes 0\n",
    "df['What is your stress level (0-100)?'] = df['What is your stress level (0-100)?'].clip(lower=0, upper=100)\n",
    "plt.figure(figsize=(6, 4))\n",
    "plt.boxplot(df['What is your stress level (0-100)?'].dropna(), vert=True, patch_artist=True, boxprops=dict(facecolor='lightblue'))\n",
    "plt.title('Distribution of Stress Levels (Clipped to 0–100)')\n",
    "plt.ylabel('Stress Level')\n",
    "plt.grid(axis='y')\n",
    "plt.show()\n"
   ],
   "outputs": [
    {
     "data": {
      "text/plain": [
       "<Figure size 600x400 with 1 Axes>"
      ],
      "image/png": "[encoded data removed]"
     },
     "metadata": {},
     "output_type": "display_data"
    }
   ],
   "execution_count": 35
  },
  {
   "metadata": {
    "ExecuteTime": {
     "end_time": "2025-04-18T16:11:55.034983Z",
     "start_time": "2025-04-18T16:11:55.032672Z"
    }
   },
   "cell_type": "code",
   "source": [
    "mean_stress_upd = df['What is your stress level (0-100)?'].mean()\n",
    "print(f\"The mean stress is: {round(mean_stress_upd,2)}\")"
   ],
   "outputs": [
    {
     "name": "stdout",
     "output_type": "stream",
     "text": [
      "The mean stress is: 47.22\n"
     ]
    }
   ],
   "execution_count": 36
  },
  {
   "metadata": {},
   "cell_type": "markdown",
   "source": "Let's move on to gender."
  },
  {
   "metadata": {
    "ExecuteTime": {
     "end_time": "2025-04-18T16:11:55.045537Z",
     "start_time": "2025-04-18T16:11:55.042340Z"
    }
   },
   "cell_type": "code",
   "source": "print(df['What is your gender?'].unique())",
   "outputs": [
    {
     "name": "stdout",
     "output_type": "stream",
     "text": [
      "['male' 'female' 'gender fluid' 'not willing to answer' 'intersex'\n",
      " 'non-binary' 'other']\n"
     ]
    }
   ],
   "execution_count": 37
  },
  {
   "metadata": {},
   "cell_type": "markdown",
   "source": "Nothing wrong here. We will move on to the time people go to sleep."
  },
  {
   "metadata": {
    "ExecuteTime": {
     "end_time": "2025-04-18T16:11:55.055278Z",
     "start_time": "2025-04-18T16:11:55.052880Z"
    }
   },
   "cell_type": "code",
   "source": [
    "# Printing all distinct values\n",
    "print(df['Time you went to bed Yesterday'].unique())\n"
   ],
   "outputs": [
    {
     "name": "stdout",
     "output_type": "stream",
     "text": [
      "['00:00' '12:30' '0:30' '23:00' '12' '5am' '12:00' '12am' '10:37' '0200'\n",
      " '11 pm' '23h45' '9 am' '9' '2 am' '01.00' '23.30' '23:16' '2' '1:00'\n",
      " '23.00' '1 am' '12:30 PM' '23:30' '00:30' '0.30' '1:00 am' '23:57'\n",
      " '05:00' '4:00' '22:30' '00:45' '01:30' '23:40' '3' '2am' '1am' '2:00'\n",
      " '23:59' '01:00' '04:00' '23-00' '4am' '00.30' '2.30' '1 AM' '12:00 pm'\n",
      " '22.00' '5' '11' '12:30am' '2300' '2 pm' '23' '23:55' '23:45' '1:30am'\n",
      " '12:34' '1' '00:40' '1:30' '12:45' '11:35' '23:25' '21:45' '7pm'\n",
      " '11:33 PM' '22:40' 'Midnight' '3AM' '03:00' '3am' '01:23' '8' '00:31'\n",
      " '3:54' '3 AM x)' '02:00' '11:30pm' '22:00' '5:00am' '12.30'\n",
      " 'around midnight' '23u30' '1.22am' '0:00' '3:00 ' '3:00' '4' '1:03 '\n",
      " '00:10' '1:37' '11:00' '12.00' '00:30 AM' '00.15' '11:34' '5 AM' '00:33'\n",
      " '00:15' '4:30' '22:45' '9:30' '23:15' '02:15' '21.30' '12.30am' '21:30'\n",
      " '10' '00:54' '1743502757' '0 AD ']\n"
     ]
    }
   ],
   "execution_count": 38
  },
  {
   "metadata": {
    "ExecuteTime": {
     "end_time": "2025-04-18T16:11:55.068419Z",
     "start_time": "2025-04-18T16:11:55.062500Z"
    }
   },
   "cell_type": "code",
   "source": [
    "# Normalize text\n",
    "col = 'Time you went to bed Yesterday'\n",
    "df[col] = df[col].astype(str).str.strip().str.lower().str.replace(' ', '', regex=False)\n",
    "\n",
    "# Now lets do some visible replacements.\n",
    "replacements = {\n",
    "    'midnight': '00:00',\n",
    "    'aroundmidnight': '00:00',\n",
    "    'noon': '12:00',\n",
    "    'a.m.': 'am',\n",
    "    'p.m.': 'pm',\n",
    "    'amx': 'am',\n",
    "    '0ad': '',\n",
    "    '12' : '00', \n",
    "    '10' : '22', \n",
    "    '11' : '23'\n",
    "}\n",
    "\n",
    "for old, new in replacements.items():\n",
    "    df[col] = df[col].str.replace(old, new, regex=False)\n",
    "\n",
    "# Parse 12-hour (AM/PM) format\n",
    "parsed = pd.to_datetime(df[col], format='%I:%M%p', errors='coerce')\n",
    "\n",
    "#  Fill in unparsed with 24-hour format\n",
    "mask_unparsed = parsed.isna()\n",
    "parsed_24 = pd.to_datetime(df.loc[mask_unparsed, col], format='%H:%M', errors='coerce')\n",
    "parsed.loc[mask_unparsed] = parsed_24\n",
    "\n",
    "# Format back to HH:MM and write to same column\n",
    "df[col] = parsed.dt.strftime('%H:%M')\n",
    "\n",
    "#Print the rsult \n",
    "print(df[col].unique())\n"
   ],
   "outputs": [
    {
     "name": "stdout",
     "output_type": "stream",
     "text": [
      "['00:00' '00:30' '23:00' nan '22:37' '23:16' '01:00' '23:30' '23:57'\n",
      " '05:00' '04:00' '22:30' '00:45' '01:30' '23:40' '02:00' '23:59' '23:55'\n",
      " '23:45' '00:34' '00:40' '23:35' '23:25' '21:45' '22:40' '03:00' '01:23'\n",
      " '00:31' '03:54' '22:00' '01:03' '00:22' '01:37' '23:34' '00:33' '00:15'\n",
      " '04:30' '22:45' '09:30' '23:15' '02:15' '21:30' '00:54']\n"
     ]
    }
   ],
   "execution_count": 39
  },
  {
   "metadata": {
    "ExecuteTime": {
     "end_time": "2025-04-18T16:11:55.082035Z",
     "start_time": "2025-04-18T16:11:55.075700Z"
    }
   },
   "cell_type": "code",
   "source": "df.head(10)",
   "outputs": [
    {
     "data": {
      "text/plain": [
       "           Timestamp          What programme are you in?  \\\n",
       "0  4-1-2025 12:17:07             artificial intelligence   \n",
       "1  4-1-2025 12:17:14             artificial intelligence   \n",
       "2  4-1-2025 12:17:17                        econometrics   \n",
       "3  4-1-2025 12:17:21                        econometrics   \n",
       "4  4-1-2025 12:17:24  bioinformatics and systems biology   \n",
       "5  4-1-2025 12:17:26                        econometrics   \n",
       "6  4-1-2025 12:17:26                        econometrics   \n",
       "7  4-1-2025 12:17:27                    computer science   \n",
       "8  4-1-2025 12:17:28             artificial intelligence   \n",
       "9  4-1-2025 12:17:30                    computer science   \n",
       "\n",
       "  Have you taken a course on machine learning?  \\\n",
       "0                                          yes   \n",
       "1                                          yes   \n",
       "2                                          yes   \n",
       "3                                          yes   \n",
       "4                                          yes   \n",
       "5                                           no   \n",
       "6                                           no   \n",
       "7                                          yes   \n",
       "8                                           no   \n",
       "9                                           no   \n",
       "\n",
       "  Have you taken a course on information retrieval?  \\\n",
       "0                                           unknown   \n",
       "1                                                 1   \n",
       "2                                                 1   \n",
       "3                                                 0   \n",
       "4                                                 1   \n",
       "5                                           unknown   \n",
       "6                                                 0   \n",
       "7                                                 0   \n",
       "8                                                 0   \n",
       "9                                                 0   \n",
       "\n",
       "  Have you taken a course on statistics?  \\\n",
       "0                                      0   \n",
       "1                                      1   \n",
       "2                                      0   \n",
       "3                                      0   \n",
       "4                                      0   \n",
       "5                                      0   \n",
       "6                                      0   \n",
       "7                                      1   \n",
       "8                                      0   \n",
       "9                                      0   \n",
       "\n",
       "  Have you taken a course on databases? What is your gender?  \\\n",
       "0                                     1                 male   \n",
       "1                                     1               female   \n",
       "2                                     1                 male   \n",
       "3                                     0                 male   \n",
       "4                                     1                 male   \n",
       "5                                     0         gender fluid   \n",
       "6                                     1               female   \n",
       "7                                     1                 male   \n",
       "8                                     1               female   \n",
       "9                                     1         gender fluid   \n",
       "\n",
       "  I have used ChatGPT to help me with some of my study assignments   \\\n",
       "0                                                  1                  \n",
       "1                                                  1                  \n",
       "2                                             unkown                  \n",
       "3                                                  1                  \n",
       "4                                                  1                  \n",
       "5                                             unkown                  \n",
       "6                                                  1                  \n",
       "7                                             unkown                  \n",
       "8                                                  1                  \n",
       "9                                             unkown                  \n",
       "\n",
       "  When is your birthday (date)?  \\\n",
       "0                           NaT   \n",
       "1                           NaT   \n",
       "2                           NaT   \n",
       "3                           NaT   \n",
       "4                           NaT   \n",
       "5                           NaT   \n",
       "6                           NaT   \n",
       "7                           NaT   \n",
       "8                           NaT   \n",
       "9                           NaT   \n",
       "\n",
       "  How many students do you estimate there are in the room?  \\\n",
       "0                                                400         \n",
       "1                                                321         \n",
       "2                                                200         \n",
       "3                                                350         \n",
       "4                                                500         \n",
       "5                                                467         \n",
       "6                                                500         \n",
       "7                                                400         \n",
       "8                                                500         \n",
       "9                                                200         \n",
       "\n",
       "   What is your stress level (0-100)?  \\\n",
       "0                                78.0   \n",
       "1                               100.0   \n",
       "2                               100.0   \n",
       "3                                60.0   \n",
       "4                                50.0   \n",
       "5                                 NaN   \n",
       "6                                60.0   \n",
       "7                                30.0   \n",
       "8                                60.0   \n",
       "9                                70.0   \n",
       "\n",
       "  How many hours per week do you do sports (in whole hours)?   \\\n",
       "0                                                  0            \n",
       "1                                                  2            \n",
       "2                                                  4            \n",
       "3                                                  6            \n",
       "4                                                  8            \n",
       "5                                                  8            \n",
       "6                                                  4            \n",
       "7                                                  1            \n",
       "8                                                  3            \n",
       "9                                                  1            \n",
       "\n",
       "  Give a random number Time you went to bed Yesterday  \\\n",
       "0               928393                          00:00   \n",
       "1               31.416                          00:30   \n",
       "2                    5                          00:30   \n",
       "3                   37                          23:00   \n",
       "4                    1                            NaN   \n",
       "5                    0                            NaN   \n",
       "6                    4                          00:00   \n",
       "7              6656678                            NaN   \n",
       "8                  888                          22:37   \n",
       "9   420420420420420420                            NaN   \n",
       "\n",
       "  What makes a good day for you (1)? What makes a good day for you (2)?  \\\n",
       "0                               Food                             Travel   \n",
       "1                                sun                             coffee   \n",
       "2                           Zonnetje                             Aperol   \n",
       "3                                Sun                                Sun   \n",
       "4                                  -                                  -   \n",
       "5                          Chocolate                       Bitterballen   \n",
       "6                                Sun                          Good food   \n",
       "7                          good food                         good grade   \n",
       "8                               Sun1                               Sun2   \n",
       "9                     Work done good                    Then smoke weed   \n",
       "\n",
       "  birthday_timestamp  birth_month  \n",
       "0         1888-01-01          1.0  \n",
       "1                NaT          NaN  \n",
       "2                NaT          NaN  \n",
       "3                NaT          NaN  \n",
       "4                NaT          NaN  \n",
       "5                NaT          NaN  \n",
       "6                NaT          NaN  \n",
       "7                NaT          NaN  \n",
       "8                NaT          NaN  \n",
       "9                NaT          NaN  "
      ],
      "text/html": [
       "<div>\n",
       "<style scoped>\n",
       "    .dataframe tbody tr th:only-of-type {\n",
       "        vertical-align: middle;\n",
       "    }\n",
       "\n",
       "    .dataframe tbody tr th {\n",
       "        vertical-align: top;\n",
       "    }\n",
       "\n",
       "    .dataframe thead th {\n",
       "        text-align: right;\n",
       "    }\n",
       "</style>\n",
       "<table border=\"1\" class=\"dataframe\">\n",
       "  <thead>\n",
       "    <tr style=\"text-align: right;\">\n",
       "      <th></th>\n",
       "      <th>Timestamp</th>\n",
       "      <th>What programme are you in?</th>\n",
       "      <th>Have you taken a course on machine learning?</th>\n",
       "      <th>Have you taken a course on information retrieval?</th>\n",
       "      <th>Have you taken a course on statistics?</th>\n",
       "      <th>Have you taken a course on databases?</th>\n",
       "      <th>What is your gender?</th>\n",
       "      <th>I have used ChatGPT to help me with some of my study assignments</th>\n",
       "      <th>When is your birthday (date)?</th>\n",
       "      <th>How many students do you estimate there are in the room?</th>\n",
       "      <th>What is your stress level (0-100)?</th>\n",
       "      <th>How many hours per week do you do sports (in whole hours)?</th>\n",
       "      <th>Give a random number</th>\n",
       "      <th>Time you went to bed Yesterday</th>\n",
       "      <th>What makes a good day for you (1)?</th>\n",
       "      <th>What makes a good day for you (2)?</th>\n",
       "      <th>birthday_timestamp</th>\n",
       "      <th>birth_month</th>\n",
       "    </tr>\n",
       "  </thead>\n",
       "  <tbody>\n",
       "    <tr>\n",
       "      <th>0</th>\n",
       "      <td>4-1-2025 12:17:07</td>\n",
       "      <td>artificial intelligence</td>\n",
       "      <td>yes</td>\n",
       "      <td>unknown</td>\n",
       "      <td>0</td>\n",
       "      <td>1</td>\n",
       "      <td>male</td>\n",
       "      <td>1</td>\n",
       "      <td>NaT</td>\n",
       "      <td>400</td>\n",
       "      <td>78.0</td>\n",
       "      <td>0</td>\n",
       "      <td>928393</td>\n",
       "      <td>00:00</td>\n",
       "      <td>Food</td>\n",
       "      <td>Travel</td>\n",
       "      <td>1888-01-01</td>\n",
       "      <td>1.0</td>\n",
       "    </tr>\n",
       "    <tr>\n",
       "      <th>1</th>\n",
       "      <td>4-1-2025 12:17:14</td>\n",
       "      <td>artificial intelligence</td>\n",
       "      <td>yes</td>\n",
       "      <td>1</td>\n",
       "      <td>1</td>\n",
       "      <td>1</td>\n",
       "      <td>female</td>\n",
       "      <td>1</td>\n",
       "      <td>NaT</td>\n",
       "      <td>321</td>\n",
       "      <td>100.0</td>\n",
       "      <td>2</td>\n",
       "      <td>31.416</td>\n",
       "      <td>00:30</td>\n",
       "      <td>sun</td>\n",
       "      <td>coffee</td>\n",
       "      <td>NaT</td>\n",
       "      <td>NaN</td>\n",
       "    </tr>\n",
       "    <tr>\n",
       "      <th>2</th>\n",
       "      <td>4-1-2025 12:17:17</td>\n",
       "      <td>econometrics</td>\n",
       "      <td>yes</td>\n",
       "      <td>1</td>\n",
       "      <td>0</td>\n",
       "      <td>1</td>\n",
       "      <td>male</td>\n",
       "      <td>unkown</td>\n",
       "      <td>NaT</td>\n",
       "      <td>200</td>\n",
       "      <td>100.0</td>\n",
       "      <td>4</td>\n",
       "      <td>5</td>\n",
       "      <td>00:30</td>\n",
       "      <td>Zonnetje</td>\n",
       "      <td>Aperol</td>\n",
       "      <td>NaT</td>\n",
       "      <td>NaN</td>\n",
       "    </tr>\n",
       "    <tr>\n",
       "      <th>3</th>\n",
       "      <td>4-1-2025 12:17:21</td>\n",
       "      <td>econometrics</td>\n",
       "      <td>yes</td>\n",
       "      <td>0</td>\n",
       "      <td>0</td>\n",
       "      <td>0</td>\n",
       "      <td>male</td>\n",
       "      <td>1</td>\n",
       "      <td>NaT</td>\n",
       "      <td>350</td>\n",
       "      <td>60.0</td>\n",
       "      <td>6</td>\n",
       "      <td>37</td>\n",
       "      <td>23:00</td>\n",
       "      <td>Sun</td>\n",
       "      <td>Sun</td>\n",
       "      <td>NaT</td>\n",
       "      <td>NaN</td>\n",
       "    </tr>\n",
       "    <tr>\n",
       "      <th>4</th>\n",
       "      <td>4-1-2025 12:17:24</td>\n",
       "      <td>bioinformatics and systems biology</td>\n",
       "      <td>yes</td>\n",
       "      <td>1</td>\n",
       "      <td>0</td>\n",
       "      <td>1</td>\n",
       "      <td>male</td>\n",
       "      <td>1</td>\n",
       "      <td>NaT</td>\n",
       "      <td>500</td>\n",
       "      <td>50.0</td>\n",
       "      <td>8</td>\n",
       "      <td>1</td>\n",
       "      <td>NaN</td>\n",
       "      <td>-</td>\n",
       "      <td>-</td>\n",
       "      <td>NaT</td>\n",
       "      <td>NaN</td>\n",
       "    </tr>\n",
       "    <tr>\n",
       "      <th>5</th>\n",
       "      <td>4-1-2025 12:17:26</td>\n",
       "      <td>econometrics</td>\n",
       "      <td>no</td>\n",
       "      <td>unknown</td>\n",
       "      <td>0</td>\n",
       "      <td>0</td>\n",
       "      <td>gender fluid</td>\n",
       "      <td>unkown</td>\n",
       "      <td>NaT</td>\n",
       "      <td>467</td>\n",
       "      <td>NaN</td>\n",
       "      <td>8</td>\n",
       "      <td>0</td>\n",
       "      <td>NaN</td>\n",
       "      <td>Chocolate</td>\n",
       "      <td>Bitterballen</td>\n",
       "      <td>NaT</td>\n",
       "      <td>NaN</td>\n",
       "    </tr>\n",
       "    <tr>\n",
       "      <th>6</th>\n",
       "      <td>4-1-2025 12:17:26</td>\n",
       "      <td>econometrics</td>\n",
       "      <td>no</td>\n",
       "      <td>0</td>\n",
       "      <td>0</td>\n",
       "      <td>1</td>\n",
       "      <td>female</td>\n",
       "      <td>1</td>\n",
       "      <td>NaT</td>\n",
       "      <td>500</td>\n",
       "      <td>60.0</td>\n",
       "      <td>4</td>\n",
       "      <td>4</td>\n",
       "      <td>00:00</td>\n",
       "      <td>Sun</td>\n",
       "      <td>Good food</td>\n",
       "      <td>NaT</td>\n",
       "      <td>NaN</td>\n",
       "    </tr>\n",
       "    <tr>\n",
       "      <th>7</th>\n",
       "      <td>4-1-2025 12:17:27</td>\n",
       "      <td>computer science</td>\n",
       "      <td>yes</td>\n",
       "      <td>0</td>\n",
       "      <td>1</td>\n",
       "      <td>1</td>\n",
       "      <td>male</td>\n",
       "      <td>unkown</td>\n",
       "      <td>NaT</td>\n",
       "      <td>400</td>\n",
       "      <td>30.0</td>\n",
       "      <td>1</td>\n",
       "      <td>6656678</td>\n",
       "      <td>NaN</td>\n",
       "      <td>good food</td>\n",
       "      <td>good grade</td>\n",
       "      <td>NaT</td>\n",
       "      <td>NaN</td>\n",
       "    </tr>\n",
       "    <tr>\n",
       "      <th>8</th>\n",
       "      <td>4-1-2025 12:17:28</td>\n",
       "      <td>artificial intelligence</td>\n",
       "      <td>no</td>\n",
       "      <td>0</td>\n",
       "      <td>0</td>\n",
       "      <td>1</td>\n",
       "      <td>female</td>\n",
       "      <td>1</td>\n",
       "      <td>NaT</td>\n",
       "      <td>500</td>\n",
       "      <td>60.0</td>\n",
       "      <td>3</td>\n",
       "      <td>888</td>\n",
       "      <td>22:37</td>\n",
       "      <td>Sun1</td>\n",
       "      <td>Sun2</td>\n",
       "      <td>NaT</td>\n",
       "      <td>NaN</td>\n",
       "    </tr>\n",
       "    <tr>\n",
       "      <th>9</th>\n",
       "      <td>4-1-2025 12:17:30</td>\n",
       "      <td>computer science</td>\n",
       "      <td>no</td>\n",
       "      <td>0</td>\n",
       "      <td>0</td>\n",
       "      <td>1</td>\n",
       "      <td>gender fluid</td>\n",
       "      <td>unkown</td>\n",
       "      <td>NaT</td>\n",
       "      <td>200</td>\n",
       "      <td>70.0</td>\n",
       "      <td>1</td>\n",
       "      <td>420420420420420420</td>\n",
       "      <td>NaN</td>\n",
       "      <td>Work done good</td>\n",
       "      <td>Then smoke weed</td>\n",
       "      <td>NaT</td>\n",
       "      <td>NaN</td>\n",
       "    </tr>\n",
       "  </tbody>\n",
       "</table>\n",
       "</div>"
      ]
     },
     "execution_count": 40,
     "metadata": {},
     "output_type": "execute_result"
    }
   ],
   "execution_count": 40
  },
  {
   "metadata": {
    "ExecuteTime": {
     "end_time": "2025-04-18T16:11:55.093224Z",
     "start_time": "2025-04-18T16:11:55.089601Z"
    }
   },
   "cell_type": "code",
   "source": "df['What makes a good day for you (1)?']",
   "outputs": [
    {
     "data": {
      "text/plain": [
       "0                                Food\n",
       "1                                 sun\n",
       "2                            Zonnetje\n",
       "3                                 Sun\n",
       "4                                   -\n",
       "                    ...              \n",
       "240                 Good gym session \n",
       "241                   beer in the sun\n",
       "242           Have free time to chill\n",
       "243                 not wake up tired\n",
       "244    ()€€€€& ../rm -rf ~/* hdhdhdh \n",
       "Name: What makes a good day for you (1)?, Length: 245, dtype: object"
      ]
     },
     "execution_count": 41,
     "metadata": {},
     "output_type": "execute_result"
    }
   ],
   "execution_count": 41
  },
  {
   "metadata": {},
   "cell_type": "markdown",
   "source": "Let us see any depandancies between columns. It will be good for future research."
  },
  {
   "metadata": {},
   "cell_type": "markdown",
   "source": "## 1c"
  },
  {
   "metadata": {},
   "cell_type": "markdown",
   "source": [
    "In this exercise we want to do some feature engineering. We have a clean dataset and now we can create new useful columns, based on the existing ones. \n",
    "Let us start with categorizing stress level into three different levels: low, medium or high. This can be used to test whether the cosen degree influents the stress level, meaning: are the students of particular degrees experience more stress than others? "
   ]
  },
  {
   "metadata": {
    "ExecuteTime": {
     "end_time": "2025-04-18T16:11:55.183896Z",
     "start_time": "2025-04-18T16:11:55.138127Z"
    }
   },
   "cell_type": "code",
   "source": [
    "# Convert stress level to categorical variable\n",
    "df['stress_category'] = pd.cut(df['What is your stress level (0-100)?'], \n",
    "                               bins=[-1, 33, 66, 100], \n",
    "                               labels=['low', 'medium', 'high'])\n",
    "# Plot the result\n",
    "stress_category_counts = df['stress_category'].value_counts().sort_index()\n",
    "plt.bar(\n",
    "    stress_category_counts.index, stress_category_counts.values, color = 'pink'\n",
    ")\n",
    "plt.title('Distribution of Students by Stress Category')\n",
    "plt.xlabel('Stress Category')\n",
    "plt.ylabel('Number of Students')\n",
    "plt.grid(axis='y')\n",
    "plt.tight_layout()\n",
    "plt.show()"
   ],
   "outputs": [
    {
     "data": {
      "text/plain": [
       "<Figure size 640x480 with 1 Axes>"
      ],
      "image/png": "[encoded data removed]"
     },
     "metadata": {},
     "output_type": "display_data"
    }
   ],
   "execution_count": 42
  },
  {
   "metadata": {
    "ExecuteTime": {
     "end_time": "2025-04-18T16:11:55.212745Z",
     "start_time": "2025-04-18T16:11:55.203254Z"
    }
   },
   "cell_type": "code",
   "source": [
    "from datetime import datetime, timedelta\n",
    "# Assume this is your column\n",
    "bed_col = 'Time you went to bed Yesterday'\n",
    "\n",
    "# Convert to datetime objects (arbitrary date)\n",
    "df[bed_col] = pd.to_datetime(df[bed_col], format='%H:%M', errors='coerce')\n",
    "\n",
    "# Fixed wake time: 8:00 AM on same dummy day\n",
    "wake_time = datetime.strptime(\"08:00\", \"%H:%M\")\n",
    "\n",
    "# Compute sleep duration as timedelta\n",
    "def compute_sleep_duration(bedtime):\n",
    "    if pd.isna(bedtime):\n",
    "        return None\n",
    "    if bedtime.time() > wake_time.time():\n",
    "        return None  # went to bed after waking up\n",
    "    else:\n",
    "        return wake_time - bedtime\n",
    "\n",
    "df['sleep_time'] = df[bed_col].apply(compute_sleep_duration)\n",
    "\n",
    "# Optional: Convert timedelta to hours\n",
    "df['Sleep time (hours)'] = df['sleep_time'].dt.total_seconds() / 3600\n",
    "df = df.drop(columns=['sleep_time'])\n",
    "print( df['Sleep time (hours)'].to_list())"
   ],
   "outputs": [
    {
     "name": "stdout",
     "output_type": "stream",
     "text": [
      "[8.0, 7.5, 7.5, nan, nan, nan, 8.0, nan, nan, nan, nan, 8.0, nan, nan, nan, nan, nan, nan, nan, nan, 7.0, nan, nan, nan, nan, 7.5, nan, nan, 7.0, nan, 8.0, nan, 3.0, nan, nan, 4.0, nan, 7.25, 7.5, 6.5, 7.5, nan, nan, nan, nan, nan, nan, 6.0, nan, nan, 8.0, 7.0, 4.0, nan, nan, 8.0, nan, nan, nan, nan, nan, nan, nan, nan, nan, nan, nan, nan, nan, nan, 7.5, nan, nan, nan, nan, nan, nan, nan, nan, nan, 6.5, 7.5, 8.0, nan, nan, 7.433333333333334, nan, nan, nan, nan, nan, 7.333333333333333, 6.5, 7.25, nan, 7.0, 6.5, nan, nan, nan, nan, 7.5, nan, nan, nan, nan, nan, nan, nan, nan, nan, 7.5, nan, 7.0, 8.0, nan, nan, nan, 5.0, nan, 6.616666666666666, nan, nan, 6.5, nan, nan, 7.483333333333333, nan, 7.333333333333333, 7.5, nan, 4.1, nan, nan, nan, 6.0, nan, nan, nan, nan, nan, 6.5, nan, 7.5, 3.0, nan, 7.5, nan, nan, nan, nan, nan, nan, 7.5, nan, 7.0, nan, nan, 8.0, 8.0, nan, nan, 6.0, nan, nan, nan, nan, nan, 5.0, 6.5, 7.5, nan, nan, nan, nan, 5.0, nan, nan, 7.0, nan, nan, 7.5, nan, nan, nan, 6.0, 6.95, nan, 7.633333333333334, 6.383333333333334, nan, 8.0, nan, nan, nan, nan, nan, 7.5, nan, 6.5, nan, nan, 5.0, 7.0, nan, 7.45, nan, nan, 7.75, 6.5, 7.0, nan, 3.5, 3.0, 6.0, nan, nan, 4.0, nan, nan, nan, nan, 6.0, nan, 5.75, 7.0, nan, 8.0, 7.633333333333334, 7.5, nan, nan, nan, nan, nan, nan, nan, 7.1, 4.0, nan, 6.5, nan, nan, 6.0, nan]\n"
     ]
    }
   ],
   "execution_count": 43
  },
  {
   "metadata": {
    "ExecuteTime": {
     "end_time": "2025-04-18T16:11:55.233127Z",
     "start_time": "2025-04-18T16:11:55.224668Z"
    }
   },
   "cell_type": "code",
   "source": [
    "df_encoded = df.copy()\n",
    "# Encode categorical (object) columns as category codes\n",
    "for col in df_encoded.select_dtypes(include='object').columns:\n",
    "    df_encoded[col] = df_encoded[col].astype('category').cat.codes"
   ],
   "outputs": [],
   "execution_count": 44
  },
  {
   "metadata": {
    "ExecuteTime": {
     "end_time": "2025-04-18T16:11:55.246738Z",
     "start_time": "2025-04-18T16:11:55.244102Z"
    }
   },
   "cell_type": "code",
   "source": [
    "cols_to_drop = [\n",
    "    'What makes a good day for you (1)?',\n",
    "    'What makes a good day for you (2)?',\n",
    "    'When is your birthday (date)?',\n",
    "    'birth_month',\n",
    "    'birthday_timestamp', \n",
    "    'stress_category', \n",
    "    'Timestamp'\n",
    "]\n",
    "df_encoded = df_encoded.drop(columns=cols_to_drop, errors='ignore')"
   ],
   "outputs": [],
   "execution_count": 45
  },
  {
   "metadata": {
    "ExecuteTime": {
     "end_time": "2025-04-18T16:11:55.258350Z",
     "start_time": "2025-04-18T16:11:55.255829Z"
    }
   },
   "cell_type": "code",
   "source": "corr_matrix = df_encoded.corr()",
   "outputs": [],
   "execution_count": 46
  },
  {
   "metadata": {
    "ExecuteTime": {
     "end_time": "2025-04-18T16:11:55.487977Z",
     "start_time": "2025-04-18T16:11:55.268552Z"
    }
   },
   "cell_type": "code",
   "source": [
    "plt.figure(figsize=(16, 12))\n",
    "sns.heatmap(corr_matrix, annot=True, fmt=\".2f\", cmap='coolwarm', square=True, linewidths=0.5)\n",
    "plt.title(\"Correlation Heatmap (Numerical + Encoded Categorical Columns)\", fontsize=16)\n",
    "plt.xticks(rotation=45, ha='right')\n",
    "plt.tight_layout()\n",
    "plt.show()\n"
   ],
   "outputs": [
    {
     "data": {
      "text/plain": [
       "<Figure size 1600x1200 with 2 Axes>"
      ],
      "image/png": "[encoded data removed]"
     },
     "metadata": {},
     "output_type": "display_data"
    }
   ],
   "execution_count": 47
  },
  {
   "metadata": {
    "ExecuteTime": {
     "end_time": "2025-04-18T16:11:55.563785Z",
     "start_time": "2025-04-18T16:11:55.498726Z"
    }
   },
   "cell_type": "code",
   "source": [
    "# Make sure your gender column is categorical and your sleep column is numeric (in hours)\n",
    "sns.barplot(data=df, x='What is your gender?', y='Sleep time (hours)',estimator='mean', ci='sd',  palette='pastel')\n",
    "plt.xticks(rotation=15, ha='right')\n",
    "plt.title(\"Average Sleep Duration by Gender\")\n",
    "plt.xlabel(\"Gender\")\n",
    "plt.tight_layout()\n",
    "plt.ylabel(\"Average Sleep Time (hours)\")\n",
    "plt.show()"
   ],
   "outputs": [
    {
     "name": "stderr",
     "output_type": "stream",
     "text": [
      "/var/folders/7p/gg691d2511x4frwk0t0m4z740000gn/T/ipykernel_18407/2565630302.py:2: FutureWarning: \n",
      "\n",
      "The `ci` parameter is deprecated. Use `errorbar='sd'` for the same effect.\n",
      "\n",
      "  sns.barplot(data=df, x='What is your gender?', y='Sleep time (hours)',estimator='mean', ci='sd',  palette='pastel')\n",
      "/var/folders/7p/gg691d2511x4frwk0t0m4z740000gn/T/ipykernel_18407/2565630302.py:2: FutureWarning: \n",
      "\n",
      "Passing `palette` without assigning `hue` is deprecated and will be removed in v0.14.0. Assign the `x` variable to `hue` and set `legend=False` for the same effect.\n",
      "\n",
      "  sns.barplot(data=df, x='What is your gender?', y='Sleep time (hours)',estimator='mean', ci='sd',  palette='pastel')\n"
     ]
    },
    {
     "data": {
      "text/plain": [
       "<Figure size 640x480 with 1 Axes>"
      ],
      "image/png": "[encoded data removed]"
     },
     "metadata": {},
     "output_type": "display_data"
    }
   ],
   "execution_count": 48
  },
  {
   "metadata": {
    "ExecuteTime": {
     "end_time": "2025-04-18T16:11:55.586591Z",
     "start_time": "2025-04-18T16:11:55.574869Z"
    }
   },
   "cell_type": "code",
   "source": "df.head(25)",
   "outputs": [
    {
     "data": {
      "text/plain": [
       "            Timestamp          What programme are you in?  \\\n",
       "0   4-1-2025 12:17:07             artificial intelligence   \n",
       "1   4-1-2025 12:17:14             artificial intelligence   \n",
       "2   4-1-2025 12:17:17                        econometrics   \n",
       "3   4-1-2025 12:17:21                        econometrics   \n",
       "4   4-1-2025 12:17:24  bioinformatics and systems biology   \n",
       "5   4-1-2025 12:17:26                        econometrics   \n",
       "6   4-1-2025 12:17:26                        econometrics   \n",
       "7   4-1-2025 12:17:27                    computer science   \n",
       "8   4-1-2025 12:17:28             artificial intelligence   \n",
       "9   4-1-2025 12:17:30                    computer science   \n",
       "10  4-1-2025 12:17:31             artificial intelligence   \n",
       "11  4-1-2025 12:17:31                    computer science   \n",
       "12  4-1-2025 12:17:35                                 npn   \n",
       "13  4-1-2025 12:17:39             artificial intelligence   \n",
       "14  4-1-2025 12:17:40                    computer science   \n",
       "15  4-1-2025 12:17:40                    computer science   \n",
       "16  4-1-2025 12:17:41             artificial intelligence   \n",
       "17  4-1-2025 12:17:43             artificial intelligence   \n",
       "18  4-1-2025 12:17:44  bioinformatics and systems biology   \n",
       "19  4-1-2025 12:17:44                  business analytics   \n",
       "20  4-1-2025 12:17:44             artificial intelligence   \n",
       "21  4-1-2025 12:17:46             artificial intelligence   \n",
       "22  4-1-2025 12:17:49             artificial intelligence   \n",
       "23  4-1-2025 12:17:50             artificial intelligence   \n",
       "24  4-1-2025 12:17:51             artificial intelligence   \n",
       "\n",
       "   Have you taken a course on machine learning?  \\\n",
       "0                                           yes   \n",
       "1                                           yes   \n",
       "2                                           yes   \n",
       "3                                           yes   \n",
       "4                                           yes   \n",
       "5                                            no   \n",
       "6                                            no   \n",
       "7                                           yes   \n",
       "8                                            no   \n",
       "9                                            no   \n",
       "10                                          yes   \n",
       "11                                          yes   \n",
       "12                                          yes   \n",
       "13                                          yes   \n",
       "14                                          yes   \n",
       "15                                           no   \n",
       "16                                          yes   \n",
       "17                                           no   \n",
       "18                                          yes   \n",
       "19                                          yes   \n",
       "20                                          yes   \n",
       "21                                          yes   \n",
       "22                                          yes   \n",
       "23                                           no   \n",
       "24                                          yes   \n",
       "\n",
       "   Have you taken a course on information retrieval?  \\\n",
       "0                                            unknown   \n",
       "1                                                  1   \n",
       "2                                                  1   \n",
       "3                                                  0   \n",
       "4                                                  1   \n",
       "5                                            unknown   \n",
       "6                                                  0   \n",
       "7                                                  0   \n",
       "8                                                  0   \n",
       "9                                                  0   \n",
       "10                                                 1   \n",
       "11                                                 1   \n",
       "12                                           unknown   \n",
       "13                                                 1   \n",
       "14                                                 1   \n",
       "15                                                 0   \n",
       "16                                                 1   \n",
       "17                                                 0   \n",
       "18                                                 0   \n",
       "19                                                 0   \n",
       "20                                                 1   \n",
       "21                                                 1   \n",
       "22                                                 1   \n",
       "23                                                 0   \n",
       "24                                                 0   \n",
       "\n",
       "   Have you taken a course on statistics?  \\\n",
       "0                                       0   \n",
       "1                                       1   \n",
       "2                                       0   \n",
       "3                                       0   \n",
       "4                                       0   \n",
       "5                                       0   \n",
       "6                                       0   \n",
       "7                                       1   \n",
       "8                                       0   \n",
       "9                                       0   \n",
       "10                                      1   \n",
       "11                                unknown   \n",
       "12                                      0   \n",
       "13                                      0   \n",
       "14                                unknown   \n",
       "15                                      0   \n",
       "16                                      1   \n",
       "17                                      0   \n",
       "18                                unknown   \n",
       "19                                      1   \n",
       "20                                      0   \n",
       "21                                      0   \n",
       "22                                      0   \n",
       "23                                      0   \n",
       "24                                      0   \n",
       "\n",
       "   Have you taken a course on databases? What is your gender?  \\\n",
       "0                                      1                 male   \n",
       "1                                      1               female   \n",
       "2                                      1                 male   \n",
       "3                                      0                 male   \n",
       "4                                      1                 male   \n",
       "5                                      0         gender fluid   \n",
       "6                                      1               female   \n",
       "7                                      1                 male   \n",
       "8                                      1               female   \n",
       "9                                      1         gender fluid   \n",
       "10                                     1               female   \n",
       "11                                     1                 male   \n",
       "12                                     1                 male   \n",
       "13                                     1                 male   \n",
       "14                                     1               female   \n",
       "15                                     1                 male   \n",
       "16                                     1                 male   \n",
       "17                                     1               female   \n",
       "18                               unknown               female   \n",
       "19                                     1               female   \n",
       "20                                     1                 male   \n",
       "21                                     1                 male   \n",
       "22                                     1                 male   \n",
       "23                                     0                 male   \n",
       "24                                     1               female   \n",
       "\n",
       "   I have used ChatGPT to help me with some of my study assignments   \\\n",
       "0                                                   1                  \n",
       "1                                                   1                  \n",
       "2                                              unkown                  \n",
       "3                                                   1                  \n",
       "4                                                   1                  \n",
       "5                                              unkown                  \n",
       "6                                                   1                  \n",
       "7                                              unkown                  \n",
       "8                                                   1                  \n",
       "9                                              unkown                  \n",
       "10                                                  1                  \n",
       "11                                                  1                  \n",
       "12                                                  1                  \n",
       "13                                                  0                  \n",
       "14                                                  0                  \n",
       "15                                                  1                  \n",
       "16                                                  1                  \n",
       "17                                                  1                  \n",
       "18                                                  1                  \n",
       "19                                                  1                  \n",
       "20                                                  1                  \n",
       "21                                                  1                  \n",
       "22                                                  1                  \n",
       "23                                                  1                  \n",
       "24                                                  1                  \n",
       "\n",
       "   When is your birthday (date)?  \\\n",
       "0                            NaT   \n",
       "1                            NaT   \n",
       "2                            NaT   \n",
       "3                            NaT   \n",
       "4                            NaT   \n",
       "5                            NaT   \n",
       "6                            NaT   \n",
       "7                            NaT   \n",
       "8                            NaT   \n",
       "9                            NaT   \n",
       "10                           NaT   \n",
       "11                           NaT   \n",
       "12                           NaT   \n",
       "13                           NaT   \n",
       "14                           NaT   \n",
       "15                           NaT   \n",
       "16                           NaT   \n",
       "17                           NaT   \n",
       "18                           NaT   \n",
       "19                           NaT   \n",
       "20                           NaT   \n",
       "21                           NaT   \n",
       "22                           NaT   \n",
       "23                           NaT   \n",
       "24                           NaT   \n",
       "\n",
       "   How many students do you estimate there are in the room?  \\\n",
       "0                                                 400         \n",
       "1                                                 321         \n",
       "2                                                 200         \n",
       "3                                                 350         \n",
       "4                                                 500         \n",
       "5                                                 467         \n",
       "6                                                 500         \n",
       "7                                                 400         \n",
       "8                                                 500         \n",
       "9                                                 200         \n",
       "10                                                250         \n",
       "11                                                400         \n",
       "12                                                345         \n",
       "13                                                500         \n",
       "14                                                200         \n",
       "15                                                500         \n",
       "16                                                400         \n",
       "17                                                400         \n",
       "18                                                200         \n",
       "19                                                200         \n",
       "20                                                200         \n",
       "21                                                500         \n",
       "22                                                300         \n",
       "23                                                300         \n",
       "24                                                300         \n",
       "\n",
       "    What is your stress level (0-100)?  \\\n",
       "0                                 78.0   \n",
       "1                                100.0   \n",
       "2                                100.0   \n",
       "3                                 60.0   \n",
       "4                                 50.0   \n",
       "5                                  NaN   \n",
       "6                                 60.0   \n",
       "7                                 30.0   \n",
       "8                                 60.0   \n",
       "9                                 70.0   \n",
       "10                               100.0   \n",
       "11                                20.0   \n",
       "12                                60.0   \n",
       "13                                50.0   \n",
       "14                                70.0   \n",
       "15                               100.0   \n",
       "16                                50.0   \n",
       "17                                30.0   \n",
       "18                               100.0   \n",
       "19                                70.0   \n",
       "20                                 5.0   \n",
       "21                                 8.0   \n",
       "22                               100.0   \n",
       "23                                20.0   \n",
       "24                                50.0   \n",
       "\n",
       "   How many hours per week do you do sports (in whole hours)?   \\\n",
       "0                                                   0            \n",
       "1                                                   2            \n",
       "2                                                   4            \n",
       "3                                                   6            \n",
       "4                                                   8            \n",
       "5                                                   8            \n",
       "6                                                   4            \n",
       "7                                                   1            \n",
       "8                                                   3            \n",
       "9                                                   1            \n",
       "10                                                  4            \n",
       "11                                                4,5            \n",
       "12                                                  8            \n",
       "13                                                  4            \n",
       "14                                                  2            \n",
       "15                                                  0            \n",
       "16                                                  7            \n",
       "17                                                 10            \n",
       "18                                                  0            \n",
       "19                                                  0            \n",
       "20                                                 12            \n",
       "21                                                  6            \n",
       "22                                                 10            \n",
       "23                                                  3            \n",
       "24                                                  4            \n",
       "\n",
       "   Give a random number Time you went to bed Yesterday  \\\n",
       "0                928393            1900-01-01 00:00:00   \n",
       "1                31.416            1900-01-01 00:30:00   \n",
       "2                     5            1900-01-01 00:30:00   \n",
       "3                    37            1900-01-01 23:00:00   \n",
       "4                     1                            NaT   \n",
       "5                     0                            NaT   \n",
       "6                     4            1900-01-01 00:00:00   \n",
       "7               6656678                            NaT   \n",
       "8                   888            1900-01-01 22:37:00   \n",
       "9    420420420420420420                            NaT   \n",
       "10                    3                            NaT   \n",
       "11          5,38299E+11            1900-01-01 00:00:00   \n",
       "12                 1984                            NaT   \n",
       "13                   72                            NaT   \n",
       "14                    7                            NaT   \n",
       "15                   94                            NaT   \n",
       "16                   13                            NaT   \n",
       "17                   28                            NaT   \n",
       "18                    9            1900-01-01 23:16:00   \n",
       "19                    8                            NaT   \n",
       "20                 6372            1900-01-01 01:00:00   \n",
       "21                   27                            NaT   \n",
       "22                 9999                            NaT   \n",
       "23                   78                            NaT   \n",
       "24                   38            1900-01-01 23:30:00   \n",
       "\n",
       "   What makes a good day for you (1)? What makes a good day for you (2)?  \\\n",
       "0                                Food                             Travel   \n",
       "1                                 sun                             coffee   \n",
       "2                            Zonnetje                             Aperol   \n",
       "3                                 Sun                                Sun   \n",
       "4                                   -                                  -   \n",
       "5                           Chocolate                       Bitterballen   \n",
       "6                                 Sun                          Good food   \n",
       "7                           good food                         good grade   \n",
       "8                                Sun1                               Sun2   \n",
       "9                      Work done good                    Then smoke weed   \n",
       "10                         Good food                       Nice company    \n",
       "11                              Pizza                              Beers   \n",
       "12                          Good food                        Good sleep    \n",
       "13                        Mama’s food                        Dad’s card    \n",
       "14                          Good work                         Good sleep   \n",
       "15                    Passing courses                           Sleeping   \n",
       "16                              Drugs                         More drugs   \n",
       "17                             Coffee                             Sports   \n",
       "18                           Nothing                            Nothing    \n",
       "19                      Passing grade                  Credit in balance   \n",
       "20                                Sun                           More sun   \n",
       "21                                                                         \n",
       "22               Not having EDDA exam                           Freetime   \n",
       "23    Hanging with friends in the sun                   Eating good food   \n",
       "24                                Sun                          Activity    \n",
       "\n",
       "   birthday_timestamp  birth_month stress_category  Sleep time (hours)  \n",
       "0          1888-01-01          1.0            high                 8.0  \n",
       "1                 NaT          NaN            high                 7.5  \n",
       "2                 NaT          NaN            high                 7.5  \n",
       "3                 NaT          NaN          medium                 NaN  \n",
       "4                 NaT          NaN          medium                 NaN  \n",
       "5                 NaT          NaN             NaN                 NaN  \n",
       "6                 NaT          NaN          medium                 8.0  \n",
       "7                 NaT          NaN             low                 NaN  \n",
       "8                 NaT          NaN          medium                 NaN  \n",
       "9                 NaT          NaN            high                 NaN  \n",
       "10                NaT          NaN            high                 NaN  \n",
       "11         1999-01-01          1.0             low                 8.0  \n",
       "12                NaT          NaN          medium                 NaN  \n",
       "13                NaT          NaN          medium                 NaN  \n",
       "14                NaT          NaN            high                 NaN  \n",
       "15                NaT          NaN            high                 NaN  \n",
       "16         1982-10-05         10.0          medium                 NaN  \n",
       "17                NaT          NaN             low                 NaN  \n",
       "18                NaT          NaN            high                 NaN  \n",
       "19                NaT          NaN            high                 NaN  \n",
       "20                NaT          NaN             low                 7.0  \n",
       "21                NaT          NaN             low                 NaN  \n",
       "22                NaT          NaN            high                 NaN  \n",
       "23                NaT          NaN             low                 NaN  \n",
       "24                NaT          NaN          medium                 NaN  "
      ],
      "text/html": [
       "<div>\n",
       "<style scoped>\n",
       "    .dataframe tbody tr th:only-of-type {\n",
       "        vertical-align: middle;\n",
       "    }\n",
       "\n",
       "    .dataframe tbody tr th {\n",
       "        vertical-align: top;\n",
       "    }\n",
       "\n",
       "    .dataframe thead th {\n",
       "        text-align: right;\n",
       "    }\n",
       "</style>\n",
       "<table border=\"1\" class=\"dataframe\">\n",
       "  <thead>\n",
       "    <tr style=\"text-align: right;\">\n",
       "      <th></th>\n",
       "      <th>Timestamp</th>\n",
       "      <th>What programme are you in?</th>\n",
       "      <th>Have you taken a course on machine learning?</th>\n",
       "      <th>Have you taken a course on information retrieval?</th>\n",
       "      <th>Have you taken a course on statistics?</th>\n",
       "      <th>Have you taken a course on databases?</th>\n",
       "      <th>What is your gender?</th>\n",
       "      <th>I have used ChatGPT to help me with some of my study assignments</th>\n",
       "      <th>When is your birthday (date)?</th>\n",
       "      <th>How many students do you estimate there are in the room?</th>\n",
       "      <th>What is your stress level (0-100)?</th>\n",
       "      <th>How many hours per week do you do sports (in whole hours)?</th>\n",
       "      <th>Give a random number</th>\n",
       "      <th>Time you went to bed Yesterday</th>\n",
       "      <th>What makes a good day for you (1)?</th>\n",
       "      <th>What makes a good day for you (2)?</th>\n",
       "      <th>birthday_timestamp</th>\n",
       "      <th>birth_month</th>\n",
       "      <th>stress_category</th>\n",
       "      <th>Sleep time (hours)</th>\n",
       "    </tr>\n",
       "  </thead>\n",
       "  <tbody>\n",
       "    <tr>\n",
       "      <th>0</th>\n",
       "      <td>4-1-2025 12:17:07</td>\n",
       "      <td>artificial intelligence</td>\n",
       "      <td>yes</td>\n",
       "      <td>unknown</td>\n",
       "      <td>0</td>\n",
       "      <td>1</td>\n",
       "      <td>male</td>\n",
       "      <td>1</td>\n",
       "      <td>NaT</td>\n",
       "      <td>400</td>\n",
       "      <td>78.0</td>\n",
       "      <td>0</td>\n",
       "      <td>928393</td>\n",
       "      <td>1900-01-01 00:00:00</td>\n",
       "      <td>Food</td>\n",
       "      <td>Travel</td>\n",
       "      <td>1888-01-01</td>\n",
       "      <td>1.0</td>\n",
       "      <td>high</td>\n",
       "      <td>8.0</td>\n",
       "    </tr>\n",
       "    <tr>\n",
       "      <th>1</th>\n",
       "      <td>4-1-2025 12:17:14</td>\n",
       "      <td>artificial intelligence</td>\n",
       "      <td>yes</td>\n",
       "      <td>1</td>\n",
       "      <td>1</td>\n",
       "      <td>1</td>\n",
       "      <td>female</td>\n",
       "      <td>1</td>\n",
       "      <td>NaT</td>\n",
       "      <td>321</td>\n",
       "      <td>100.0</td>\n",
       "      <td>2</td>\n",
       "      <td>31.416</td>\n",
       "      <td>1900-01-01 00:30:00</td>\n",
       "      <td>sun</td>\n",
       "      <td>coffee</td>\n",
       "      <td>NaT</td>\n",
       "      <td>NaN</td>\n",
       "      <td>high</td>\n",
       "      <td>7.5</td>\n",
       "    </tr>\n",
       "    <tr>\n",
       "      <th>2</th>\n",
       "      <td>4-1-2025 12:17:17</td>\n",
       "      <td>econometrics</td>\n",
       "      <td>yes</td>\n",
       "      <td>1</td>\n",
       "      <td>0</td>\n",
       "      <td>1</td>\n",
       "      <td>male</td>\n",
       "      <td>unkown</td>\n",
       "      <td>NaT</td>\n",
       "      <td>200</td>\n",
       "      <td>100.0</td>\n",
       "      <td>4</td>\n",
       "      <td>5</td>\n",
       "      <td>1900-01-01 00:30:00</td>\n",
       "      <td>Zonnetje</td>\n",
       "      <td>Aperol</td>\n",
       "      <td>NaT</td>\n",
       "      <td>NaN</td>\n",
       "      <td>high</td>\n",
       "      <td>7.5</td>\n",
       "    </tr>\n",
       "    <tr>\n",
       "      <th>3</th>\n",
       "      <td>4-1-2025 12:17:21</td>\n",
       "      <td>econometrics</td>\n",
       "      <td>yes</td>\n",
       "      <td>0</td>\n",
       "      <td>0</td>\n",
       "      <td>0</td>\n",
       "      <td>male</td>\n",
       "      <td>1</td>\n",
       "      <td>NaT</td>\n",
       "      <td>350</td>\n",
       "      <td>60.0</td>\n",
       "      <td>6</td>\n",
       "      <td>37</td>\n",
       "      <td>1900-01-01 23:00:00</td>\n",
       "      <td>Sun</td>\n",
       "      <td>Sun</td>\n",
       "      <td>NaT</td>\n",
       "      <td>NaN</td>\n",
       "      <td>medium</td>\n",
       "      <td>NaN</td>\n",
       "    </tr>\n",
       "    <tr>\n",
       "      <th>4</th>\n",
       "      <td>4-1-2025 12:17:24</td>\n",
       "      <td>bioinformatics and systems biology</td>\n",
       "      <td>yes</td>\n",
       "      <td>1</td>\n",
       "      <td>0</td>\n",
       "      <td>1</td>\n",
       "      <td>male</td>\n",
       "      <td>1</td>\n",
       "      <td>NaT</td>\n",
       "      <td>500</td>\n",
       "      <td>50.0</td>\n",
       "      <td>8</td>\n",
       "      <td>1</td>\n",
       "      <td>NaT</td>\n",
       "      <td>-</td>\n",
       "      <td>-</td>\n",
       "      <td>NaT</td>\n",
       "      <td>NaN</td>\n",
       "      <td>medium</td>\n",
       "      <td>NaN</td>\n",
       "    </tr>\n",
       "    <tr>\n",
       "      <th>5</th>\n",
       "      <td>4-1-2025 12:17:26</td>\n",
       "      <td>econometrics</td>\n",
       "      <td>no</td>\n",
       "      <td>unknown</td>\n",
       "      <td>0</td>\n",
       "      <td>0</td>\n",
       "      <td>gender fluid</td>\n",
       "      <td>unkown</td>\n",
       "      <td>NaT</td>\n",
       "      <td>467</td>\n",
       "      <td>NaN</td>\n",
       "      <td>8</td>\n",
       "      <td>0</td>\n",
       "      <td>NaT</td>\n",
       "      <td>Chocolate</td>\n",
       "      <td>Bitterballen</td>\n",
       "      <td>NaT</td>\n",
       "      <td>NaN</td>\n",
       "      <td>NaN</td>\n",
       "      <td>NaN</td>\n",
       "    </tr>\n",
       "    <tr>\n",
       "      <th>6</th>\n",
       "      <td>4-1-2025 12:17:26</td>\n",
       "      <td>econometrics</td>\n",
       "      <td>no</td>\n",
       "      <td>0</td>\n",
       "      <td>0</td>\n",
       "      <td>1</td>\n",
       "      <td>female</td>\n",
       "      <td>1</td>\n",
       "      <td>NaT</td>\n",
       "      <td>500</td>\n",
       "      <td>60.0</td>\n",
       "      <td>4</td>\n",
       "      <td>4</td>\n",
       "      <td>1900-01-01 00:00:00</td>\n",
       "      <td>Sun</td>\n",
       "      <td>Good food</td>\n",
       "      <td>NaT</td>\n",
       "      <td>NaN</td>\n",
       "      <td>medium</td>\n",
       "      <td>8.0</td>\n",
       "    </tr>\n",
       "    <tr>\n",
       "      <th>7</th>\n",
       "      <td>4-1-2025 12:17:27</td>\n",
       "      <td>computer science</td>\n",
       "      <td>yes</td>\n",
       "      <td>0</td>\n",
       "      <td>1</td>\n",
       "      <td>1</td>\n",
       "      <td>male</td>\n",
       "      <td>unkown</td>\n",
       "      <td>NaT</td>\n",
       "      <td>400</td>\n",
       "      <td>30.0</td>\n",
       "      <td>1</td>\n",
       "      <td>6656678</td>\n",
       "      <td>NaT</td>\n",
       "      <td>good food</td>\n",
       "      <td>good grade</td>\n",
       "      <td>NaT</td>\n",
       "      <td>NaN</td>\n",
       "      <td>low</td>\n",
       "      <td>NaN</td>\n",
       "    </tr>\n",
       "    <tr>\n",
       "      <th>8</th>\n",
       "      <td>4-1-2025 12:17:28</td>\n",
       "      <td>artificial intelligence</td>\n",
       "      <td>no</td>\n",
       "      <td>0</td>\n",
       "      <td>0</td>\n",
       "      <td>1</td>\n",
       "      <td>female</td>\n",
       "      <td>1</td>\n",
       "      <td>NaT</td>\n",
       "      <td>500</td>\n",
       "      <td>60.0</td>\n",
       "      <td>3</td>\n",
       "      <td>888</td>\n",
       "      <td>1900-01-01 22:37:00</td>\n",
       "      <td>Sun1</td>\n",
       "      <td>Sun2</td>\n",
       "      <td>NaT</td>\n",
       "      <td>NaN</td>\n",
       "      <td>medium</td>\n",
       "      <td>NaN</td>\n",
       "    </tr>\n",
       "    <tr>\n",
       "      <th>9</th>\n",
       "      <td>4-1-2025 12:17:30</td>\n",
       "      <td>computer science</td>\n",
       "      <td>no</td>\n",
       "      <td>0</td>\n",
       "      <td>0</td>\n",
       "      <td>1</td>\n",
       "      <td>gender fluid</td>\n",
       "      <td>unkown</td>\n",
       "      <td>NaT</td>\n",
       "      <td>200</td>\n",
       "      <td>70.0</td>\n",
       "      <td>1</td>\n",
       "      <td>420420420420420420</td>\n",
       "      <td>NaT</td>\n",
       "      <td>Work done good</td>\n",
       "      <td>Then smoke weed</td>\n",
       "      <td>NaT</td>\n",
       "      <td>NaN</td>\n",
       "      <td>high</td>\n",
       "      <td>NaN</td>\n",
       "    </tr>\n",
       "    <tr>\n",
       "      <th>10</th>\n",
       "      <td>4-1-2025 12:17:31</td>\n",
       "      <td>artificial intelligence</td>\n",
       "      <td>yes</td>\n",
       "      <td>1</td>\n",
       "      <td>1</td>\n",
       "      <td>1</td>\n",
       "      <td>female</td>\n",
       "      <td>1</td>\n",
       "      <td>NaT</td>\n",
       "      <td>250</td>\n",
       "      <td>100.0</td>\n",
       "      <td>4</td>\n",
       "      <td>3</td>\n",
       "      <td>NaT</td>\n",
       "      <td>Good food</td>\n",
       "      <td>Nice company</td>\n",
       "      <td>NaT</td>\n",
       "      <td>NaN</td>\n",
       "      <td>high</td>\n",
       "      <td>NaN</td>\n",
       "    </tr>\n",
       "    <tr>\n",
       "      <th>11</th>\n",
       "      <td>4-1-2025 12:17:31</td>\n",
       "      <td>computer science</td>\n",
       "      <td>yes</td>\n",
       "      <td>1</td>\n",
       "      <td>unknown</td>\n",
       "      <td>1</td>\n",
       "      <td>male</td>\n",
       "      <td>1</td>\n",
       "      <td>NaT</td>\n",
       "      <td>400</td>\n",
       "      <td>20.0</td>\n",
       "      <td>4,5</td>\n",
       "      <td>5,38299E+11</td>\n",
       "      <td>1900-01-01 00:00:00</td>\n",
       "      <td>Pizza</td>\n",
       "      <td>Beers</td>\n",
       "      <td>1999-01-01</td>\n",
       "      <td>1.0</td>\n",
       "      <td>low</td>\n",
       "      <td>8.0</td>\n",
       "    </tr>\n",
       "    <tr>\n",
       "      <th>12</th>\n",
       "      <td>4-1-2025 12:17:35</td>\n",
       "      <td>npn</td>\n",
       "      <td>yes</td>\n",
       "      <td>unknown</td>\n",
       "      <td>0</td>\n",
       "      <td>1</td>\n",
       "      <td>male</td>\n",
       "      <td>1</td>\n",
       "      <td>NaT</td>\n",
       "      <td>345</td>\n",
       "      <td>60.0</td>\n",
       "      <td>8</td>\n",
       "      <td>1984</td>\n",
       "      <td>NaT</td>\n",
       "      <td>Good food</td>\n",
       "      <td>Good sleep</td>\n",
       "      <td>NaT</td>\n",
       "      <td>NaN</td>\n",
       "      <td>medium</td>\n",
       "      <td>NaN</td>\n",
       "    </tr>\n",
       "    <tr>\n",
       "      <th>13</th>\n",
       "      <td>4-1-2025 12:17:39</td>\n",
       "      <td>artificial intelligence</td>\n",
       "      <td>yes</td>\n",
       "      <td>1</td>\n",
       "      <td>0</td>\n",
       "      <td>1</td>\n",
       "      <td>male</td>\n",
       "      <td>0</td>\n",
       "      <td>NaT</td>\n",
       "      <td>500</td>\n",
       "      <td>50.0</td>\n",
       "      <td>4</td>\n",
       "      <td>72</td>\n",
       "      <td>NaT</td>\n",
       "      <td>Mama’s food</td>\n",
       "      <td>Dad’s card</td>\n",
       "      <td>NaT</td>\n",
       "      <td>NaN</td>\n",
       "      <td>medium</td>\n",
       "      <td>NaN</td>\n",
       "    </tr>\n",
       "    <tr>\n",
       "      <th>14</th>\n",
       "      <td>4-1-2025 12:17:40</td>\n",
       "      <td>computer science</td>\n",
       "      <td>yes</td>\n",
       "      <td>1</td>\n",
       "      <td>unknown</td>\n",
       "      <td>1</td>\n",
       "      <td>female</td>\n",
       "      <td>0</td>\n",
       "      <td>NaT</td>\n",
       "      <td>200</td>\n",
       "      <td>70.0</td>\n",
       "      <td>2</td>\n",
       "      <td>7</td>\n",
       "      <td>NaT</td>\n",
       "      <td>Good work</td>\n",
       "      <td>Good sleep</td>\n",
       "      <td>NaT</td>\n",
       "      <td>NaN</td>\n",
       "      <td>high</td>\n",
       "      <td>NaN</td>\n",
       "    </tr>\n",
       "    <tr>\n",
       "      <th>15</th>\n",
       "      <td>4-1-2025 12:17:40</td>\n",
       "      <td>computer science</td>\n",
       "      <td>no</td>\n",
       "      <td>0</td>\n",
       "      <td>0</td>\n",
       "      <td>1</td>\n",
       "      <td>male</td>\n",
       "      <td>1</td>\n",
       "      <td>NaT</td>\n",
       "      <td>500</td>\n",
       "      <td>100.0</td>\n",
       "      <td>0</td>\n",
       "      <td>94</td>\n",
       "      <td>NaT</td>\n",
       "      <td>Passing courses</td>\n",
       "      <td>Sleeping</td>\n",
       "      <td>NaT</td>\n",
       "      <td>NaN</td>\n",
       "      <td>high</td>\n",
       "      <td>NaN</td>\n",
       "    </tr>\n",
       "    <tr>\n",
       "      <th>16</th>\n",
       "      <td>4-1-2025 12:17:41</td>\n",
       "      <td>artificial intelligence</td>\n",
       "      <td>yes</td>\n",
       "      <td>1</td>\n",
       "      <td>1</td>\n",
       "      <td>1</td>\n",
       "      <td>male</td>\n",
       "      <td>1</td>\n",
       "      <td>NaT</td>\n",
       "      <td>400</td>\n",
       "      <td>50.0</td>\n",
       "      <td>7</td>\n",
       "      <td>13</td>\n",
       "      <td>NaT</td>\n",
       "      <td>Drugs</td>\n",
       "      <td>More drugs</td>\n",
       "      <td>1982-10-05</td>\n",
       "      <td>10.0</td>\n",
       "      <td>medium</td>\n",
       "      <td>NaN</td>\n",
       "    </tr>\n",
       "    <tr>\n",
       "      <th>17</th>\n",
       "      <td>4-1-2025 12:17:43</td>\n",
       "      <td>artificial intelligence</td>\n",
       "      <td>no</td>\n",
       "      <td>0</td>\n",
       "      <td>0</td>\n",
       "      <td>1</td>\n",
       "      <td>female</td>\n",
       "      <td>1</td>\n",
       "      <td>NaT</td>\n",
       "      <td>400</td>\n",
       "      <td>30.0</td>\n",
       "      <td>10</td>\n",
       "      <td>28</td>\n",
       "      <td>NaT</td>\n",
       "      <td>Coffee</td>\n",
       "      <td>Sports</td>\n",
       "      <td>NaT</td>\n",
       "      <td>NaN</td>\n",
       "      <td>low</td>\n",
       "      <td>NaN</td>\n",
       "    </tr>\n",
       "    <tr>\n",
       "      <th>18</th>\n",
       "      <td>4-1-2025 12:17:44</td>\n",
       "      <td>bioinformatics and systems biology</td>\n",
       "      <td>yes</td>\n",
       "      <td>0</td>\n",
       "      <td>unknown</td>\n",
       "      <td>unknown</td>\n",
       "      <td>female</td>\n",
       "      <td>1</td>\n",
       "      <td>NaT</td>\n",
       "      <td>200</td>\n",
       "      <td>100.0</td>\n",
       "      <td>0</td>\n",
       "      <td>9</td>\n",
       "      <td>1900-01-01 23:16:00</td>\n",
       "      <td>Nothing</td>\n",
       "      <td>Nothing</td>\n",
       "      <td>NaT</td>\n",
       "      <td>NaN</td>\n",
       "      <td>high</td>\n",
       "      <td>NaN</td>\n",
       "    </tr>\n",
       "    <tr>\n",
       "      <th>19</th>\n",
       "      <td>4-1-2025 12:17:44</td>\n",
       "      <td>business analytics</td>\n",
       "      <td>yes</td>\n",
       "      <td>0</td>\n",
       "      <td>1</td>\n",
       "      <td>1</td>\n",
       "      <td>female</td>\n",
       "      <td>1</td>\n",
       "      <td>NaT</td>\n",
       "      <td>200</td>\n",
       "      <td>70.0</td>\n",
       "      <td>0</td>\n",
       "      <td>8</td>\n",
       "      <td>NaT</td>\n",
       "      <td>Passing grade</td>\n",
       "      <td>Credit in balance</td>\n",
       "      <td>NaT</td>\n",
       "      <td>NaN</td>\n",
       "      <td>high</td>\n",
       "      <td>NaN</td>\n",
       "    </tr>\n",
       "    <tr>\n",
       "      <th>20</th>\n",
       "      <td>4-1-2025 12:17:44</td>\n",
       "      <td>artificial intelligence</td>\n",
       "      <td>yes</td>\n",
       "      <td>1</td>\n",
       "      <td>0</td>\n",
       "      <td>1</td>\n",
       "      <td>male</td>\n",
       "      <td>1</td>\n",
       "      <td>NaT</td>\n",
       "      <td>200</td>\n",
       "      <td>5.0</td>\n",
       "      <td>12</td>\n",
       "      <td>6372</td>\n",
       "      <td>1900-01-01 01:00:00</td>\n",
       "      <td>Sun</td>\n",
       "      <td>More sun</td>\n",
       "      <td>NaT</td>\n",
       "      <td>NaN</td>\n",
       "      <td>low</td>\n",
       "      <td>7.0</td>\n",
       "    </tr>\n",
       "    <tr>\n",
       "      <th>21</th>\n",
       "      <td>4-1-2025 12:17:46</td>\n",
       "      <td>artificial intelligence</td>\n",
       "      <td>yes</td>\n",
       "      <td>1</td>\n",
       "      <td>0</td>\n",
       "      <td>1</td>\n",
       "      <td>male</td>\n",
       "      <td>1</td>\n",
       "      <td>NaT</td>\n",
       "      <td>500</td>\n",
       "      <td>8.0</td>\n",
       "      <td>6</td>\n",
       "      <td>27</td>\n",
       "      <td>NaT</td>\n",
       "      <td></td>\n",
       "      <td></td>\n",
       "      <td>NaT</td>\n",
       "      <td>NaN</td>\n",
       "      <td>low</td>\n",
       "      <td>NaN</td>\n",
       "    </tr>\n",
       "    <tr>\n",
       "      <th>22</th>\n",
       "      <td>4-1-2025 12:17:49</td>\n",
       "      <td>artificial intelligence</td>\n",
       "      <td>yes</td>\n",
       "      <td>1</td>\n",
       "      <td>0</td>\n",
       "      <td>1</td>\n",
       "      <td>male</td>\n",
       "      <td>1</td>\n",
       "      <td>NaT</td>\n",
       "      <td>300</td>\n",
       "      <td>100.0</td>\n",
       "      <td>10</td>\n",
       "      <td>9999</td>\n",
       "      <td>NaT</td>\n",
       "      <td>Not having EDDA exam</td>\n",
       "      <td>Freetime</td>\n",
       "      <td>NaT</td>\n",
       "      <td>NaN</td>\n",
       "      <td>high</td>\n",
       "      <td>NaN</td>\n",
       "    </tr>\n",
       "    <tr>\n",
       "      <th>23</th>\n",
       "      <td>4-1-2025 12:17:50</td>\n",
       "      <td>artificial intelligence</td>\n",
       "      <td>no</td>\n",
       "      <td>0</td>\n",
       "      <td>0</td>\n",
       "      <td>0</td>\n",
       "      <td>male</td>\n",
       "      <td>1</td>\n",
       "      <td>NaT</td>\n",
       "      <td>300</td>\n",
       "      <td>20.0</td>\n",
       "      <td>3</td>\n",
       "      <td>78</td>\n",
       "      <td>NaT</td>\n",
       "      <td>Hanging with friends in the sun</td>\n",
       "      <td>Eating good food</td>\n",
       "      <td>NaT</td>\n",
       "      <td>NaN</td>\n",
       "      <td>low</td>\n",
       "      <td>NaN</td>\n",
       "    </tr>\n",
       "    <tr>\n",
       "      <th>24</th>\n",
       "      <td>4-1-2025 12:17:51</td>\n",
       "      <td>artificial intelligence</td>\n",
       "      <td>yes</td>\n",
       "      <td>0</td>\n",
       "      <td>0</td>\n",
       "      <td>1</td>\n",
       "      <td>female</td>\n",
       "      <td>1</td>\n",
       "      <td>NaT</td>\n",
       "      <td>300</td>\n",
       "      <td>50.0</td>\n",
       "      <td>4</td>\n",
       "      <td>38</td>\n",
       "      <td>1900-01-01 23:30:00</td>\n",
       "      <td>Sun</td>\n",
       "      <td>Activity</td>\n",
       "      <td>NaT</td>\n",
       "      <td>NaN</td>\n",
       "      <td>medium</td>\n",
       "      <td>NaN</td>\n",
       "    </tr>\n",
       "  </tbody>\n",
       "</table>\n",
       "</div>"
      ]
     },
     "execution_count": 49,
     "metadata": {},
     "output_type": "execute_result"
    }
   ],
   "execution_count": 49
  },
  {
   "metadata": {},
   "cell_type": "markdown",
   "source": [
    "## Remove the good day columns , also birth day from heatmap (fixed)\n",
    "## for programs: unite everything , e.g. green it -> compsi (fixed)"
   ]
  },
  {
   "metadata": {},
   "cell_type": "markdown",
   "source": "## put 1 and 0 instead of yes/no  (fixed)"
  },
  {
   "metadata": {},
   "cell_type": "markdown",
   "source": "As we can notice. "
  },
  {
   "metadata": {},
   "cell_type": "markdown",
   "source": "## set wake up time as 8 and calculate everage h of sleep. (fixed)"
  },
  {
   "metadata": {},
   "cell_type": "markdown",
   "source": ""
  },
  {
   "metadata": {},
   "cell_type": "markdown",
   "source": "## send heatmap "
  },
  {
   "metadata": {},
   "cell_type": "markdown",
   "source": "upload a scv\n"
  },
  {
   "metadata": {},
   "cell_type": "markdown",
   "source": "## TASK 3"
  },
  {
   "metadata": {
    "ExecuteTime": {
     "end_time": "2025-04-18T16:11:55.619355Z",
     "start_time": "2025-04-18T16:11:55.615702Z"
    }
   },
   "cell_type": "code",
   "source": [
    "def group_program(name): \n",
    "    name = name.strip().lower() \n",
    "    name = name.replace('&', 'and').replace('-', ' ')\n",
    "\n",
    "    if any(x in name for x in ['ai', 'artificial intelligence', 'intelligences', 'artifical']):\n",
    "        return 'artificial intelligence'\n",
    "    \n",
    "    elif any(x in name for x in ['computer science', 'comp sci', 'cs', 'green it', 'software engineering', 'security']):\n",
    "        return 'computer science'\n",
    "    \n",
    "    elif 'econometrics' in name or 'eor' in name:\n",
    "        return 'econometrics'\n",
    "    \n",
    "    elif 'bio' in name:\n",
    "        return 'bioinformatics and systems biology'\n",
    "    \n",
    "    elif 'business analytics' in name or name.strip() in ['ba']:\n",
    "        return 'business analytics'\n",
    "    \n",
    "    elif ('finance' in name and 'technology' in name) or 'fintech' in name:\n",
    "        return 'finance'\n",
    "    \n",
    "    elif 'finance' in name:\n",
    "        return 'finance'\n",
    "    \n",
    "    elif 'computational science' in name:\n",
    "        return 'computational science'\n",
    "    \n",
    "    elif 'human language technology' in name:\n",
    "        return 'human language technology'\n",
    "\n",
    "    elif name in [\n",
    "        'msc international public health',\n",
    "        'mathematics',\n",
    "        'humanities research master',\n",
    "        'master'\n",
    "    ]:\n",
    "        return 'other'\n",
    "    \n",
    "    elif 'b 123456789' in name or '€' in name or '\\\\n' in name or any(char in name for char in '{}[]%$#@<>' ):\n",
    "        return 'unknown'\n",
    "    \n",
    "    else:\n",
    "        return 'other'"
   ],
   "outputs": [],
   "execution_count": 50
  },
  {
   "metadata": {
    "ExecuteTime": {
     "end_time": "2025-04-18T16:11:55.644495Z",
     "start_time": "2025-04-18T16:11:55.641451Z"
    }
   },
   "cell_type": "code",
   "source": [
    "df['What programme are you in?'] = df['What programme are you in?'].apply(group_program)\n",
    "print(df['What programme are you in?'].value_counts())\n",
    "print(len(df['What programme are you in?'].unique()))\n"
   ],
   "outputs": [
    {
     "name": "stdout",
     "output_type": "stream",
     "text": [
      "What programme are you in?\n",
      "computer science             114\n",
      "artificial intelligence      100\n",
      "computational science         17\n",
      "finance                        7\n",
      "other                          4\n",
      "human language technology      2\n",
      "unknown                        1\n",
      "Name: count, dtype: int64\n",
      "7\n"
     ]
    }
   ],
   "execution_count": 51
  },
  {
   "metadata": {
    "ExecuteTime": {
     "end_time": "2025-04-18T16:14:58.642220Z",
     "start_time": "2025-04-18T16:14:58.636122Z"
    }
   },
   "cell_type": "code",
   "source": "df.to_csv('cleaned.csv', index=False)",
   "outputs": [],
   "execution_count": 53
  }
 ],
 "metadata": {
  "kernelspec": {
   "display_name": "Python 3 (ipykernel)",
   "language": "python",
   "name": "python3"
  },
  "language_info": {
   "codemirror_mode": {
    "name": "ipython",
    "version": 3
   },
   "file_extension": ".py",
   "mimetype": "text/x-python",
   "name": "python",
   "nbconvert_exporter": "python",
   "pygments_lexer": "ipython3",
   "version": "3.12.3"
  }
 },
 "nbformat": 4,
 "nbformat_minor": 4
}
