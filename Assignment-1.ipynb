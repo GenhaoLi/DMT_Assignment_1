{
 "cells": [
  {
   "cell_type": "code",
   "execution_count": 1211,
   "metadata": {},
   "outputs": [],
   "source": [
    "import pandas as pd\n",
    "import numpy as np\n",
    "import matplotlib as mpl\n",
    "import re"
   ]
  },
  {
   "cell_type": "code",
   "execution_count": 1212,
   "metadata": {},
   "outputs": [
    {
     "data": {
      "text/html": [
       "<div>\n",
       "<style scoped>\n",
       "    .dataframe tbody tr th:only-of-type {\n",
       "        vertical-align: middle;\n",
       "    }\n",
       "\n",
       "    .dataframe tbody tr th {\n",
       "        vertical-align: top;\n",
       "    }\n",
       "\n",
       "    .dataframe thead th {\n",
       "        text-align: right;\n",
       "    }\n",
       "</style>\n",
       "<table border=\"1\" class=\"dataframe\">\n",
       "  <thead>\n",
       "    <tr style=\"text-align: right;\">\n",
       "      <th></th>\n",
       "      <th>Timestamp</th>\n",
       "      <th>What programme are you in?</th>\n",
       "      <th>Have you taken a course on machine learning?</th>\n",
       "      <th>Have you taken a course on information retrieval?</th>\n",
       "      <th>Have you taken a course on statistics?</th>\n",
       "      <th>Have you taken a course on databases?</th>\n",
       "      <th>What is your gender?</th>\n",
       "      <th>I have used ChatGPT to help me with some of my study assignments</th>\n",
       "      <th>When is your birthday (date)?</th>\n",
       "      <th>How many students do you estimate there are in the room?</th>\n",
       "      <th>What is your stress level (0-100)?</th>\n",
       "      <th>How many hours per week do you do sports (in whole hours)?</th>\n",
       "      <th>Give a random number</th>\n",
       "      <th>Time you went to bed Yesterday</th>\n",
       "      <th>What makes a good day for you (1)?</th>\n",
       "      <th>What makes a good day for you (2)?</th>\n",
       "    </tr>\n",
       "  </thead>\n",
       "  <tbody>\n",
       "    <tr>\n",
       "      <th>0</th>\n",
       "      <td>4-1-2025 12:17:07</td>\n",
       "      <td>MSc Artificial Intelligence</td>\n",
       "      <td>yes</td>\n",
       "      <td>unknown</td>\n",
       "      <td>mu</td>\n",
       "      <td>ja</td>\n",
       "      <td>male</td>\n",
       "      <td>yes</td>\n",
       "      <td>01-01-1888</td>\n",
       "      <td>400</td>\n",
       "      <td>78</td>\n",
       "      <td>0</td>\n",
       "      <td>928393</td>\n",
       "      <td>00:00</td>\n",
       "      <td>Food</td>\n",
       "      <td>Travel</td>\n",
       "    </tr>\n",
       "    <tr>\n",
       "      <th>1</th>\n",
       "      <td>4-1-2025 12:17:14</td>\n",
       "      <td>Artificial Intelligence</td>\n",
       "      <td>yes</td>\n",
       "      <td>1</td>\n",
       "      <td>sigma</td>\n",
       "      <td>ja</td>\n",
       "      <td>female</td>\n",
       "      <td>yes</td>\n",
       "      <td>31/01/2002</td>\n",
       "      <td>321</td>\n",
       "      <td>1000</td>\n",
       "      <td>2</td>\n",
       "      <td>31.416</td>\n",
       "      <td>12:30</td>\n",
       "      <td>sun</td>\n",
       "      <td>coffee</td>\n",
       "    </tr>\n",
       "    <tr>\n",
       "      <th>2</th>\n",
       "      <td>4-1-2025 12:17:17</td>\n",
       "      <td>Econometrics</td>\n",
       "      <td>yes</td>\n",
       "      <td>1</td>\n",
       "      <td>mu</td>\n",
       "      <td>ja</td>\n",
       "      <td>male</td>\n",
       "      <td>not willing to say</td>\n",
       "      <td>September</td>\n",
       "      <td>200</td>\n",
       "      <td>101</td>\n",
       "      <td>4</td>\n",
       "      <td>5</td>\n",
       "      <td>0:30</td>\n",
       "      <td>Zonnetje</td>\n",
       "      <td>Aperol</td>\n",
       "    </tr>\n",
       "    <tr>\n",
       "      <th>3</th>\n",
       "      <td>4-1-2025 12:17:21</td>\n",
       "      <td>Econometrics - Data Science</td>\n",
       "      <td>yes</td>\n",
       "      <td>0</td>\n",
       "      <td>mu</td>\n",
       "      <td>nee</td>\n",
       "      <td>male</td>\n",
       "      <td>yes</td>\n",
       "      <td>17/10/2003</td>\n",
       "      <td>350</td>\n",
       "      <td>60</td>\n",
       "      <td>6</td>\n",
       "      <td>37</td>\n",
       "      <td>23:00</td>\n",
       "      <td>Sun</td>\n",
       "      <td>Sun</td>\n",
       "    </tr>\n",
       "    <tr>\n",
       "      <th>4</th>\n",
       "      <td>4-1-2025 12:17:24</td>\n",
       "      <td>Bioinformatics’s &amp; Systems Biology</td>\n",
       "      <td>yes</td>\n",
       "      <td>1</td>\n",
       "      <td>mu</td>\n",
       "      <td>ja</td>\n",
       "      <td>male</td>\n",
       "      <td>yes</td>\n",
       "      <td>19/04/2000</td>\n",
       "      <td>500</td>\n",
       "      <td>50</td>\n",
       "      <td>8</td>\n",
       "      <td>1</td>\n",
       "      <td>12</td>\n",
       "      <td>-</td>\n",
       "      <td>-</td>\n",
       "    </tr>\n",
       "  </tbody>\n",
       "</table>\n",
       "</div>"
      ],
      "text/plain": [
       "           Timestamp          What programme are you in?  \\\n",
       "0  4-1-2025 12:17:07         MSc Artificial Intelligence   \n",
       "1  4-1-2025 12:17:14            Artificial Intelligence    \n",
       "2  4-1-2025 12:17:17                        Econometrics   \n",
       "3  4-1-2025 12:17:21         Econometrics - Data Science   \n",
       "4  4-1-2025 12:17:24  Bioinformatics’s & Systems Biology   \n",
       "\n",
       "  Have you taken a course on machine learning?  \\\n",
       "0                                          yes   \n",
       "1                                          yes   \n",
       "2                                          yes   \n",
       "3                                          yes   \n",
       "4                                          yes   \n",
       "\n",
       "  Have you taken a course on information retrieval?  \\\n",
       "0                                           unknown   \n",
       "1                                                 1   \n",
       "2                                                 1   \n",
       "3                                                 0   \n",
       "4                                                 1   \n",
       "\n",
       "  Have you taken a course on statistics?  \\\n",
       "0                                     mu   \n",
       "1                                  sigma   \n",
       "2                                     mu   \n",
       "3                                     mu   \n",
       "4                                     mu   \n",
       "\n",
       "  Have you taken a course on databases? What is your gender?  \\\n",
       "0                                    ja                 male   \n",
       "1                                    ja               female   \n",
       "2                                    ja                 male   \n",
       "3                                   nee                 male   \n",
       "4                                    ja                 male   \n",
       "\n",
       "  I have used ChatGPT to help me with some of my study assignments   \\\n",
       "0                                                yes                  \n",
       "1                                                yes                  \n",
       "2                                 not willing to say                  \n",
       "3                                                yes                  \n",
       "4                                                yes                  \n",
       "\n",
       "  When is your birthday (date)?  \\\n",
       "0                    01-01-1888   \n",
       "1                    31/01/2002   \n",
       "2                    September    \n",
       "3                    17/10/2003   \n",
       "4                    19/04/2000   \n",
       "\n",
       "  How many students do you estimate there are in the room?  \\\n",
       "0                                                400         \n",
       "1                                                321         \n",
       "2                                                200         \n",
       "3                                                350         \n",
       "4                                                500         \n",
       "\n",
       "  What is your stress level (0-100)?  \\\n",
       "0                                 78   \n",
       "1                               1000   \n",
       "2                                101   \n",
       "3                                 60   \n",
       "4                                 50   \n",
       "\n",
       "  How many hours per week do you do sports (in whole hours)?   \\\n",
       "0                                                  0            \n",
       "1                                                  2            \n",
       "2                                                  4            \n",
       "3                                                  6            \n",
       "4                                                  8            \n",
       "\n",
       "  Give a random number Time you went to bed Yesterday  \\\n",
       "0               928393                          00:00   \n",
       "1               31.416                          12:30   \n",
       "2                    5                           0:30   \n",
       "3                   37                          23:00   \n",
       "4                    1                             12   \n",
       "\n",
       "  What makes a good day for you (1)? What makes a good day for you (2)?  \n",
       "0                               Food                             Travel  \n",
       "1                                sun                             coffee  \n",
       "2                           Zonnetje                             Aperol  \n",
       "3                                Sun                                Sun  \n",
       "4                                  -                                  -  "
      ]
     },
     "execution_count": 1212,
     "metadata": {},
     "output_type": "execute_result"
    }
   ],
   "source": [
    "df = pd.read_csv(\"ODI-2025.csv\", sep=';') #I added sep = ';' because by defalut pandas\n",
    "#is trying to read the file assuming comma as the delimiter, and we have ;\n",
    "df.head() #printing the first 5 rows of the table "
   ]
  },
  {
   "cell_type": "markdown",
   "metadata": {},
   "source": [
    "As we can notice, the survey took place on first of april. Students were asked various questions, such as the program they are enrolled in, whether or not they took any machine learning, information retrieval or databases courses. Some personal information was asked as well, such as gender, date of birth, stress level, hours per week they spend on sports, time they went to bed and what makes them happy. Let us dive into exploring each column separately, to understand the data better. "
   ]
  },
  {
   "cell_type": "code",
   "execution_count": 1213,
   "metadata": {},
   "outputs": [
    {
     "data": {
      "text/plain": [
       "Index(['Timestamp', 'What programme are you in?',\n",
       "       'Have you taken a course on machine learning?',\n",
       "       'Have you taken a course on information retrieval?',\n",
       "       'Have you taken a course on statistics?',\n",
       "       'Have you taken a course on databases?', 'What is your gender?',\n",
       "       'I have used ChatGPT to help me with some of my study assignments ',\n",
       "       'When is your birthday (date)?',\n",
       "       'How many students do you estimate there are in the room?',\n",
       "       'What is your stress level (0-100)?',\n",
       "       'How many hours per week do you do sports (in whole hours)? ',\n",
       "       'Give a random number', 'Time you went to bed Yesterday',\n",
       "       'What makes a good day for you (1)?',\n",
       "       'What makes a good day for you (2)?'],\n",
       "      dtype='object')"
      ]
     },
     "execution_count": 1213,
     "metadata": {},
     "output_type": "execute_result"
    }
   ],
   "source": [
    "df.columns # Here we print all the possible column names, provided in the data set, in order to prevent typos. "
   ]
  },
  {
   "cell_type": "code",
   "execution_count": 1214,
   "metadata": {},
   "outputs": [
    {
     "name": "stdout",
     "output_type": "stream",
     "text": [
      "['MSc Artificial Intelligence' 'Artificial Intelligence ' 'Econometrics'\n",
      " 'Econometrics - Data Science' 'Bioinformatics’s & Systems Biology'\n",
      " 'computer science' 'Masters in AI' 'Ms cs' 'AI'\n",
      " 'Computer Science (joint degree)' 'NPN'\n",
      " 'Masters Artificial Intelligence ' 'Computer science' 'Computer Science'\n",
      " 'Artificial Intelligence' 'Master AI'\n",
      " 'Bioinformatics and systems biology ' 'Master’s Business Analytics'\n",
      " 'Artificial intelligence ' 'Masters in Artificial Intelligence'\n",
      " 'Computational Science ' 'Master econometrics' 'AI master'\n",
      " 'Artificial Intelligences' 'Msc AI' 'Master Artificial Intelligence'\n",
      " 'Computational Science' 'MSc in Finance and Technology'\n",
      " 'Master Computer Science' 'Human Language Technology' 'Master’s in AI'\n",
      " 'Quantitative Finance' 'Business analytics '\n",
      " 'Econometrics and operations research ' 'Master Artifical Intelligence'\n",
      " 'Security ' 'MSc Computer Science SEG' 'Business Analytics'\n",
      " 'Bioinformatics' 'CS' 'AI masters' 'Computational science'\n",
      " 'Econometrics ' 'Masters Computer Science' 'Computer Science ' 'Ai'\n",
      " 'Master AI (UvA)' 'Econometrics & Data Science' 'Comp sci'\n",
      " 'Msc International Public Health' 'Computer Science MSc.'\n",
      " 'MSc Computer Science' 'Ai master' 'Master Artificial Inteligence'\n",
      " 'Bioinformatics and system biology' 'Business analytics'\n",
      " 'computational science ' 'Bioinformatics and Systems Biology'\n",
      " 'bioinformatics' 'AI Master' 'Computer science '\n",
      " 'MSc Bioinformatics and Systems Biology' 'Mathematics'\n",
      " 'Duisenberg Honours Programme in Finance and Technology '\n",
      " 'Human Language Technology (RM)' 'Master Business Analytics'\n",
      " 'Finance and Technology'\n",
      " 'masters in computer science track: software engineering and green IT'\n",
      " 'Masters in AI (Health Track)' 'MSc. in Computer Science ' 'cs joint'\n",
      " 'M Artificial intelligence ' 'Artificial Intelligence master degree'\n",
      " 'Bioinformatics And Systems Biology' 'Master computational science'\n",
      " 'Master CS' 'Biomedical science' 'Big-Data Engineering'\n",
      " 'Bioinformatics and Systems Biology '\n",
      " 'Master. Computer science (bed) (joint degree)' 'computer science msc'\n",
      " 'EOR' 'computational science' 'Computer Science (SEG)'\n",
      " 'Humanities Research Master' 'Econometrics and Data Science' 'MSc in AI'\n",
      " 'MSc Finance: Finance and Technology Honoursprogramme' 'FinTech' 'Master'\n",
      " 'MSc Computer Science ' 'Masters in Artificial intelligence ' 'MSc AI'\n",
      " 'Master AI UvA' 'BioSB master' 'Bigidagoe Econometrics '\n",
      " 'Business Analytics master' 'MS Finance (Finance & Technology)'\n",
      " 'MSc Econometrics' 'Econometrics & operations research'\n",
      " 'Computer Science FCC' 'Msc Artificial intelligence '\n",
      " 'Master Econometrics and Operations Research' 'Green IT' 'BA'\n",
      " 'AI and Mathematics' 'Computer Science Msc' 'Master Econometrics'\n",
      " 'Master bioinformatics and Systems Biology'\n",
      " 'Masters Bioinfomatics and Systems biology' 'Masters AI'\n",
      " 'Artificial Intelligence M.Sc.' 'Master of AI'\n",
      " 'Masters in computer science' 'Big Data Engineering '\n",
      " 'Software Engineering and Green IT' 'Main track AI'\n",
      " 'B-123456789():;,.?-€/&@„_<|>#,{%^*+=•£$$< \\\\n\\\\+2332‘mm']\n"
     ]
    }
   ],
   "source": [
    "programs = df['What programme are you in?'].unique()\n",
    "print(programs)"
   ]
  },
  {
   "cell_type": "markdown",
   "metadata": {},
   "source": [
    "As we can notice, there are some implicit duplicates in data, for example, it is clear that 'computer science' and 'Computer science' and 'Computer Science MSc' correspond to the same degree. \n",
    "We can start cleaning this data by putting all the letters to lower case, and checking how many duplicates were eliminated. First lets print the number of unique elements before cleaning."
   ]
  },
  {
   "cell_type": "code",
   "execution_count": 1215,
   "metadata": {},
   "outputs": [
    {
     "name": "stdout",
     "output_type": "stream",
     "text": [
      "118\n"
     ]
    }
   ],
   "source": [
    "num_b4_cleaning = print(len(programs)) "
   ]
  },
  {
   "cell_type": "markdown",
   "metadata": {},
   "source": [
    "So, we see that there are for now 118 distinct programs that students are enrolled to. Lets try to get rid of implicit duplicates. Firstly, we will put all the data to lower case and delete the extra space between words. "
   ]
  },
  {
   "cell_type": "markdown",
   "metadata": {},
   "source": [
    "As we can notice, there are more implicit duplicates. Such as 'ai', 'ai master', artificial intellegence etc. We can of course merge it in one. "
   ]
  },
  {
   "cell_type": "code",
   "execution_count": 1216,
   "metadata": {},
   "outputs": [
    {
     "name": "stdout",
     "output_type": "stream",
     "text": [
      "What programme are you in?\n",
      "artificial intelligence                                    100\n",
      "computer science                                            36\n",
      "bioinformatics and systems biology                          21\n",
      "computational science                                       17\n",
      "business analytics                                          17\n",
      "econometrics                                                 9\n",
      "cs                                                           6\n",
      "finance and technology                                       6\n",
      "econometrics and operations research                         5\n",
      "econometrics and data science                                5\n",
      "master econometrics                                          2\n",
      "big data engineering                                         2\n",
      "human language technology                                    2\n",
      "software engineering and green it                            2\n",
      "msc econometrics                                             2\n",
      "security                                                     2\n",
      "bigidagoe econometrics                                       1\n",
      "master                                                       1\n",
      "humanities research master                                   1\n",
      "cs joint                                                     1\n",
      "master cs                                                    1\n",
      "npn                                                          1\n",
      "mathematics                                                  1\n",
      "msc international public health                              1\n",
      "ms cs                                                        1\n",
      "quantitative finance                                         1\n",
      "b 123456789():;,.? €/and@„_<|>#,{%^*+=•£$$< \\n\\+2332‘mm      1\n",
      "Name: count, dtype: int64\n"
     ]
    }
   ],
   "source": [
    "def group_program(name):\n",
    "    name = name.strip().lower().replace('&', 'and').replace('-', ' ') # Here we make the study name lower case and replace & with \"and\"\n",
    "\n",
    "    if 'artificial' in name or 'ai' in name or 'intelligence' in name:\n",
    "        return 'artificial intelligence'\n",
    "    elif 'computer science' in name or 'comp sci' in name:\n",
    "        return 'computer science'\n",
    "    elif 'bio' in name:\n",
    "        return 'bioinformatics and systems biology'\n",
    "    elif 'business analytics' in name or 'ba' in name:\n",
    "        return 'business analytics'\n",
    "    elif  'fintech' in name or 'finance' in name and 'technology' in name:\n",
    "        return 'finance and technology'\n",
    "    elif 'green' in name:\n",
    "        return 'software engineering and green it'\n",
    "    elif 'econometrics and operations research' in name or 'eor' in name:\n",
    "        return  'econometrics and operations research'\n",
    "    elif 'computational science' in name:\n",
    "        return 'computational science'\n",
    "    elif 'econometrics   data science' in name:\n",
    "        return 'econometrics and data science'\n",
    "    elif 'human language technology' in name:\n",
    "        return 'human language technology'\n",
    "    else:\n",
    "        return name \n",
    "    \n",
    "df['What programme are you in?']= df['What programme are you in?'].apply(group_program)\n",
    "\n",
    "print(df['What programme are you in?'].value_counts())\n"
   ]
  },
  {
   "cell_type": "code",
   "execution_count": 1217,
   "metadata": {},
   "outputs": [
    {
     "name": "stdout",
     "output_type": "stream",
     "text": [
      "27\n"
     ]
    }
   ],
   "source": [
    "print(len(df['What programme are you in?'].unique()))"
   ]
  },
  {
   "cell_type": "markdown",
   "metadata": {},
   "source": [
    "Now let us examine the answers to the whole boolean questions. "
   ]
  },
  {
   "cell_type": "code",
   "execution_count": 1218,
   "metadata": {},
   "outputs": [
    {
     "name": "stdout",
     "output_type": "stream",
     "text": [
      "['yes' 'no' 'unknown']\n"
     ]
    }
   ],
   "source": [
    "machine_learning = df['Have you taken a course on machine learning?'].unique()\n",
    "print(machine_learning)"
   ]
  },
  {
   "cell_type": "code",
   "execution_count": 1219,
   "metadata": {},
   "outputs": [
    {
     "name": "stdout",
     "output_type": "stream",
     "text": [
      "['unknown' '1' '0']\n"
     ]
    }
   ],
   "source": [
    "information_retrieval = df['Have you taken a course on information retrieval?'].unique()\n",
    "print(information_retrieval)"
   ]
  },
  {
   "cell_type": "code",
   "execution_count": 1220,
   "metadata": {},
   "outputs": [
    {
     "name": "stdout",
     "output_type": "stream",
     "text": [
      "['mu' 'sigma' 'unknown']\n"
     ]
    }
   ],
   "source": [
    "statistics = df['Have you taken a course on statistics?'].unique()\n",
    "print(statistics)"
   ]
  },
  {
   "cell_type": "code",
   "execution_count": 1221,
   "metadata": {},
   "outputs": [
    {
     "name": "stdout",
     "output_type": "stream",
     "text": [
      "['ja' 'nee' 'unknown']\n"
     ]
    }
   ],
   "source": [
    "database = df['Have you taken a course on databases?'].unique()\n",
    "print(database)"
   ]
  },
  {
   "cell_type": "code",
   "execution_count": 1222,
   "metadata": {},
   "outputs": [
    {
     "name": "stdout",
     "output_type": "stream",
     "text": [
      "['yes' 'not willing to say' 'no']\n"
     ]
    }
   ],
   "source": [
    "chatgpt = df['I have used ChatGPT to help me with some of my study assignments '].unique()\n",
    "print(chatgpt)"
   ]
  },
  {
   "cell_type": "markdown",
   "metadata": {},
   "source": [
    "Suggestion is to replace all positive values with yes and negative with no, not willing to say, we will replace with unknown. "
   ]
  },
  {
   "cell_type": "code",
   "execution_count": 1223,
   "metadata": {},
   "outputs": [],
   "source": [
    "df['Have you taken a course on information retrieval?'] = df['Have you taken a course on information retrieval?'].replace({\n",
    "    '1': 'yes',\n",
    "    '0': 'no',\n",
    "    'not willing to say': 'unknown'\n",
    "})\n",
    "\n",
    "df['Have you taken a course on statistics?'] = df['Have you taken a course on statistics?'].replace({\n",
    "    'mu': 'no',\n",
    "    'sigma': 'yes'  \n",
    "})\n",
    "df['Have you taken a course on databases?'] = df['Have you taken a course on databases?'].replace({\n",
    "    'ja': 'yes',\n",
    "    'nee': 'no',\n",
    "})\n",
    "df['I have used ChatGPT to help me with some of my study assignments '] = df['I have used ChatGPT to help me with some of my study assignments '].replace({\n",
    "    'not willing to say' : 'unkown'\n",
    "})"
   ]
  },
  {
   "cell_type": "markdown",
   "metadata": {},
   "source": [
    "Now lets fix the column with the birthday date. Firstly, we notice that sometimes people use DD-MM-YYYY for the date format, but sometimes they can also use DD.MM.YYYY or DD/MM/YYYY. Let us start by fixing this small issue.  Also later on, we decided to change here some texted months to their numbers, e.g January or June."
   ]
  },
  {
   "cell_type": "code",
   "execution_count": 1224,
   "metadata": {},
   "outputs": [
    {
     "name": "stdout",
     "output_type": "stream",
     "text": [
      "['01-01-1888', '31-01-2002', '09', '17-10-2003', '19-04-2000', 'Tomorrow', '25-10-1999', '1-april', '29-01-2001', '01082000', '19-10-1999', '1-1-1999', '01012000', '06-15-2001', '01', '27-02-2001', '10-05-1982', '16-12-1998', '23-06-2002', '10-08-2000', '30-12-2003', '11-August', 'Idk', '04-19-2000', '19-07-2003', '19-February', '19-05-2000', '09-14', '1999', '11-12-2001', '24-01-1999', '29-07-2000', '24-de-Diciembre', '01-06-2000', '11-11-00', '05-11-1997', '27-11-2002', '20-07-2001', '2000', '23-12-2002', '16-03-2002', '09-05-2002', '18-05-2003', '11-11-2002', '2000', '26', '29th-09-2001', '21-11-2002', '12ember-14th', '2001-09-16', '1997', '16-08-1996', '69-69-2069', '26-11-1998', '23-maart', '14-09-2000', '-', '20-05-2001', '28-12-1999', '01-16th', '23-05', '19-07-1997', '10-12-1994', '20-06', '30-09-2002', '01-01-1900', '23', '15-02', '13-03-2002', '08-10-2001', '21-10-2001', '10-12-1999', '21-06-2001', '28-02-2001', '28-06-2002', '10112000', '08031998', '01-9th', '28-05', '26-10-2001', '21-07-2002', 'not-today', '25-01-2003', '13-02', '15-02-2002', '02-04-2005', 'X', '21-03-2002', '04-February', '98-12-04', '-', 'Lol', '26-10-2001', '10-10', '22-01-2002', '20010831', '14-07-2003', '02-01-2001', '21052025', '05-01', '30-09-2002', 'Muhahahah', '07-08-1934', '22-08-1998', '09-11-2001', '26-07-2001', '20-09', '05082000', '04-04-2004', '20-08-2004', '03-04-2000', '25-10-2002', '11-04-1999', '1991-01-27', '1-1-2000', '09', 'November-1999', '25-12', '0000', '1997-21-01', '10-01-2000', '26', '07-232001', 'Mid-February', '14-02-1999', '26-04-2001', 'Aug-2000', '06-10', '02-09-2003', '24-02-2002', '23-07-2001', 'undisclosed', '31-01-1999', '12-12-1921', '05-12', '23-02', 'nonono', '20-09-2002', '03-10-2001', '09-10-2000', '11-01-2001', '11-6', '24th-november', '16-11-2001', '16-02-1999', '13-january', '28-06-2002', '20-01', '29-04-2002', '02-01-2003', 'de-vijftiende-dag-van-de-vierde-maand', '00-00-0000', '23-01-2001', '13-05-2000', '9-4', '12ember', '10-07', '03-01-2001', 'april-3rd', '07-02-1997', 'december', '20-07-2002', '01-09', '03-01-2000', '05-03-2001', '11-09-2002', '12ember-27', '18-11-2000', 'nan', '17-08-2001', '13-12-2003', '15-08-2000', '6-9-69', '04-10-2003', '18-01-2002', '18-02-2001', '25-06-2003', '25-08-2000', '23-12-2000', '30-01-2000', '20-01-2002', '23', '01-01-1998', '12-08,-2001', '09-5', '2003-07', '11-08-2002', '29-09', '05-05-2002', '04-10-2001', '28', '04-10-2001', '13-07-2001', '13', '19-january', '03-01-2003', '09-10-2002', '28-08-2000', '14-11-2003', '10', '06', '13-07', '01-01-2000', 'When-I-was-born', '18-05-2002', '10-01-2001', '07-12-2000', '19-08-2003', '02-10-2003', 'April-9th', '2-3-2003', '16-06', '9th-of-07', '22-10-2000', '10-1st-2002', '22-07-2000', '26-11', '1-1-1', '19-04-2000', '12-11-2001', '21-01-1999', '16-06-2001', '22-02', '01-01-2000', '08-10-1999', '22-09-2003', '2003-02-12-', '19-11-2002', '24-01-', '07-10-2002', '10-10-2002', '17-02-1992', '20-01-2000', '08-09', '05-06-2003', '20-02-2000', '-', '05-09-2001', '2003', '19000000', '083002', '09-01-2003', '27-08-2002', '2-5-2001', '-U+200B--1--0--0-0f--0,0d-Long-int-12-0-:0;']\n"
     ]
    }
   ],
   "source": [
    "df['When is your birthday (date)?'] = df[ 'When is your birthday (date)?'].astype(str).str.strip()\n",
    "replacements = {\n",
    "    '.': '-', \n",
    "    '/' : '-',\n",
    "    ' ': '-', \n",
    "    'January' : '01', \n",
    "    'augustus' : '08',\n",
    "    'Dec' : '12', \n",
    "    'October' : '10', \n",
    "    'juni' : '06', \n",
    "    'June' : '06', \n",
    "    'July' : '07',\n",
    "    'September' : '09',\n",
    "    '070' : '07' #We have noticed that one of the dates has a typo, eventho the whole date seems normal,\n",
    "     # but the month is clearly mistyped and should be july, so 07\n",
    "    \n",
    "\n",
    "}\n",
    "for old, new in replacements.items():\n",
    "    df['When is your birthday (date)?'] = df['When is your birthday (date)?'].str.replace(old, new, regex=False)\n",
    "print(df['When is your birthday (date)?'].to_list())"
   ]
  },
  {
   "cell_type": "markdown",
   "metadata": {},
   "source": [
    "Now, we have noticed that some of the students put their date of birth in the format DDMMYYYY or YYYYMMDD. Let us try to fix it. "
   ]
  },
  {
   "cell_type": "code",
   "execution_count": 1225,
   "metadata": {},
   "outputs": [],
   "source": [
    "# Ensure strings and clean whitespace\n",
    "col = 'When is your birthday (date)?'\n",
    "df[col] = df[col].astype(str).str.strip()\n",
    "\n",
    "# Mask: match 8-digit strings only\n",
    "is_eight_digits = df[col].str.match(r'^\\d{8}$')\n",
    "\n",
    "# Convert only those entries\n",
    "converted = pd.to_datetime(df.loc[is_eight_digits, col], format='%d%m%Y', errors='coerce')\n",
    "\n",
    "# Format to DD-MM-YYYY strings (skip NaT)\n",
    "df.loc[is_eight_digits & converted.notna(), col] = converted.dt.strftime('%d-%m-%Y')\n",
    "\n",
    "# Second type of 8-digit strings (starts with year)\n",
    "is_yyyymmdd = df[col].str.match(r'^\\d{8}$') & df[col].str.startswith(('19', '20'))\n",
    "\n",
    "converted2 = pd.to_datetime(df.loc[is_yyyymmdd, col], format='%Y%m%d', errors='coerce')\n",
    "df.loc[is_yyyymmdd & converted2.notna(), col] = converted2.dt.strftime('%d-%m-%Y')\n"
   ]
  },
  {
   "cell_type": "code",
   "execution_count": 1226,
   "metadata": {},
   "outputs": [],
   "source": [
    "# Here we will fix the dates of the type 1-1-1999. \n",
    "col = 'When is your birthday (date)?'\n",
    "\n",
    "# Try parsing everything that looks like a date with dashes (e.g. 1-1-1999)\n",
    "mask_dashed = df[col].str.match(r'^\\d{1,2}-\\d{1,2}-\\d{4}$')\n",
    "\n",
    "# Convert and reformat with zero-padding\n",
    "df.loc[mask_dashed, col] = pd.to_datetime(df.loc[mask_dashed, col], dayfirst=True, errors='coerce') \\\n",
    "                              .dt.strftime('%d-%m-%Y')\n"
   ]
  },
  {
   "cell_type": "code",
   "execution_count": 1227,
   "metadata": {},
   "outputs": [
    {
     "name": "stdout",
     "output_type": "stream",
     "text": [
      "['01-01-1888', '31-01-2002', '09', '17-10-2003', '19-04-2000', 'Tomorrow', '25-10-1999', '1-april', '29-01-2001', '01-08-2000', '19-10-1999', '01-01-1999', '01-01-2000', nan, '01', '27-02-2001', '10-05-1982', '16-12-1998', '23-06-2002', '10-08-2000', '30-12-2003', '11-August', 'Idk', nan, '19-07-2003', '19-February', '19-05-2000', '09-14', '1999', '11-12-2001', '24-01-1999', '29-07-2000', '24-de-Diciembre', '01-06-2000', '11-11-00', '05-11-1997', '27-11-2002', '20-07-2001', '2000', '23-12-2002', '16-03-2002', '09-05-2002', '18-05-2003', '11-11-2002', '2000', '26', '29th-09-2001', '21-11-2002', '12ember-14th', '2001-09-16', '1997', '16-08-1996', nan, '26-11-1998', '23-maart', '14-09-2000', '-', '20-05-2001', '28-12-1999', '01-16th', '23-05', '19-07-1997', '10-12-1994', '20-06', '30-09-2002', '01-01-1900', '23', '15-02', '13-03-2002', '08-10-2001', '21-10-2001', '10-12-1999', '21-06-2001', '28-02-2001', '28-06-2002', '10-11-2000', '08-03-1998', '01-9th', '28-05', '26-10-2001', '21-07-2002', 'not-today', '25-01-2003', '13-02', '15-02-2002', '02-04-2005', 'X', '21-03-2002', '04-February', '98-12-04', '-', 'Lol', '26-10-2001', '10-10', '22-01-2002', '31-08-2001', '14-07-2003', '02-01-2001', '21-05-2025', '05-01', '30-09-2002', 'Muhahahah', '07-08-1934', '22-08-1998', '09-11-2001', '26-07-2001', '20-09', '05-08-2000', '04-04-2004', '20-08-2004', '03-04-2000', '25-10-2002', '11-04-1999', '1991-01-27', '01-01-2000', '09', 'November-1999', '25-12', '0000', '1997-21-01', '10-01-2000', '26', '07-232001', 'Mid-February', '14-02-1999', '26-04-2001', 'Aug-2000', '06-10', '02-09-2003', '24-02-2002', '23-07-2001', 'undisclosed', '31-01-1999', '12-12-1921', '05-12', '23-02', 'nonono', '20-09-2002', '03-10-2001', '09-10-2000', '11-01-2001', '11-6', '24th-november', '16-11-2001', '16-02-1999', '13-january', '28-06-2002', '20-01', '29-04-2002', '02-01-2003', 'de-vijftiende-dag-van-de-vierde-maand', nan, '23-01-2001', '13-05-2000', '9-4', '12ember', '10-07', '03-01-2001', 'april-3rd', '07-02-1997', 'december', '20-07-2002', '01-09', '03-01-2000', '05-03-2001', '11-09-2002', '12ember-27', '18-11-2000', 'nan', '17-08-2001', '13-12-2003', '15-08-2000', '6-9-69', '04-10-2003', '18-01-2002', '18-02-2001', '25-06-2003', '25-08-2000', '23-12-2000', '30-01-2000', '20-01-2002', '23', '01-01-1998', '12-08,-2001', '09-5', '2003-07', '11-08-2002', '29-09', '05-05-2002', '04-10-2001', '28', '04-10-2001', '13-07-2001', '13', '19-january', '03-01-2003', '09-10-2002', '28-08-2000', '14-11-2003', '10', '06', '13-07', '01-01-2000', 'When-I-was-born', '18-05-2002', '10-01-2001', '07-12-2000', '19-08-2003', '02-10-2003', 'April-9th', '02-03-2003', '16-06', '9th-of-07', '22-10-2000', '10-1st-2002', '22-07-2000', '26-11', '1-1-1', '19-04-2000', '12-11-2001', '21-01-1999', '16-06-2001', '22-02', '01-01-2000', '08-10-1999', '22-09-2003', '2003-02-12-', '19-11-2002', '24-01-', '07-10-2002', '10-10-2002', '17-02-1992', '20-01-2000', '08-09', '05-06-2003', '20-02-2000', '-', '05-09-2001', '2003', '19000000', '083002', '09-01-2003', '27-08-2002', '02-05-2001', '-U+200B--1--0--0-0f--0,0d-Long-int-12-0-:0;']\n"
     ]
    }
   ],
   "source": [
    "print(df['When is your birthday (date)?'].to_list())"
   ]
  },
  {
   "cell_type": "code",
   "execution_count": 1228,
   "metadata": {},
   "outputs": [
    {
     "name": "stdout",
     "output_type": "stream",
     "text": [
      "['01-01-1888', '31-01-2002', '09', '17-10-2003', '19-04-2000', 'Tomorrow', '25-10-1999', '1-april', '29-01-2001', '01-08-2000', '19-10-1999', '01-01-1999', '01-01-2000', nan, '01', '27-02-2001', '10-05-1982', '16-12-1998', '23-06-2002', '10-08-2000', '30-12-2003', '11-August', 'Idk', nan, '19-07-2003', '19-February', '19-05-2000', '09-14', '1999', '11-12-2001', '24-01-1999', '29-07-2000', '24-de-Diciembre', '01-06-2000', '11-11-00', '05-11-1997', '27-11-2002', '20-07-2001', '2000', '23-12-2002', '16-03-2002', '09-05-2002', '18-05-2003', '11-11-2002', '2000', '26', '29th-09-2001', '21-11-2002', '12ember-14th', '2001-09-16', '1997', '16-08-1996', nan, '26-11-1998', '23-maart', '14-09-2000', '-', '20-05-2001', '28-12-1999', '01-16th', '23-05', '19-07-1997', '10-12-1994', '20-06', '30-09-2002', '01-01-1900', '23', '15-02', '13-03-2002', '08-10-2001', '21-10-2001', '10-12-1999', '21-06-2001', '28-02-2001', '28-06-2002', '10-11-2000', '08-03-1998', '01-9th', '28-05', '26-10-2001', '21-07-2002', 'not-today', '25-01-2003', '13-02', '15-02-2002', '02-04-2005', 'X', '21-03-2002', '04-February', '98-12-04', '-', 'Lol', '26-10-2001', '10-10', '22-01-2002', '31-08-2001', '14-07-2003', '02-01-2001', '21-05-2025', '05-01', '30-09-2002', 'Muhahahah', '07-08-1934', '22-08-1998', '09-11-2001', '26-07-2001', '20-09', '05-08-2000', '04-04-2004', '20-08-2004', '03-04-2000', '25-10-2002', '11-04-1999', '1991-01-27', '01-01-2000', '09', 'November-1999', '25-12', '0000', '1997-21-01', '10-01-2000', '26', '07-232001', 'Mid-February', '14-02-1999', '26-04-2001', 'Aug-2000', '06-10', '02-09-2003', '24-02-2002', '23-07-2001', 'undisclosed', '31-01-1999', '12-12-1921', '05-12', '23-02', 'nonono', '20-09-2002', '03-10-2001', '09-10-2000', '11-01-2001', '11-6', '24th-november', '16-11-2001', '16-02-1999', '13-january', '28-06-2002', '20-01', '29-04-2002', '02-01-2003', 'de-vijftiende-dag-van-de-vierde-maand', nan, '23-01-2001', '13-05-2000', '9-4', '12ember', '10-07', '03-01-2001', 'april-3rd', '07-02-1997', 'december', '20-07-2002', '01-09', '03-01-2000', '05-03-2001', '11-09-2002', '12ember-27', '18-11-2000', 'nan', '17-08-2001', '13-12-2003', '15-08-2000', '6-9-69', '04-10-2003', '18-01-2002', '18-02-2001', '25-06-2003', '25-08-2000', '23-12-2000', '30-01-2000', '20-01-2002', '23', '01-01-1998', '12-08,-2001', '09-5', '2003-07', '11-08-2002', '29-09', '05-05-2002', '04-10-2001', '28', '04-10-2001', '13-07-2001', '13', '19-january', '03-01-2003', '09-10-2002', '28-08-2000', '14-11-2003', '10', '06', '13-07', '01-01-2000', 'When-I-was-born', '18-05-2002', '10-01-2001', '07-12-2000', '19-08-2003', '02-10-2003', 'April-9th', '02-03-2003', '16-06', '9th-of-07', '22-10-2000', '10-1st-2002', '22-07-2000', '26-11', '1-1-1', '19-04-2000', '12-11-2001', '21-01-1999', '16-06-2001', '22-02', '01-01-2000', '08-10-1999', '22-09-2003', '2003-02-12-', '19-11-2002', '24-01-', '07-10-2002', '10-10-2002', '17-02-1992', '20-01-2000', '08-09', '05-06-2003', '20-02-2000', '-', '05-09-2001', '2003', '19000000', '083002', '09-01-2003', '27-08-2002', '02-05-2001', '-U+200B--1--0--0-0f--0,0d-Long-int-12-0-:0;']\n"
     ]
    }
   ],
   "source": [
    "# Create a new parsed column\n",
    "df['birthday_parsed'] = pd.NaT  # start with all NaT\n",
    "\n",
    "# ddmmyyyy\n",
    "df.loc[is_ddmmyyyy, 'birthday_parsed'] = pd.to_datetime(\n",
    "    df.loc[is_ddmmyyyy, col], format='%d%m%Y', errors='coerce'\n",
    ")\n",
    "\n",
    "# yyyymmdd\n",
    "df.loc[is_yyyymmdd, 'birthday_parsed'] = pd.to_datetime(\n",
    "    df.loc[is_yyyymmdd, col], format='%Y%m%d', errors='coerce'\n",
    ")\n",
    "print(df['When is your birthday (date)?'].to_list())\n",
    "\n",
    "# Delete unnecerary column\n",
    "df.drop(columns=['birthday_parsed'], inplace=True)\n"
   ]
  },
  {
   "cell_type": "markdown",
   "metadata": {},
   "source": [
    "Now, lets move on to the stress-level column. "
   ]
  },
  {
   "cell_type": "code",
   "execution_count": 1229,
   "metadata": {},
   "outputs": [
    {
     "name": "stdout",
     "output_type": "stream",
     "text": [
      "-10000.0\n",
      "2.14748365e+18\n",
      "9023460714286198.0\n"
     ]
    }
   ],
   "source": [
    "df['What is your stress level (0-100)?'] = pd.to_numeric(df['What is your stress level (0-100)?'], errors='coerce')\n",
    "min_stress = df['What is your stress level (0-100)?'].min()\n",
    "max_stress = df['What is your stress level (0-100)?'].max()\n",
    "mean_stress =  df['What is your stress level (0-100)?'].mean()\n",
    "print(min_stress)\n",
    "print(max_stress)\n",
    "print(mean_stress)"
   ]
  },
  {
   "cell_type": "markdown",
   "metadata": {},
   "source": [
    "As we can notice, many records were given outside of the possible interval.  (DECIDE WHAT TO DO W IT (DELETE EVERYTHING OTSIDE 0-100? REPLACE OUTSIDERES WITH POSSIBLE MIN/MAX))"
   ]
  },
  {
   "cell_type": "markdown",
   "metadata": {},
   "source": [
    "Let's move on to gender."
   ]
  },
  {
   "cell_type": "code",
   "execution_count": 1230,
   "metadata": {},
   "outputs": [
    {
     "name": "stdout",
     "output_type": "stream",
     "text": [
      "['male' 'female' 'gender fluid' 'not willing to answer' 'intersex'\n",
      " 'non-binary' 'other']\n"
     ]
    }
   ],
   "source": [
    "print(df['What is your gender?'].unique())"
   ]
  },
  {
   "cell_type": "markdown",
   "metadata": {},
   "source": [
    "Nothing wrong here. We will move on to the time people go to sleep."
   ]
  },
  {
   "cell_type": "code",
   "execution_count": 1231,
   "metadata": {},
   "outputs": [
    {
     "name": "stdout",
     "output_type": "stream",
     "text": [
      "['00:00' '12:30' '0:30' '23:00' '12' '5am' '12:00' '12am' '10:37' '0200'\n",
      " '11 pm' '23h45' '9 am' '9' '2 am' '01.00' '23.30' '23:16' '2' '1:00'\n",
      " '23.00' '1 am' '12:30 PM' '23:30' '00:30' '0.30' '1:00 am' '23:57'\n",
      " '05:00' '4:00' '22:30' '00:45' '01:30' '23:40' '3' '2am' '1am' '2:00'\n",
      " '23:59' '01:00' '04:00' '23-00' '4am' '00.30' '2.30' '1 AM' '12:00 pm'\n",
      " '22.00' '5' '11' '12:30am' '2300' '2 pm' '23' '23:55' '23:45' '1:30am'\n",
      " '12:34' '1' '00:40' '1:30' '12:45' '11:35' '23:25' '21:45' '7pm'\n",
      " '11:33 PM' '22:40' 'Midnight' '3AM' '03:00' '3am' '01:23' '8' '00:31'\n",
      " '3:54' '3 AM x)' '02:00' '11:30pm' '22:00' '5:00am' '12.30'\n",
      " 'around midnight' '23u30' '1.22am' '0:00' '3:00 ' '3:00' '4' '1:03 '\n",
      " '00:10' '1:37' '11:00' '12.00' '00:30 AM' '00.15' '11:34' '5 AM' '00:33'\n",
      " '00:15' '4:30' '22:45' '9:30' '23:15' '02:15' '21.30' '12.30am' '21:30'\n",
      " '10' '00:54' '1743502757' '0 AD ']\n"
     ]
    }
   ],
   "source": [
    "# Printing all distinct values\n",
    "print(df['Time you went to bed Yesterday'].unique())\n"
   ]
  },
  {
   "cell_type": "code",
   "execution_count": 1232,
   "metadata": {},
   "outputs": [
    {
     "name": "stdout",
     "output_type": "stream",
     "text": [
      "['00:00' '12:30' '00:30' '23:00' nan '12:00' '10:37' '23:16' '01:00'\n",
      " '23:30' '23:57' '05:00' '04:00' '22:30' '00:45' '01:30' '23:40' '02:00'\n",
      " '23:59' '23:55' '23:45' '12:34' '00:40' '12:45' '11:35' '23:25' '21:45'\n",
      " '23:33' '22:40' '03:00' '01:23' '00:31' '03:54' '22:00' '01:03' '00:10'\n",
      " '01:37' '11:00' '11:34' '00:33' '00:15' '04:30' '22:45' '09:30' '23:15'\n",
      " '02:15' '21:30' '00:54']\n"
     ]
    }
   ],
   "source": [
    "# Normalize text\n",
    "col = 'Time you went to bed Yesterday'\n",
    "df[col] = df[col].astype(str).str.strip().str.lower().str.replace(' ', '', regex=False)\n",
    "\n",
    "# Now lets do some visible replacements.\n",
    "replacements = {\n",
    "    'midnight': '00:00',\n",
    "    'aroundmidnight': '00:00',\n",
    "    'noon': '12:00',\n",
    "    'a.m.': 'am',\n",
    "    'p.m.': 'pm',\n",
    "    'amx': 'am',\n",
    "    '0ad': '',\n",
    "}\n",
    "\n",
    "for old, new in replacements.items():\n",
    "    df[col] = df[col].str.replace(old, new, regex=False)\n",
    "\n",
    "# Parse 12-hour (AM/PM) format\n",
    "parsed = pd.to_datetime(df[col], format='%I:%M%p', errors='coerce')\n",
    "\n",
    "#  Fill in unparsed with 24-hour format\n",
    "mask_unparsed = parsed.isna()\n",
    "parsed_24 = pd.to_datetime(df.loc[mask_unparsed, col], format='%H:%M', errors='coerce')\n",
    "parsed.loc[mask_unparsed] = parsed_24\n",
    "\n",
    "# Format back to HH:MM and write to same column\n",
    "df[col] = parsed.dt.strftime('%H:%M')\n",
    "\n",
    "#Print the rsult \n",
    "print(df[col].unique())\n"
   ]
  },
  {
   "cell_type": "code",
   "execution_count": 1233,
   "metadata": {},
   "outputs": [
    {
     "data": {
      "text/html": [
       "<div>\n",
       "<style scoped>\n",
       "    .dataframe tbody tr th:only-of-type {\n",
       "        vertical-align: middle;\n",
       "    }\n",
       "\n",
       "    .dataframe tbody tr th {\n",
       "        vertical-align: top;\n",
       "    }\n",
       "\n",
       "    .dataframe thead th {\n",
       "        text-align: right;\n",
       "    }\n",
       "</style>\n",
       "<table border=\"1\" class=\"dataframe\">\n",
       "  <thead>\n",
       "    <tr style=\"text-align: right;\">\n",
       "      <th></th>\n",
       "      <th>Timestamp</th>\n",
       "      <th>What programme are you in?</th>\n",
       "      <th>Have you taken a course on machine learning?</th>\n",
       "      <th>Have you taken a course on information retrieval?</th>\n",
       "      <th>Have you taken a course on statistics?</th>\n",
       "      <th>Have you taken a course on databases?</th>\n",
       "      <th>What is your gender?</th>\n",
       "      <th>I have used ChatGPT to help me with some of my study assignments</th>\n",
       "      <th>When is your birthday (date)?</th>\n",
       "      <th>How many students do you estimate there are in the room?</th>\n",
       "      <th>What is your stress level (0-100)?</th>\n",
       "      <th>How many hours per week do you do sports (in whole hours)?</th>\n",
       "      <th>Give a random number</th>\n",
       "      <th>Time you went to bed Yesterday</th>\n",
       "      <th>What makes a good day for you (1)?</th>\n",
       "      <th>What makes a good day for you (2)?</th>\n",
       "    </tr>\n",
       "  </thead>\n",
       "  <tbody>\n",
       "    <tr>\n",
       "      <th>0</th>\n",
       "      <td>4-1-2025 12:17:07</td>\n",
       "      <td>artificial intelligence</td>\n",
       "      <td>yes</td>\n",
       "      <td>unknown</td>\n",
       "      <td>no</td>\n",
       "      <td>yes</td>\n",
       "      <td>male</td>\n",
       "      <td>yes</td>\n",
       "      <td>01-01-1888</td>\n",
       "      <td>400</td>\n",
       "      <td>78.0</td>\n",
       "      <td>0</td>\n",
       "      <td>928393</td>\n",
       "      <td>00:00</td>\n",
       "      <td>Food</td>\n",
       "      <td>Travel</td>\n",
       "    </tr>\n",
       "    <tr>\n",
       "      <th>1</th>\n",
       "      <td>4-1-2025 12:17:14</td>\n",
       "      <td>artificial intelligence</td>\n",
       "      <td>yes</td>\n",
       "      <td>yes</td>\n",
       "      <td>yes</td>\n",
       "      <td>yes</td>\n",
       "      <td>female</td>\n",
       "      <td>yes</td>\n",
       "      <td>31-01-2002</td>\n",
       "      <td>321</td>\n",
       "      <td>1000.0</td>\n",
       "      <td>2</td>\n",
       "      <td>31.416</td>\n",
       "      <td>12:30</td>\n",
       "      <td>sun</td>\n",
       "      <td>coffee</td>\n",
       "    </tr>\n",
       "    <tr>\n",
       "      <th>2</th>\n",
       "      <td>4-1-2025 12:17:17</td>\n",
       "      <td>econometrics</td>\n",
       "      <td>yes</td>\n",
       "      <td>yes</td>\n",
       "      <td>no</td>\n",
       "      <td>yes</td>\n",
       "      <td>male</td>\n",
       "      <td>unkown</td>\n",
       "      <td>09</td>\n",
       "      <td>200</td>\n",
       "      <td>101.0</td>\n",
       "      <td>4</td>\n",
       "      <td>5</td>\n",
       "      <td>00:30</td>\n",
       "      <td>Zonnetje</td>\n",
       "      <td>Aperol</td>\n",
       "    </tr>\n",
       "    <tr>\n",
       "      <th>3</th>\n",
       "      <td>4-1-2025 12:17:21</td>\n",
       "      <td>econometrics and data science</td>\n",
       "      <td>yes</td>\n",
       "      <td>no</td>\n",
       "      <td>no</td>\n",
       "      <td>no</td>\n",
       "      <td>male</td>\n",
       "      <td>yes</td>\n",
       "      <td>17-10-2003</td>\n",
       "      <td>350</td>\n",
       "      <td>60.0</td>\n",
       "      <td>6</td>\n",
       "      <td>37</td>\n",
       "      <td>23:00</td>\n",
       "      <td>Sun</td>\n",
       "      <td>Sun</td>\n",
       "    </tr>\n",
       "    <tr>\n",
       "      <th>4</th>\n",
       "      <td>4-1-2025 12:17:24</td>\n",
       "      <td>bioinformatics and systems biology</td>\n",
       "      <td>yes</td>\n",
       "      <td>yes</td>\n",
       "      <td>no</td>\n",
       "      <td>yes</td>\n",
       "      <td>male</td>\n",
       "      <td>yes</td>\n",
       "      <td>19-04-2000</td>\n",
       "      <td>500</td>\n",
       "      <td>50.0</td>\n",
       "      <td>8</td>\n",
       "      <td>1</td>\n",
       "      <td>NaN</td>\n",
       "      <td>-</td>\n",
       "      <td>-</td>\n",
       "    </tr>\n",
       "    <tr>\n",
       "      <th>5</th>\n",
       "      <td>4-1-2025 12:17:26</td>\n",
       "      <td>econometrics</td>\n",
       "      <td>no</td>\n",
       "      <td>unknown</td>\n",
       "      <td>no</td>\n",
       "      <td>no</td>\n",
       "      <td>gender fluid</td>\n",
       "      <td>unkown</td>\n",
       "      <td>Tomorrow</td>\n",
       "      <td>467</td>\n",
       "      <td>NaN</td>\n",
       "      <td>8</td>\n",
       "      <td>0</td>\n",
       "      <td>NaN</td>\n",
       "      <td>Chocolate</td>\n",
       "      <td>Bitterballen</td>\n",
       "    </tr>\n",
       "    <tr>\n",
       "      <th>6</th>\n",
       "      <td>4-1-2025 12:17:26</td>\n",
       "      <td>econometrics</td>\n",
       "      <td>no</td>\n",
       "      <td>no</td>\n",
       "      <td>no</td>\n",
       "      <td>yes</td>\n",
       "      <td>female</td>\n",
       "      <td>yes</td>\n",
       "      <td>25-10-1999</td>\n",
       "      <td>500</td>\n",
       "      <td>60.0</td>\n",
       "      <td>4</td>\n",
       "      <td>4</td>\n",
       "      <td>12:00</td>\n",
       "      <td>Sun</td>\n",
       "      <td>Good food</td>\n",
       "    </tr>\n",
       "    <tr>\n",
       "      <th>7</th>\n",
       "      <td>4-1-2025 12:17:27</td>\n",
       "      <td>computer science</td>\n",
       "      <td>yes</td>\n",
       "      <td>no</td>\n",
       "      <td>yes</td>\n",
       "      <td>yes</td>\n",
       "      <td>male</td>\n",
       "      <td>unkown</td>\n",
       "      <td>1-april</td>\n",
       "      <td>400</td>\n",
       "      <td>30.0</td>\n",
       "      <td>1</td>\n",
       "      <td>6656678</td>\n",
       "      <td>NaN</td>\n",
       "      <td>good food</td>\n",
       "      <td>good grade</td>\n",
       "    </tr>\n",
       "    <tr>\n",
       "      <th>8</th>\n",
       "      <td>4-1-2025 12:17:28</td>\n",
       "      <td>artificial intelligence</td>\n",
       "      <td>no</td>\n",
       "      <td>no</td>\n",
       "      <td>no</td>\n",
       "      <td>yes</td>\n",
       "      <td>female</td>\n",
       "      <td>yes</td>\n",
       "      <td>29-01-2001</td>\n",
       "      <td>500</td>\n",
       "      <td>60.0</td>\n",
       "      <td>3</td>\n",
       "      <td>888</td>\n",
       "      <td>10:37</td>\n",
       "      <td>Sun1</td>\n",
       "      <td>Sun2</td>\n",
       "    </tr>\n",
       "    <tr>\n",
       "      <th>9</th>\n",
       "      <td>4-1-2025 12:17:30</td>\n",
       "      <td>ms cs</td>\n",
       "      <td>no</td>\n",
       "      <td>no</td>\n",
       "      <td>no</td>\n",
       "      <td>yes</td>\n",
       "      <td>gender fluid</td>\n",
       "      <td>unkown</td>\n",
       "      <td>01-08-2000</td>\n",
       "      <td>200</td>\n",
       "      <td>70.0</td>\n",
       "      <td>1</td>\n",
       "      <td>420420420420420420</td>\n",
       "      <td>NaN</td>\n",
       "      <td>Work done good</td>\n",
       "      <td>Then smoke weed</td>\n",
       "    </tr>\n",
       "  </tbody>\n",
       "</table>\n",
       "</div>"
      ],
      "text/plain": [
       "           Timestamp          What programme are you in?  \\\n",
       "0  4-1-2025 12:17:07             artificial intelligence   \n",
       "1  4-1-2025 12:17:14             artificial intelligence   \n",
       "2  4-1-2025 12:17:17                        econometrics   \n",
       "3  4-1-2025 12:17:21       econometrics and data science   \n",
       "4  4-1-2025 12:17:24  bioinformatics and systems biology   \n",
       "5  4-1-2025 12:17:26                        econometrics   \n",
       "6  4-1-2025 12:17:26                        econometrics   \n",
       "7  4-1-2025 12:17:27                    computer science   \n",
       "8  4-1-2025 12:17:28             artificial intelligence   \n",
       "9  4-1-2025 12:17:30                               ms cs   \n",
       "\n",
       "  Have you taken a course on machine learning?  \\\n",
       "0                                          yes   \n",
       "1                                          yes   \n",
       "2                                          yes   \n",
       "3                                          yes   \n",
       "4                                          yes   \n",
       "5                                           no   \n",
       "6                                           no   \n",
       "7                                          yes   \n",
       "8                                           no   \n",
       "9                                           no   \n",
       "\n",
       "  Have you taken a course on information retrieval?  \\\n",
       "0                                           unknown   \n",
       "1                                               yes   \n",
       "2                                               yes   \n",
       "3                                                no   \n",
       "4                                               yes   \n",
       "5                                           unknown   \n",
       "6                                                no   \n",
       "7                                                no   \n",
       "8                                                no   \n",
       "9                                                no   \n",
       "\n",
       "  Have you taken a course on statistics?  \\\n",
       "0                                     no   \n",
       "1                                    yes   \n",
       "2                                     no   \n",
       "3                                     no   \n",
       "4                                     no   \n",
       "5                                     no   \n",
       "6                                     no   \n",
       "7                                    yes   \n",
       "8                                     no   \n",
       "9                                     no   \n",
       "\n",
       "  Have you taken a course on databases? What is your gender?  \\\n",
       "0                                   yes                 male   \n",
       "1                                   yes               female   \n",
       "2                                   yes                 male   \n",
       "3                                    no                 male   \n",
       "4                                   yes                 male   \n",
       "5                                    no         gender fluid   \n",
       "6                                   yes               female   \n",
       "7                                   yes                 male   \n",
       "8                                   yes               female   \n",
       "9                                   yes         gender fluid   \n",
       "\n",
       "  I have used ChatGPT to help me with some of my study assignments   \\\n",
       "0                                                yes                  \n",
       "1                                                yes                  \n",
       "2                                             unkown                  \n",
       "3                                                yes                  \n",
       "4                                                yes                  \n",
       "5                                             unkown                  \n",
       "6                                                yes                  \n",
       "7                                             unkown                  \n",
       "8                                                yes                  \n",
       "9                                             unkown                  \n",
       "\n",
       "  When is your birthday (date)?  \\\n",
       "0                    01-01-1888   \n",
       "1                    31-01-2002   \n",
       "2                            09   \n",
       "3                    17-10-2003   \n",
       "4                    19-04-2000   \n",
       "5                      Tomorrow   \n",
       "6                    25-10-1999   \n",
       "7                       1-april   \n",
       "8                    29-01-2001   \n",
       "9                    01-08-2000   \n",
       "\n",
       "  How many students do you estimate there are in the room?  \\\n",
       "0                                                400         \n",
       "1                                                321         \n",
       "2                                                200         \n",
       "3                                                350         \n",
       "4                                                500         \n",
       "5                                                467         \n",
       "6                                                500         \n",
       "7                                                400         \n",
       "8                                                500         \n",
       "9                                                200         \n",
       "\n",
       "   What is your stress level (0-100)?  \\\n",
       "0                                78.0   \n",
       "1                              1000.0   \n",
       "2                               101.0   \n",
       "3                                60.0   \n",
       "4                                50.0   \n",
       "5                                 NaN   \n",
       "6                                60.0   \n",
       "7                                30.0   \n",
       "8                                60.0   \n",
       "9                                70.0   \n",
       "\n",
       "  How many hours per week do you do sports (in whole hours)?   \\\n",
       "0                                                  0            \n",
       "1                                                  2            \n",
       "2                                                  4            \n",
       "3                                                  6            \n",
       "4                                                  8            \n",
       "5                                                  8            \n",
       "6                                                  4            \n",
       "7                                                  1            \n",
       "8                                                  3            \n",
       "9                                                  1            \n",
       "\n",
       "  Give a random number Time you went to bed Yesterday  \\\n",
       "0               928393                          00:00   \n",
       "1               31.416                          12:30   \n",
       "2                    5                          00:30   \n",
       "3                   37                          23:00   \n",
       "4                    1                            NaN   \n",
       "5                    0                            NaN   \n",
       "6                    4                          12:00   \n",
       "7              6656678                            NaN   \n",
       "8                  888                          10:37   \n",
       "9   420420420420420420                            NaN   \n",
       "\n",
       "  What makes a good day for you (1)? What makes a good day for you (2)?  \n",
       "0                               Food                             Travel  \n",
       "1                                sun                             coffee  \n",
       "2                           Zonnetje                             Aperol  \n",
       "3                                Sun                                Sun  \n",
       "4                                  -                                  -  \n",
       "5                          Chocolate                       Bitterballen  \n",
       "6                                Sun                          Good food  \n",
       "7                          good food                         good grade  \n",
       "8                               Sun1                               Sun2  \n",
       "9                     Work done good                    Then smoke weed  "
      ]
     },
     "execution_count": 1233,
     "metadata": {},
     "output_type": "execute_result"
    }
   ],
   "source": [
    "df.head(10)"
   ]
  },
  {
   "cell_type": "code",
   "execution_count": null,
   "metadata": {},
   "outputs": [],
   "source": []
  }
 ],
 "metadata": {
  "kernelspec": {
   "display_name": "Python 3",
   "language": "python",
   "name": "python3"
  },
  "language_info": {
   "codemirror_mode": {
    "name": "ipython",
    "version": 3
   },
   "file_extension": ".py",
   "mimetype": "text/x-python",
   "name": "python",
   "nbconvert_exporter": "python",
   "pygments_lexer": "ipython3",
   "version": "3.12.3"
  }
 },
 "nbformat": 4,
 "nbformat_minor": 2
}
